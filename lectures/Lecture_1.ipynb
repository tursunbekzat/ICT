{
  "cells": [
    {
      "cell_type": "markdown",
      "metadata": {
        "id": "D5CPUozP9Z2G"
      },
      "source": [
        "# This is a Python file\n"
      ]
    },
    {
      "cell_type": "code",
      "execution_count": null,
      "metadata": {
        "colab": {
          "base_uri": "https://localhost:8080/"
        },
        "id": "NgbMYK779WWF",
        "outputId": "12c729fd-dda5-4b2b-f61c-ed71c9159db7"
      },
      "outputs": [
        {
          "name": "stdout",
          "output_type": "stream",
          "text": [
            "hello\n"
          ]
        }
      ],
      "source": [
        "print('hello')"
      ]
    },
    {
      "cell_type": "markdown",
      "metadata": {
        "id": "_8qfOHrZ9ZCG"
      },
      "source": [
        "# Lecture 1: My first code"
      ]
    },
    {
      "cell_type": "markdown",
      "metadata": {
        "id": "4AOanTTB99ht"
      },
      "source": [
        "A comment in python: # for one line or ''' ... ''' or \"\"\"...\"\"\" for several lines"
      ]
    },
    {
      "cell_type": "code",
      "execution_count": null,
      "metadata": {
        "colab": {
          "base_uri": "https://localhost:8080/"
        },
        "id": "JXNzx5qP95w6",
        "outputId": "33d2357a-54f1-41f5-ed85-7bc0a996b1d9"
      },
      "outputs": [
        {
          "name": "stdout",
          "output_type": "stream",
          "text": [
            "hello\n",
            "hello again\n",
            "again\n"
          ]
        }
      ],
      "source": [
        "#Print hello:\n",
        "print('hello') #my code\n",
        "'''\n",
        "this a coment\n",
        "on several lines\n",
        "'''\n",
        "print('hello again')\n",
        "\"\"\"\n",
        "again\n",
        "on sveral alines\n",
        "\"\"\"\n",
        "print('again')"
      ]
    },
    {
      "cell_type": "markdown",
      "metadata": {
        "id": "ZaX0GoRF-FCC"
      },
      "source": [
        "The print function to display information in the console/terminal"
      ]
    },
    {
      "cell_type": "code",
      "execution_count": null,
      "metadata": {
        "colab": {
          "base_uri": "https://localhost:8080/"
        },
        "id": "ZahD9VYq-JSd",
        "outputId": "cc0aac97-15d9-4109-903b-faca8f5b819c"
      },
      "outputs": [
        {
          "name": "stdout",
          "output_type": "stream",
          "text": [
            "hello world\n",
            "a nex line after the print\n",
            "stille just one new line\n"
          ]
        }
      ],
      "source": [
        "print('hello world')\n",
        "print('a nex line after the print')\n",
        "\n",
        "\n",
        "\n",
        "print('stille just one new line')"
      ]
    },
    {
      "cell_type": "code",
      "execution_count": null,
      "metadata": {
        "colab": {
          "base_uri": "https://localhost:8080/"
        },
        "id": "vlmZVychaGJR",
        "outputId": "a04b5921-02e0-47ac-9fe1-82f3473826c2"
      },
      "outputs": [
        {
          "name": "stdout",
          "output_type": "stream",
          "text": [
            "hello\n",
            "5\n",
            "5\n",
            "30\n"
          ]
        }
      ],
      "source": [
        "print('hello')\n",
        "print(5)\n",
        "print('5')\n",
        "print(6*5)"
      ]
    },
    {
      "cell_type": "markdown",
      "metadata": {
        "id": "r97Bnx-A-JkT"
      },
      "source": [
        "Some text character to modify the text."
      ]
    },
    {
      "cell_type": "code",
      "execution_count": null,
      "metadata": {
        "colab": {
          "base_uri": "https://localhost:8080/"
        },
        "id": "ZeZDcZC2-Ot5",
        "outputId": "5869c50f-0035-4f68-e79f-225086299afe"
      },
      "outputs": [
        {
          "name": "stdout",
          "output_type": "stream",
          "text": [
            "a t\tab\tlik\te that\n",
            "a new\n",
            "line\n",
            "a new\n",
            "line\n"
          ]
        }
      ],
      "source": [
        "print('a t\\tab\\tlik\\te that')\n",
        "print('a new\\nline')\n",
        "print(\"a new\\nline\")\n"
      ]
    },
    {
      "cell_type": "code",
      "execution_count": null,
      "metadata": {
        "colab": {
          "base_uri": "https://localhost:8080/"
        },
        "id": "0MhZ3DvzbEKe",
        "outputId": "8d37a1f1-2b12-4841-c2c7-d8d3454b3476"
      },
      "outputs": [
        {
          "name": "stdout",
          "output_type": "stream",
          "text": [
            "This a text with a\n",
            "new line \n",
            "This a text with a\n",
            "new line \n"
          ]
        }
      ],
      "source": [
        "#double quotes or triple quotes\n",
        "print('''This a text with a\n",
        "new line ''')\n",
        "print(\"\"\"This a text with a\n",
        "new line \"\"\")"
      ]
    },
    {
      "cell_type": "markdown",
      "metadata": {
        "id": "cTRoxw8w-PGa"
      },
      "source": [
        "Using coma, addition and multiplication"
      ]
    },
    {
      "cell_type": "code",
      "execution_count": null,
      "metadata": {
        "colab": {
          "base_uri": "https://localhost:8080/"
        },
        "id": "VjQH7sqv-Td2",
        "outputId": "45f0b8f2-0978-47bd-cd42-0ae18cb7c8d7"
      },
      "outputs": [
        {
          "name": "stdout",
          "output_type": "stream",
          "text": [
            "more Than one text\n",
            "this is not working: 5 another text r\n",
            "25\n",
            "10\n",
            "textoranother text\n",
            "HelloHelloHelloHelloHello\n",
            "Hello 5\n"
          ]
        }
      ],
      "source": [
        "print('more', 'Than', 'one', 'text')\n",
        "print('this is not working:', 5 , 'another text', 'r')\n",
        "#calculation\n",
        "print(5*5)\n",
        "print(5+5)\n",
        "print('text' + 'or' + 'another text')\n",
        "print('Hello' * 5)\n",
        "print('Hello' , 5)\n"
      ]
    },
    {
      "cell_type": "code",
      "execution_count": null,
      "metadata": {
        "colab": {
          "base_uri": "https://localhost:8080/",
          "height": 186
        },
        "id": "AQbPziQVcm27",
        "outputId": "36102737-0965-41cb-f6fc-e039b1d1b60b"
      },
      "outputs": [
        {
          "ename": "TypeError",
          "evalue": "ignored",
          "output_type": "error",
          "traceback": [
            "\u001b[0;31m---------------------------------------------------------------------------\u001b[0m",
            "\u001b[0;31mTypeError\u001b[0m                                 Traceback (most recent call last)",
            "\u001b[0;32m<ipython-input-50-cc1d675d6166>\u001b[0m in \u001b[0;36m<module>\u001b[0;34m\u001b[0m\n\u001b[1;32m      1\u001b[0m \u001b[0;31m#Errors in python\u001b[0m\u001b[0;34m\u001b[0m\u001b[0;34m\u001b[0m\u001b[0;34m\u001b[0m\u001b[0m\n\u001b[0;32m----> 2\u001b[0;31m \u001b[0mprint\u001b[0m\u001b[0;34m(\u001b[0m\u001b[0;34m'5'\u001b[0m \u001b[0;34m+\u001b[0m \u001b[0;36m600\u001b[0m\u001b[0;34m)\u001b[0m\u001b[0;34m\u001b[0m\u001b[0;34m\u001b[0m\u001b[0m\n\u001b[0m",
            "\u001b[0;31mTypeError\u001b[0m: can only concatenate str (not \"int\") to str"
          ]
        }
      ],
      "source": [
        "#Errors in python\n",
        "print('5' + 600)"
      ]
    },
    {
      "cell_type": "markdown",
      "metadata": {
        "id": "8d7eq8qc-1sH"
      },
      "source": [
        "The end and sep keyword arguments"
      ]
    },
    {
      "cell_type": "code",
      "execution_count": null,
      "metadata": {
        "colab": {
          "base_uri": "https://localhost:8080/"
        },
        "id": "Hh29WgML-4xY",
        "outputId": "9d0944b6-c520-4f93-fa47-683b32ef5dfd"
      },
      "outputs": [
        {
          "name": "stdout",
          "output_type": "stream",
          "text": [
            "hello world\n",
            "\n",
            "\n",
            "another one\n",
            "1_2_3my numbers"
          ]
        }
      ],
      "source": [
        "print('hello', 'world', end = '\\n\\n\\n')\n",
        "print('another one')\n",
        "print('1', '2', 3, sep = '_', end = 'my numbers')"
      ]
    },
    {
      "cell_type": "markdown",
      "metadata": {
        "id": "UYUpFe2p-63I"
      },
      "source": [
        "**Exercise (10 min)**:\n",
        "\n",
        "1. Try to modify the following python code to get the same text but with use of \\n and \\t.\n",
        "\n",
        "2. Print the same text, but with using at least 5 times the print function (use the end keyword to don't come back to new line every print)\n",
        "\n",
        "3. Improve it by replacing \"a KBTU student\" by your name (example: \"Gaétan\").\n",
        "\n"
      ]
    },
    {
      "cell_type": "code",
      "execution_count": null,
      "metadata": {
        "colab": {
          "base_uri": "https://localhost:8080/"
        },
        "id": "79_MFAjz_hK0",
        "outputId": "64b8568e-23ba-4cdc-f77d-75bdf27915a9"
      },
      "outputs": [
        {
          "name": "stdout",
          "output_type": "stream",
          "text": [
            "Hello, \n",
            "I'm a KBTU student, my classes are:\n",
            "      - ICT\n",
            "      - And I don't remember the other ones.\n"
          ]
        }
      ],
      "source": [
        "print('''Hello, \n",
        "I'm a KBTU student, my classes are:\n",
        "      - ICT\n",
        "      - And I don't remember the other ones.''')"
      ]
    },
    {
      "cell_type": "code",
      "execution_count": null,
      "metadata": {
        "colab": {
          "base_uri": "https://localhost:8080/"
        },
        "id": "wM5iTZMxeQKK",
        "outputId": "17756c15-48ce-4118-b781-f3b976efbe8e"
      },
      "outputs": [
        {
          "name": "stdout",
          "output_type": "stream",
          "text": [
            "Hello,\n",
            "I'm a KBTU student, my classes are:\n",
            "\t- ICT\n",
            "\t- And I don't remember the other ones.\n"
          ]
        }
      ],
      "source": [
        "#step 1.\n",
        "print(\"Hello,\\nI'm a KBTU student, my classes are:\\n\\t- ICT\\n\\t- And I don't remember the other ones.\")"
      ]
    },
    {
      "cell_type": "code",
      "execution_count": null,
      "metadata": {
        "colab": {
          "base_uri": "https://localhost:8080/"
        },
        "id": "zdAj34tjgBVQ",
        "outputId": "7684c43d-9bb3-4b09-d345-42b48047b30d"
      },
      "outputs": [
        {
          "name": "stdout",
          "output_type": "stream",
          "text": [
            "Hello,\n",
            "I'm a KBTU student,my classes are:\n",
            "\t- ICT\n",
            "\t- And I don't remember the other ones.\n"
          ]
        }
      ],
      "source": [
        "#Step 2.\n",
        "print(\"Hello,\") \n",
        "print(\"I'm a KBTU student,\", end = '') \n",
        "print(\"my classes are:\")\n",
        "print(\"\\t- ICT\")\n",
        "print(\"\\t- And I don't remember the other ones.\")"
      ]
    },
    {
      "cell_type": "code",
      "execution_count": null,
      "metadata": {
        "colab": {
          "base_uri": "https://localhost:8080/"
        },
        "id": "WQHNp4bBgCni",
        "outputId": "d3800900-ec29-4acd-8aa8-53e868381941"
      },
      "outputs": [
        {
          "name": "stdout",
          "output_type": "stream",
          "text": [
            "Hello,\n",
            "I'm a \"Gaétan\",my classes are:\n",
            "\t- ICT\n",
            "\t- And I don't remember the other ones.\n"
          ]
        }
      ],
      "source": [
        "#Step 3.\n",
        "print(\"Hello,\") \n",
        "print('I\\'m a \\\"Gaétan\\\",', end = '') \n",
        "print(\"my classes are:\")\n",
        "print(\"\\t- ICT\")\n",
        "print(\"\\t- And I don't remember the other ones.\")"
      ]
    }
  ],
  "metadata": {
    "colab": {
      "provenance": []
    },
    "kernelspec": {
      "display_name": "Python 3",
      "language": "python",
      "name": "python3"
    },
    "language_info": {
      "name": "python",
      "version": "3.8.10 (default, Nov 14 2022, 12:59:47) \n[GCC 9.4.0]"
    },
    "vscode": {
      "interpreter": {
        "hash": "916dbcbb3f70747c44a77c7bcd40155683ae19c65e1c03b4aa3499c5328201f1"
      }
    }
  },
  "nbformat": 4,
  "nbformat_minor": 0
}

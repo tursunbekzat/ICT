{
  "nbformat": 4,
  "nbformat_minor": 0,
  "metadata": {
    "colab": {
      "provenance": []
    },
    "kernelspec": {
      "name": "python3",
      "display_name": "Python 3"
    },
    "language_info": {
      "name": "python"
    }
  },
  "cells": [
    {
      "cell_type": "markdown",
      "source": [
        "# Lecture 7: Lists"
      ],
      "metadata": {
        "id": "hzWGUEUwDXN8"
      }
    },
    {
      "cell_type": "markdown",
      "source": [
        "## Correction practice 6 and reminder"
      ],
      "metadata": {
        "id": "ryr7rZLJE3PD"
      }
    },
    {
      "cell_type": "markdown",
      "source": [
        "### All numbers.\n",
        "* Print all numbers between 5 and 50 (included) on the same line with one space between each with a while loop"
      ],
      "metadata": {
        "id": "IwIevdbMFW2O"
      }
    },
    {
      "cell_type": "code",
      "source": [
        "a = 5\n",
        "while a <= 50:\n",
        "  print(a, end = ' ')\n",
        "  a += 1"
      ],
      "metadata": {
        "id": "riQs1G5jE64m",
        "colab": {
          "base_uri": "https://localhost:8080/"
        },
        "outputId": "4552f660-36a2-4da9-8cb0-64b1a4e67f0b"
      },
      "execution_count": null,
      "outputs": [
        {
          "output_type": "stream",
          "name": "stdout",
          "text": [
            "5 6 7 8 9 10 11 12 13 14 15 16 17 18 19 20 21 22 23 24 25 26 27 28 29 30 31 32 33 34 35 36 37 38 39 40 41 42 43 44 45 46 47 48 49 50 "
          ]
        }
      ]
    },
    {
      "cell_type": "markdown",
      "source": [
        "### The user division\n",
        "* Ask for user one number. Print the division by 2 and the division by 2 of the result, …. until the odd number"
      ],
      "metadata": {
        "id": "k5smz50gFssg"
      }
    },
    {
      "cell_type": "code",
      "source": [
        "num = int(input('enter a number: '))\n",
        "while num%2 == 0:\n",
        "  print(num, end = ' ')\n",
        "  num = num // 2\n",
        "\n",
        "print(num, end = ' ')"
      ],
      "metadata": {
        "id": "N6EFdVNbF3qZ",
        "colab": {
          "base_uri": "https://localhost:8080/"
        },
        "outputId": "fb77addc-44c9-494f-e3c7-a23f61f409dd"
      },
      "execution_count": null,
      "outputs": [
        {
          "output_type": "stream",
          "name": "stdout",
          "text": [
            "enter a number: 964\n",
            "964 482 241 "
          ]
        }
      ]
    },
    {
      "cell_type": "markdown",
      "source": [
        "### The crazy bot\n",
        "* Ask for user to say hello and repeat it until he says it. The bot becomes crazier and crazier if the user doesn’t say hello."
      ],
      "metadata": {
        "id": "ZmW6IYQyF4LE"
      }
    },
    {
      "cell_type": "code",
      "source": [
        "answer = input('Hello ')\n",
        "cnt = 0\n",
        "while answer != 'Hello':\n",
        "  if cnt < 3:\n",
        "    answer = input('I said hello, do you have something to say to me? ')\n",
        "  elif cnt < 6:\n",
        "    answer = input('You have to say hello to me! ')\n",
        "  else:\n",
        "    answer = input('I SAID HELLO, ANSWER HELLO! ')\n",
        "  cnt += 1\n",
        "\n",
        "print('Thank you, how are you?')"
      ],
      "metadata": {
        "id": "0WTeXgy3F-03",
        "colab": {
          "base_uri": "https://localhost:8080/"
        },
        "outputId": "a4cf7bf5-01d1-496d-e9d3-04b236427ded"
      },
      "execution_count": null,
      "outputs": [
        {
          "output_type": "stream",
          "name": "stdout",
          "text": [
            "Hello trgdfgg\n",
            "I said hello, do you have something to say to me? fhfd\n",
            "I said hello, do you have something to say to me? dgfth\n",
            "I said hello, do you have something to say to me? seg\n",
            "You have to say hello to me! ghfd\n",
            "You have to say hello to me! trdj\n",
            "You have to say hello to me! thrs\n",
            "I SAID HELLO, ANSWER HELLO! fghj\n",
            "I SAID HELLO, ANSWER HELLO! dfgh\n",
            "I SAID HELLO, ANSWER HELLO! ertyu\n",
            "I SAID HELLO, ANSWER HELLO! erty\n",
            "I SAID HELLO, ANSWER HELLO! Hello\n",
            "Thank you, how are you?\n"
          ]
        }
      ]
    },
    {
      "cell_type": "markdown",
      "source": [
        "### The snail simple\n",
        "- Suppose there is a well with a depth of 30 meters deep. A snail is at the bottom of this well. The snail can climb 7 meters per day. However, during the night, it slides down 5 meters. How many days will it take to get out of the well? (response: 13)"
      ],
      "metadata": {
        "id": "2imLQ2tZdt_r"
      }
    },
    {
      "cell_type": "code",
      "source": [
        "depth = 30\n",
        "up = 7\n",
        "down = 5\n",
        "day = 0\n",
        "position = 0\n",
        "while True:\n",
        "  day += 1\n",
        "  position += up\n",
        "  if position > depth:\n",
        "    break\n",
        "  position -= down\n",
        "\n",
        "print(day)"
      ],
      "metadata": {
        "id": "JAN-bGHedt_t",
        "colab": {
          "base_uri": "https://localhost:8080/"
        },
        "outputId": "a28b2b7a-b8f0-4ce1-f856-c23c36b4335a"
      },
      "execution_count": null,
      "outputs": [
        {
          "output_type": "stream",
          "name": "stdout",
          "text": [
            "13\n"
          ]
        }
      ]
    },
    {
      "cell_type": "code",
      "source": [
        "depth = 30\n",
        "up = 7\n",
        "down = 5\n",
        "day = 1\n",
        "position = 7\n",
        "while position < depth:\n",
        "  position -= down\n",
        "  day += 1\n",
        "  position += up\n",
        "print(day)"
      ],
      "metadata": {
        "colab": {
          "base_uri": "https://localhost:8080/"
        },
        "id": "NIfdMgAKjERn",
        "outputId": "689759bd-0c78-4fca-a050-dd77fbc2cf36"
      },
      "execution_count": null,
      "outputs": [
        {
          "output_type": "stream",
          "name": "stdout",
          "text": [
            "13\n"
          ]
        }
      ]
    },
    {
      "cell_type": "markdown",
      "source": [
        "### The snail complex\n",
        "- The problem is the same than the previous one. Just modify your code to give the user the possibility to change the variable of the problem."
      ],
      "metadata": {
        "id": "Y3y8NJkdduTl"
      }
    },
    {
      "cell_type": "code",
      "source": [
        "depth = int(input('Enter the depth'))\n",
        "up = int(input('Enter the up'))\n",
        "down = int(input('Enter the down'))\n",
        "day = 1\n",
        "position = 0 + up\n",
        "while position <= depth:\n",
        "  position -= down\n",
        "  day += 1\n",
        "  position += up\n",
        "print(day)"
      ],
      "metadata": {
        "id": "TsR647QAduTm",
        "colab": {
          "base_uri": "https://localhost:8080/"
        },
        "outputId": "e5401341-4c70-4d04-bc3c-892ae2c3cfb3"
      },
      "execution_count": null,
      "outputs": [
        {
          "output_type": "stream",
          "name": "stdout",
          "text": [
            "Enter the depth97\n",
            "Enter the up10\n",
            "Enter the down9\n",
            "89\n"
          ]
        }
      ]
    },
    {
      "cell_type": "markdown",
      "source": [
        "### The snail complex with security\n",
        "The problem is the same than the previous one. Just modify your code to print a message and ask the inputs again if the “daily distance climbed by the snail” is smaller than the “the night distance slide down by the snail”."
      ],
      "metadata": {
        "id": "4ahkUgNtduqd"
      }
    },
    {
      "cell_type": "code",
      "source": [
        "depth = int(input('Enter the depth'))\n",
        "up = int(input('Enter the up'))\n",
        "down = int(input('Enter the down'))\n",
        "while up <= down:\n",
        "  print('Enter a up bigger than down!')\n",
        "  up = int(input('Enter the up'))\n",
        "  down = int(input('Enter the down'))\n",
        "day = 1\n",
        "position = 0 + up\n",
        "while position <= depth:\n",
        "  position -= down\n",
        "  day += 1\n",
        "  position += up\n",
        "print(day)"
      ],
      "metadata": {
        "id": "DaeE_n2gduqf",
        "colab": {
          "base_uri": "https://localhost:8080/",
          "height": 475
        },
        "outputId": "64f1dcb1-ce0c-45d2-ba35-eb626642b741"
      },
      "execution_count": null,
      "outputs": [
        {
          "output_type": "stream",
          "name": "stdout",
          "text": [
            "Enter the depth97\n",
            "Enter the up2\n",
            "Enter the down5\n",
            "Enter a up bigger than down!\n"
          ]
        },
        {
          "output_type": "error",
          "ename": "KeyboardInterrupt",
          "evalue": "ignored",
          "traceback": [
            "\u001b[0;31m---------------------------------------------------------------------------\u001b[0m",
            "\u001b[0;31mKeyboardInterrupt\u001b[0m                         Traceback (most recent call last)",
            "\u001b[0;32m<ipython-input-23-3f03952dd6dc>\u001b[0m in \u001b[0;36m<module>\u001b[0;34m\u001b[0m\n\u001b[1;32m      4\u001b[0m \u001b[0;32mwhile\u001b[0m \u001b[0mup\u001b[0m \u001b[0;34m<=\u001b[0m \u001b[0mdown\u001b[0m\u001b[0;34m:\u001b[0m\u001b[0;34m\u001b[0m\u001b[0;34m\u001b[0m\u001b[0m\n\u001b[1;32m      5\u001b[0m   \u001b[0mprint\u001b[0m\u001b[0;34m(\u001b[0m\u001b[0;34m'Enter a up bigger than down!'\u001b[0m\u001b[0;34m)\u001b[0m\u001b[0;34m\u001b[0m\u001b[0;34m\u001b[0m\u001b[0m\n\u001b[0;32m----> 6\u001b[0;31m   \u001b[0mup\u001b[0m \u001b[0;34m=\u001b[0m \u001b[0mint\u001b[0m\u001b[0;34m(\u001b[0m\u001b[0minput\u001b[0m\u001b[0;34m(\u001b[0m\u001b[0;34m'Enter the up'\u001b[0m\u001b[0;34m)\u001b[0m\u001b[0;34m)\u001b[0m\u001b[0;34m\u001b[0m\u001b[0;34m\u001b[0m\u001b[0m\n\u001b[0m\u001b[1;32m      7\u001b[0m   \u001b[0mdown\u001b[0m \u001b[0;34m=\u001b[0m \u001b[0mint\u001b[0m\u001b[0;34m(\u001b[0m\u001b[0minput\u001b[0m\u001b[0;34m(\u001b[0m\u001b[0;34m'Enter the down'\u001b[0m\u001b[0;34m)\u001b[0m\u001b[0;34m)\u001b[0m\u001b[0;34m\u001b[0m\u001b[0;34m\u001b[0m\u001b[0m\n\u001b[1;32m      8\u001b[0m \u001b[0mday\u001b[0m \u001b[0;34m=\u001b[0m \u001b[0;36m1\u001b[0m\u001b[0;34m\u001b[0m\u001b[0;34m\u001b[0m\u001b[0m\n",
            "\u001b[0;32m/usr/local/lib/python3.8/dist-packages/ipykernel/kernelbase.py\u001b[0m in \u001b[0;36mraw_input\u001b[0;34m(self, prompt)\u001b[0m\n\u001b[1;32m    858\u001b[0m                 \u001b[0;34m\"raw_input was called, but this frontend does not support input requests.\"\u001b[0m\u001b[0;34m\u001b[0m\u001b[0;34m\u001b[0m\u001b[0m\n\u001b[1;32m    859\u001b[0m             )\n\u001b[0;32m--> 860\u001b[0;31m         return self._input_request(str(prompt),\n\u001b[0m\u001b[1;32m    861\u001b[0m             \u001b[0mself\u001b[0m\u001b[0;34m.\u001b[0m\u001b[0m_parent_ident\u001b[0m\u001b[0;34m,\u001b[0m\u001b[0;34m\u001b[0m\u001b[0;34m\u001b[0m\u001b[0m\n\u001b[1;32m    862\u001b[0m             \u001b[0mself\u001b[0m\u001b[0;34m.\u001b[0m\u001b[0m_parent_header\u001b[0m\u001b[0;34m,\u001b[0m\u001b[0;34m\u001b[0m\u001b[0;34m\u001b[0m\u001b[0m\n",
            "\u001b[0;32m/usr/local/lib/python3.8/dist-packages/ipykernel/kernelbase.py\u001b[0m in \u001b[0;36m_input_request\u001b[0;34m(self, prompt, ident, parent, password)\u001b[0m\n\u001b[1;32m    902\u001b[0m             \u001b[0;32mexcept\u001b[0m \u001b[0mKeyboardInterrupt\u001b[0m\u001b[0;34m:\u001b[0m\u001b[0;34m\u001b[0m\u001b[0;34m\u001b[0m\u001b[0m\n\u001b[1;32m    903\u001b[0m                 \u001b[0;31m# re-raise KeyboardInterrupt, to truncate traceback\u001b[0m\u001b[0;34m\u001b[0m\u001b[0;34m\u001b[0m\u001b[0;34m\u001b[0m\u001b[0m\n\u001b[0;32m--> 904\u001b[0;31m                 \u001b[0;32mraise\u001b[0m \u001b[0mKeyboardInterrupt\u001b[0m\u001b[0;34m(\u001b[0m\u001b[0;34m\"Interrupted by user\"\u001b[0m\u001b[0;34m)\u001b[0m \u001b[0;32mfrom\u001b[0m \u001b[0;32mNone\u001b[0m\u001b[0;34m\u001b[0m\u001b[0;34m\u001b[0m\u001b[0m\n\u001b[0m\u001b[1;32m    905\u001b[0m             \u001b[0;32mexcept\u001b[0m \u001b[0mException\u001b[0m \u001b[0;32mas\u001b[0m \u001b[0me\u001b[0m\u001b[0;34m:\u001b[0m\u001b[0;34m\u001b[0m\u001b[0;34m\u001b[0m\u001b[0m\n\u001b[1;32m    906\u001b[0m                 \u001b[0mself\u001b[0m\u001b[0;34m.\u001b[0m\u001b[0mlog\u001b[0m\u001b[0;34m.\u001b[0m\u001b[0mwarning\u001b[0m\u001b[0;34m(\u001b[0m\u001b[0;34m\"Invalid Message:\"\u001b[0m\u001b[0;34m,\u001b[0m \u001b[0mexc_info\u001b[0m\u001b[0;34m=\u001b[0m\u001b[0;32mTrue\u001b[0m\u001b[0;34m)\u001b[0m\u001b[0;34m\u001b[0m\u001b[0;34m\u001b[0m\u001b[0m\n",
            "\u001b[0;31mKeyboardInterrupt\u001b[0m: Interrupted by user"
          ]
        }
      ]
    },
    {
      "cell_type": "markdown",
      "source": [
        "## Presentation of assignment 3\n",
        "\n",
        "\n"
      ],
      "metadata": {
        "id": "ESKqh3mAOFY-"
      }
    },
    {
      "cell_type": "markdown",
      "source": [
        "## Lecture 7: Lists"
      ],
      "metadata": {
        "id": "x3QLlRAnEy_i"
      }
    },
    {
      "cell_type": "markdown",
      "source": [
        "### Introduction\n",
        "* A sequence of objects\n",
        "* Can be anything (str, int, float, …)\n",
        "* Ordered, changeable, and allow duplicate values\n",
        "* Created with “[]” and items separated by coma.\n",
        "* A list can be empty"
      ],
      "metadata": {
        "id": "5lqJVM02Ez4_"
      }
    },
    {
      "cell_type": "code",
      "source": [
        "my_list = [1, 53, 786, 4, 53, 53, 53, 53]\n",
        "print(my_list)\n",
        "#don't do that\n",
        "#list = [ 54, 956, 678]"
      ],
      "metadata": {
        "id": "v7jxMz7rHgcH",
        "colab": {
          "base_uri": "https://localhost:8080/"
        },
        "outputId": "d2f392de-22e4-4a9c-ba12-f875d48508d0"
      },
      "execution_count": null,
      "outputs": [
        {
          "output_type": "stream",
          "name": "stdout",
          "text": [
            "[1, 53, 786, 4, 53, 53, 53, 53]\n"
          ]
        }
      ]
    },
    {
      "cell_type": "code",
      "source": [
        "my_list = [5432, 6953.5796541, True, False, 'jhgdfvbk']\n",
        "print(my_list)"
      ],
      "metadata": {
        "colab": {
          "base_uri": "https://localhost:8080/"
        },
        "id": "VDuysa9ekWWL",
        "outputId": "1077ff02-daba-44ab-b9d9-d1216448ed43"
      },
      "execution_count": null,
      "outputs": [
        {
          "output_type": "stream",
          "name": "stdout",
          "text": [
            "[5432, 6953.5796541, True, False, 'jhgdfvbk']\n"
          ]
        }
      ]
    },
    {
      "cell_type": "code",
      "source": [
        "list_ = []\n",
        "print(list_)"
      ],
      "metadata": {
        "colab": {
          "base_uri": "https://localhost:8080/"
        },
        "id": "SahNDQh0krcV",
        "outputId": "f0f40e07-21d3-4d34-a996-983309373b3c"
      },
      "execution_count": null,
      "outputs": [
        {
          "output_type": "stream",
          "name": "stdout",
          "text": [
            "[]\n"
          ]
        }
      ]
    },
    {
      "cell_type": "markdown",
      "source": [
        "### Access to list items\n",
        "* Index number\n",
        "* Index start at 0\n",
        "* Negative index to refer to the last items\n",
        "* You can also modify them"
      ],
      "metadata": {
        "id": "Gu6ew8GanaTm"
      }
    },
    {
      "cell_type": "code",
      "source": [
        "my_list = [5432, 6953.5796541, True, False, 'jhgdfvbk']\n",
        "print(my_list[0])\n",
        "print(my_list[3])"
      ],
      "metadata": {
        "id": "NayI31apnZeA",
        "colab": {
          "base_uri": "https://localhost:8080/"
        },
        "outputId": "5e3b89f3-4f2b-4089-ae1b-ebc23d16ac30"
      },
      "execution_count": null,
      "outputs": [
        {
          "output_type": "stream",
          "name": "stdout",
          "text": [
            "5432\n",
            "False\n"
          ]
        }
      ]
    },
    {
      "cell_type": "code",
      "source": [
        "my_list = [5432, 6953.5796541, True, False, 'jhgdfvbk']\n",
        "print(my_list[-1])\n",
        "print(my_list[-2])"
      ],
      "metadata": {
        "colab": {
          "base_uri": "https://localhost:8080/"
        },
        "id": "GUH4ujGilaW8",
        "outputId": "1089dde1-44ca-4cb4-c1b5-967724090794"
      },
      "execution_count": null,
      "outputs": [
        {
          "output_type": "stream",
          "name": "stdout",
          "text": [
            "jhgdfvbk\n",
            "False\n"
          ]
        }
      ]
    },
    {
      "cell_type": "code",
      "source": [
        "my_list = [5432, 6953.5796541, True, False, 'jhgdfvbk']\n",
        "print(my_list[4])\n",
        "print(my_list[-1])\n",
        "print(my_list[0])\n",
        "print(my_list[-5])"
      ],
      "metadata": {
        "colab": {
          "base_uri": "https://localhost:8080/"
        },
        "id": "wca9pjCDljlm",
        "outputId": "e8e586e3-7d65-44a8-fc73-f3e0ef7da507"
      },
      "execution_count": null,
      "outputs": [
        {
          "output_type": "stream",
          "name": "stdout",
          "text": [
            "jhgdfvbk\n",
            "jhgdfvbk\n",
            "5432\n",
            "5432\n"
          ]
        }
      ]
    },
    {
      "cell_type": "markdown",
      "source": [
        "### Exercise (10 min)\n",
        "Create a list with 3 fruits. \n",
        "\n",
        "Print this list.\n",
        "\n",
        "Ask for user which one he wants by using index (0, 1, ...)\n",
        "\n",
        "Print the one he asks.\n",
        "\n",
        "**Example:**\n",
        "\n",
        "Here is the list ['Apple', 'Banana', 'Mango']\n",
        "\n",
        "Which on do you want to print: 2\n",
        "\n",
        "Mango"
      ],
      "metadata": {
        "id": "xpQKZOjzGEfN"
      }
    },
    {
      "cell_type": "code",
      "source": [
        "fruits =  ['Apple', 'Banana', 'Mango', 'Grape']\n",
        "print('Here is my list: ', fruits)\n",
        "choice = int(input('Which one do you want: '))\n",
        "print(fruits[choice-1])"
      ],
      "metadata": {
        "id": "oIOY6qY9GEAK",
        "colab": {
          "base_uri": "https://localhost:8080/"
        },
        "outputId": "a7790bda-5fb3-4841-e3b8-38b9611d50fc"
      },
      "execution_count": null,
      "outputs": [
        {
          "output_type": "stream",
          "name": "stdout",
          "text": [
            "Here is my list:  ['Apple', 'Banana', 'Mango', 'Grape']\n",
            "Which one do you want: 1\n",
            "Apple\n"
          ]
        }
      ]
    },
    {
      "cell_type": "markdown",
      "source": [
        "### Access to list items\n",
        "* Range of indexing (separating by a colon: ex :[1:6])\n",
        "* Last index of the range is excluded\n",
        "* First index non specified means the first one\n",
        "* Last index non specified means the last one\n",
        "* You can also specify the steps\n",
        "\n"
      ],
      "metadata": {
        "id": "9ocr5A5xGXzd"
      }
    },
    {
      "cell_type": "code",
      "source": [
        "fruits =  ['Apple', 'Banana', 'Mango', 'Grape', 'Pear', 'Kiwi']\n",
        "print(fruits[1:4])"
      ],
      "metadata": {
        "id": "UZOdURKCGuCB",
        "colab": {
          "base_uri": "https://localhost:8080/"
        },
        "outputId": "ade2be32-8a25-4335-d2b3-56bd2c57de96"
      },
      "execution_count": null,
      "outputs": [
        {
          "output_type": "stream",
          "name": "stdout",
          "text": [
            "['Banana', 'Mango', 'Grape']\n"
          ]
        }
      ]
    },
    {
      "cell_type": "code",
      "source": [
        "fruits =  ['Apple', 'Banana', 'Mango', 'Grape', 'Pear', 'Kiwi']\n",
        "print(fruits[4:])"
      ],
      "metadata": {
        "colab": {
          "base_uri": "https://localhost:8080/"
        },
        "id": "rgUVPlzcoS1L",
        "outputId": "48ea39f3-d488-4ef3-da05-335928630281"
      },
      "execution_count": null,
      "outputs": [
        {
          "output_type": "stream",
          "name": "stdout",
          "text": [
            "['Pear', 'Kiwi']\n"
          ]
        }
      ]
    },
    {
      "cell_type": "code",
      "source": [
        "fruits =  ['Apple', 'Banana', 'Mango', 'Grape', 'Pear', 'Kiwi']\n",
        "print(fruits[:3])"
      ],
      "metadata": {
        "colab": {
          "base_uri": "https://localhost:8080/"
        },
        "id": "3cXCZPa8oe6e",
        "outputId": "bae7f547-dd42-48ba-a806-90e9428d4778"
      },
      "execution_count": null,
      "outputs": [
        {
          "output_type": "stream",
          "name": "stdout",
          "text": [
            "['Apple', 'Banana', 'Mango']\n"
          ]
        }
      ]
    },
    {
      "cell_type": "code",
      "source": [
        "fruits =  ['Apple', 'Banana', 'Mango', 'Grape', 'Pear', 'Kiwi']\n",
        "print(fruits[:])"
      ],
      "metadata": {
        "colab": {
          "base_uri": "https://localhost:8080/"
        },
        "id": "18mJf_FHojuq",
        "outputId": "8d1cbe7b-12fc-4e44-f14c-7828e1b6ca56"
      },
      "execution_count": null,
      "outputs": [
        {
          "output_type": "stream",
          "name": "stdout",
          "text": [
            "['Apple', 'Banana', 'Mango', 'Grape', 'Pear', 'Kiwi']\n"
          ]
        }
      ]
    },
    {
      "cell_type": "code",
      "source": [
        "fruits =  ['Apple', 'Banana', 'Mango', 'Grape', 'Pear', 'Kiwi']\n",
        "print(fruits[-3:-1])"
      ],
      "metadata": {
        "colab": {
          "base_uri": "https://localhost:8080/"
        },
        "id": "pfZeg9fIoq21",
        "outputId": "0ca08dcd-b99e-488b-c9e2-2c5dc206480c"
      },
      "execution_count": null,
      "outputs": [
        {
          "output_type": "stream",
          "name": "stdout",
          "text": [
            "['Grape', 'Pear']\n"
          ]
        }
      ]
    },
    {
      "cell_type": "code",
      "source": [
        "fruits =  ['Apple', 'Banana', 'Mango', 'Grape', 'Pear', 'Kiwi']\n",
        "print(fruits[-3:])"
      ],
      "metadata": {
        "colab": {
          "base_uri": "https://localhost:8080/"
        },
        "id": "KF_TwcHkozAH",
        "outputId": "d18b4025-d6ac-4b3c-bc51-b9973f098694"
      },
      "execution_count": null,
      "outputs": [
        {
          "output_type": "stream",
          "name": "stdout",
          "text": [
            "['Grape', 'Pear', 'Kiwi']\n"
          ]
        }
      ]
    },
    {
      "cell_type": "code",
      "source": [
        "fruits =  ['Apple', 'Banana', 'Mango', 'Grape', 'Pear', 'Kiwi']\n",
        "print(fruits[1:5:2])"
      ],
      "metadata": {
        "colab": {
          "base_uri": "https://localhost:8080/"
        },
        "id": "HeSOxODEo3Y9",
        "outputId": "00701cff-ea46-493b-87b4-ac25be9e4c5f"
      },
      "execution_count": null,
      "outputs": [
        {
          "output_type": "stream",
          "name": "stdout",
          "text": [
            "['Banana', 'Grape']\n"
          ]
        }
      ]
    },
    {
      "cell_type": "markdown",
      "source": [
        "### Change list items\n",
        "\n",
        "* Indexing to change list item\n",
        "* Range to change a sequence of the list\n",
        "* Use the insert function\n"
      ],
      "metadata": {
        "id": "wdTDz02_Hdds"
      }
    },
    {
      "cell_type": "code",
      "source": [
        "fruits =  ['Apple', 'Banana', 'Mango', 'Grape', 'Pear', 'Kiwi']\n",
        "print(fruits[1])\n",
        "fruits[1] = 'Peach'\n",
        "print(fruits)"
      ],
      "metadata": {
        "colab": {
          "base_uri": "https://localhost:8080/"
        },
        "id": "4sRzdqwzHu0q",
        "outputId": "7220739e-8bee-4b53-f1c6-c0964b7865ed"
      },
      "execution_count": null,
      "outputs": [
        {
          "output_type": "stream",
          "name": "stdout",
          "text": [
            "Banana\n",
            "['Apple', 'Peach', 'Mango', 'Grape', 'Pear', 'Kiwi']\n"
          ]
        }
      ]
    },
    {
      "cell_type": "code",
      "source": [
        "fruits =  ['Apple', 'Banana', 'Mango', 'Grape', 'Pear', 'Kiwi']\n",
        "print(fruits[1])\n",
        "fruits[1:3] = ['Peach', 'Cucumber']\n",
        "print(type(['Peach', 'Cucumber']))\n",
        "print(fruits)"
      ],
      "metadata": {
        "colab": {
          "base_uri": "https://localhost:8080/"
        },
        "id": "bbUWXYp0ssvX",
        "outputId": "00a13f67-47d9-4125-ed04-c4cae361fdc7"
      },
      "execution_count": null,
      "outputs": [
        {
          "output_type": "stream",
          "name": "stdout",
          "text": [
            "Banana\n",
            "<class 'list'>\n",
            "['Apple', 'Peach', 'Cucumber', 'Grape', 'Pear', 'Kiwi']\n"
          ]
        }
      ]
    },
    {
      "cell_type": "code",
      "source": [
        "fruits =  ['Apple', 'Banana', 'Mango', 'Grape', 'Pear', 'Kiwi']\n",
        "fruits.insert(3, 'Pineapple')\n",
        "print(fruits)\n",
        "fruits.insert(0, 'Carott')\n",
        "print(fruits)"
      ],
      "metadata": {
        "colab": {
          "base_uri": "https://localhost:8080/"
        },
        "id": "PN1FMLGUs_ap",
        "outputId": "1b6a8ada-360e-4e16-f27f-c777dd488b68"
      },
      "execution_count": null,
      "outputs": [
        {
          "output_type": "stream",
          "name": "stdout",
          "text": [
            "['Apple', 'Banana', 'Mango', 'Pineapple', 'Grape', 'Pear', 'Kiwi']\n",
            "['Carott', 'Apple', 'Banana', 'Mango', 'Pineapple', 'Grape', 'Pear', 'Kiwi']\n"
          ]
        }
      ]
    },
    {
      "cell_type": "markdown",
      "source": [
        "### Exercise (10 min): (79 students)\n",
        "Create a list of 2 vegetable. ask user one vegatables and where he wants to insert it in the list. Insert the user vegetable at the required index.\n",
        "\n",
        "**Example:**\n",
        "\n",
        "Here is the list of vegetable: ['Carrot', 'Cucumber']\n",
        "\n",
        "Which vegetable do you want to add: 'Patatoe'\n",
        "\n",
        "Where: 1\n",
        "\n",
        "Here is the new list: ['Carrot', 'Patatoe', 'Cucumber']"
      ],
      "metadata": {
        "id": "CJLy9GTtHvA2"
      }
    },
    {
      "cell_type": "code",
      "source": [
        "list_of_veg = ['carott', 'cucumber']\n",
        "item = input('Which vegetable do you want to add: ')\n",
        "index = int(input('Where: '))\n",
        "list_of_veg.insert(index, item)\n",
        "print('Here is the new list: ', list_of_veg)"
      ],
      "metadata": {
        "id": "dsk_geyoJIl8",
        "colab": {
          "base_uri": "https://localhost:8080/"
        },
        "outputId": "036fe2b6-b3bb-4e8d-a47a-fb456c89aaa9"
      },
      "execution_count": null,
      "outputs": [
        {
          "output_type": "stream",
          "name": "stdout",
          "text": [
            "Which vegetable do you want to add: dfbgfg\n",
            "Where: 3\n",
            "Here is the new list:  ['carott', 'cucumber', 'dfbgfg']\n"
          ]
        }
      ]
    },
    {
      "cell_type": "markdown",
      "source": [
        "### Inserting at the end\n",
        "* One of the most important method\n",
        "* My_list.append()\n",
        "* To add an item at the end of the list\n"
      ],
      "metadata": {
        "id": "0zhAEzL56N4X"
      }
    },
    {
      "cell_type": "code",
      "source": [
        "fruits =  ['Apple', 'Banana', 'Mango', 'Grape', 'Pear', 'Kiwi']\n",
        "fruits.append('Pineapple')\n",
        "print(fruits)"
      ],
      "metadata": {
        "colab": {
          "base_uri": "https://localhost:8080/"
        },
        "id": "d4GDF-9n6iu3",
        "outputId": "6dd70ad5-9d02-4785-9319-00cb6da2b1e2"
      },
      "execution_count": null,
      "outputs": [
        {
          "output_type": "stream",
          "name": "stdout",
          "text": [
            "['Apple', 'Banana', 'Mango', 'Grape', 'Pear', 'Kiwi', 'Pineapple']\n"
          ]
        }
      ]
    },
    {
      "cell_type": "code",
      "source": [
        "fruits =  []\n",
        "fruits.append('Pineapple')\n",
        "fruits.append('Kiwi')\n",
        "print(fruits)"
      ],
      "metadata": {
        "colab": {
          "base_uri": "https://localhost:8080/"
        },
        "id": "iZ-rfTT-vVdc",
        "outputId": "28c79184-efb7-42e4-c656-b3d9c6ae7603"
      },
      "execution_count": null,
      "outputs": [
        {
          "output_type": "stream",
          "name": "stdout",
          "text": [
            "['Pineapple', 'Kiwi']\n"
          ]
        }
      ]
    },
    {
      "cell_type": "markdown",
      "source": [
        "### Using append and loop\n",
        "* Add many items to the list\n",
        "* Can be done with user inputs\n"
      ],
      "metadata": {
        "id": "uU3ckMuo6jCs"
      }
    },
    {
      "cell_type": "code",
      "source": [
        "fruits =  []\n",
        "for i in range(5):\n",
        "  fruits.append('kiwi')\n",
        "print(fruits)"
      ],
      "metadata": {
        "colab": {
          "base_uri": "https://localhost:8080/"
        },
        "id": "WqXhtkY2ve4G",
        "outputId": "4d0a6b34-b6ba-4d35-f701-d7c266838328"
      },
      "execution_count": null,
      "outputs": [
        {
          "output_type": "stream",
          "name": "stdout",
          "text": [
            "['kiwi', 'kiwi', 'kiwi', 'kiwi', 'kiwi']\n"
          ]
        }
      ]
    },
    {
      "cell_type": "markdown",
      "source": [
        "### Exercise (5 min)\n",
        "\n",
        "* Create an empty list\n",
        "* Ask user for 5 fruits and add them to the list\n",
        "* print the final list\n",
        "* OR use a while and if user input is stop => the program stop"
      ],
      "metadata": {
        "id": "SVuKNRu57TnD"
      }
    },
    {
      "cell_type": "code",
      "source": [
        "fruits = []\n",
        "f_to_add = input('Enter a fruit: ')\n",
        "while f_to_add != 'stop':\n",
        "  fruits.append(f_to_add)\n",
        "  f_to_add = input('Enter a fruit: ')\n",
        "print(fruits)"
      ],
      "metadata": {
        "colab": {
          "base_uri": "https://localhost:8080/"
        },
        "id": "wbpaNAEr72rB",
        "outputId": "2de4c49f-450f-4f9e-dbb9-373d4cb89995"
      },
      "execution_count": null,
      "outputs": [
        {
          "output_type": "stream",
          "name": "stdout",
          "text": [
            "Enter a fruit: kiwi\n",
            "Enter a fruit: pineapple\n",
            "Enter a fruit: apple\n",
            "Enter a fruit: stop\n",
            "['kiwi', 'pineapple', 'apple']\n"
          ]
        }
      ]
    },
    {
      "cell_type": "markdown",
      "source": [
        "### Getting the length of the lists\n",
        "* The len() function returns the length of the list\n",
        "* Useful in loops\n"
      ],
      "metadata": {
        "id": "WhXcJ7L2721e"
      }
    },
    {
      "cell_type": "code",
      "source": [
        "fruits =  ['Apple', 'Banana', 'Mango', 'Grape', 'Pear', 'Kiwi']\n",
        "length = len(fruits)\n",
        "print(length)"
      ],
      "metadata": {
        "colab": {
          "base_uri": "https://localhost:8080/"
        },
        "id": "Fu04asqc8MWn",
        "outputId": "3a2f721e-e239-4ab2-f380-d97f6c991117"
      },
      "execution_count": null,
      "outputs": [
        {
          "output_type": "stream",
          "name": "stdout",
          "text": [
            "6\n"
          ]
        }
      ]
    },
    {
      "cell_type": "code",
      "source": [
        "fruits =  ['Apple', 'Banana', 'Mango', 'Grape', 'Pear', 'Kiwi']\n",
        "length = len(fruits)\n",
        "print(fruits[length - 1])"
      ],
      "metadata": {
        "colab": {
          "base_uri": "https://localhost:8080/"
        },
        "id": "FtOh5jlhxZIh",
        "outputId": "9e521c24-560a-449f-e185-9b3481f6be4f"
      },
      "execution_count": null,
      "outputs": [
        {
          "output_type": "stream",
          "name": "stdout",
          "text": [
            "Kiwi\n"
          ]
        }
      ]
    },
    {
      "cell_type": "code",
      "source": [
        "fruits =  ['Apple', 'Banana', 'Mango', 'Grape', 'Pear', 'Kiwi']\n",
        "for i in range(len(fruits)):\n",
        "  print(i)"
      ],
      "metadata": {
        "colab": {
          "base_uri": "https://localhost:8080/"
        },
        "id": "P1NNIoY3xizU",
        "outputId": "cf118c8d-7d2b-4db1-9ff0-599901ba9180"
      },
      "execution_count": null,
      "outputs": [
        {
          "output_type": "stream",
          "name": "stdout",
          "text": [
            "0\n",
            "1\n",
            "2\n",
            "3\n",
            "4\n",
            "5\n"
          ]
        }
      ]
    },
    {
      "cell_type": "markdown",
      "source": [
        "### Removing items from the list\n",
        "* My_list.remove() => remove the item\n",
        "* del mylist[0] => remove the item from index and list\n",
        "* My_list.pop() => extract item with index value\n",
        "* My_list.clear() => delete all items (list becomes empty)\n"
      ],
      "metadata": {
        "id": "qH8FNxBM8NPm"
      }
    },
    {
      "cell_type": "code",
      "source": [
        "fruits =  ['Apple', 'Banana', 'Mango', 'Grape', 'Pear', 'Kiwi', 'Banana']\n",
        "fruits.remove('Banana')\n",
        "print(fruits)"
      ],
      "metadata": {
        "colab": {
          "base_uri": "https://localhost:8080/"
        },
        "id": "aao5jJoKBQws",
        "outputId": "484d30f6-e7c1-4075-cae0-522f4d2e28fe"
      },
      "execution_count": null,
      "outputs": [
        {
          "output_type": "stream",
          "name": "stdout",
          "text": [
            "['Apple', 'Mango', 'Grape', 'Pear', 'Kiwi', 'Banana']\n"
          ]
        }
      ]
    },
    {
      "cell_type": "code",
      "source": [
        "fruits =  ['Apple', 'Banana', 'Mango', 'Grape', 'Pear', 'Kiwi', 'Banana']\n",
        "del fruits[3]\n",
        "print(fruits)"
      ],
      "metadata": {
        "colab": {
          "base_uri": "https://localhost:8080/"
        },
        "id": "k1WrhGLSDDwr",
        "outputId": "43327334-0649-44bf-be85-00eac96dc479"
      },
      "execution_count": null,
      "outputs": [
        {
          "output_type": "stream",
          "name": "stdout",
          "text": [
            "['Apple', 'Banana', 'Mango', 'Pear', 'Kiwi', 'Banana']\n"
          ]
        }
      ]
    },
    {
      "cell_type": "code",
      "source": [
        "fruits =  ['Apple', 'Banana', 'Mango', 'Grape', 'Pear', 'Kiwi', 'Banana']\n",
        "item_removed = fruits.pop(3)\n",
        "print(fruits)\n",
        "print(item_removed)"
      ],
      "metadata": {
        "colab": {
          "base_uri": "https://localhost:8080/"
        },
        "id": "PCAGqCD6yOSB",
        "outputId": "469ea2cf-a1e6-45c8-862c-20d2a6543adb"
      },
      "execution_count": null,
      "outputs": [
        {
          "output_type": "stream",
          "name": "stdout",
          "text": [
            "['Apple', 'Banana', 'Mango', 'Pear', 'Kiwi', 'Banana']\n",
            "Grape\n"
          ]
        }
      ]
    },
    {
      "cell_type": "code",
      "source": [
        "\n",
        "fruits =  ['Apple', 'Banana', 'Mango', 'Grape', 'Pear', 'Kiwi', 'Banana']\n",
        "print(fruits)\n",
        "fruits.clear()\n",
        "print(fruits)"
      ],
      "metadata": {
        "colab": {
          "base_uri": "https://localhost:8080/"
        },
        "id": "sI3YjVGsymWp",
        "outputId": "bf3728ce-91eb-4188-91fc-3660a3202e89"
      },
      "execution_count": null,
      "outputs": [
        {
          "output_type": "stream",
          "name": "stdout",
          "text": [
            "['Apple', 'Banana', 'Mango', 'Grape', 'Pear', 'Kiwi', 'Banana']\n",
            "[]\n"
          ]
        }
      ]
    },
    {
      "cell_type": "markdown",
      "source": [
        "### exercise (5 min)\n",
        "* With the lists in the following code, ask the user which item he wants to remove (from its index value), remove it from the first list and add it to the second list.\n",
        "\n",
        "**Example**: Which item do you want to remove: 2\n",
        "\n",
        "Here is the new list: ['tennis', 'ping-pong', 'foot']\n",
        "\n",
        "Here is the list of removed items: ['kayak']"
      ],
      "metadata": {
        "id": "-w5i7aeGB9-n"
      }
    },
    {
      "cell_type": "code",
      "source": [
        "list_of_sport = ['tennis', 'ping-pong', 'kayak', 'foot']\n",
        "list_of_removed_sport = []\n",
        "index = int(input('What item do you want to remove? '))\n",
        "item_removed = list_of_sport.pop(index)\n",
        "list_of_removed_sport.append(item_removed)\n",
        "print(list_of_sport)\n",
        "print(list_of_removed_sport)"
      ],
      "metadata": {
        "colab": {
          "base_uri": "https://localhost:8080/"
        },
        "id": "v4Zx9rOLCRiL",
        "outputId": "dfee9b57-6fcb-4821-b795-ce3db77401c3"
      },
      "execution_count": null,
      "outputs": [
        {
          "output_type": "stream",
          "name": "stdout",
          "text": [
            "What item do you want to remove? 2\n",
            "['tennis', 'ping-pong', 'foot']\n",
            "['kayak']\n"
          ]
        }
      ]
    },
    {
      "cell_type": "markdown",
      "source": [
        "### Step 2: (5 min)\n",
        "* modify the previous exercise, the user doesn't give the index anymore, he gives the item."
      ],
      "metadata": {
        "id": "BcTp2Y67CzlC"
      }
    },
    {
      "cell_type": "code",
      "source": [
        "list_of_sport = ['tennis', 'ping-pong', 'kayak', 'foot']\n",
        "list_of_removed_sport = []\n",
        "item = input('What item do you want to remove? ')\n",
        "list_of_sport.remove(item)\n",
        "list_of_removed_sport.append(item)\n",
        "print(list_of_sport)\n",
        "print(list_of_removed_sport)"
      ],
      "metadata": {
        "colab": {
          "base_uri": "https://localhost:8080/"
        },
        "id": "43sjaoJaDavj",
        "outputId": "aba32386-1f61-4e46-bd3f-69788ffc46a9"
      },
      "execution_count": null,
      "outputs": [
        {
          "output_type": "stream",
          "name": "stdout",
          "text": [
            "What item do you want to remove? kayak\n",
            "['tennis', 'ping-pong', 'foot']\n",
            "['kayak']\n"
          ]
        }
      ]
    },
    {
      "cell_type": "markdown",
      "source": [
        "### Other methods\n",
        "* The .extend() methods => add a list to another list\n",
        "* .sort() => to sort the list (reverse = True to change the way)\n",
        "* Adding list together with ‘+’\n",
        "* .copy() => to copy the list\n",
        "* .index() => to get index from an item\n",
        "\n"
      ],
      "metadata": {
        "id": "-ITNpju5BRDb"
      }
    },
    {
      "cell_type": "code",
      "source": [
        "list_of_sport = ['tennis', 'ping-pong', 'kayak', 'foot']\n",
        "list_of_sport.extend(['Canoe', 'basketball'])\n",
        "print(list_of_sport)\n",
        "#difference with append\n",
        "list_of_sport = ['tennis', 'ping-pong', 'kayak', 'foot']\n",
        "list_of_sport.append(['Canoe', 'basketball'])\n",
        "print(list_of_sport)\n",
        "print(len(list_of_sport))\n",
        "print(list_of_sport[4])"
      ],
      "metadata": {
        "colab": {
          "base_uri": "https://localhost:8080/"
        },
        "id": "7k8Lo_yVBXKb",
        "outputId": "536b1f20-e1cb-4101-e718-64fe565520cf"
      },
      "execution_count": null,
      "outputs": [
        {
          "output_type": "stream",
          "name": "stdout",
          "text": [
            "['tennis', 'ping-pong', 'kayak', 'foot', 'Canoe', 'basketball']\n",
            "['tennis', 'ping-pong', 'kayak', 'foot', ['Canoe', 'basketball']]\n",
            "5\n",
            "['Canoe', 'basketball']\n"
          ]
        }
      ]
    },
    {
      "cell_type": "code",
      "source": [
        "list_of_sport = ['tennis', 'ping-pong', 'kayak', 'foot']\n",
        "list_of_sport = list_of_sport + ['Canoe', 'basketball']\n",
        "print(list_of_sport)"
      ],
      "metadata": {
        "colab": {
          "base_uri": "https://localhost:8080/"
        },
        "id": "Nd6jQ1UQ0mzs",
        "outputId": "ab556eda-35c3-4200-cc53-2ffce83c5735"
      },
      "execution_count": null,
      "outputs": [
        {
          "output_type": "stream",
          "name": "stdout",
          "text": [
            "['tennis', 'ping-pong', 'kayak', 'foot', 'Canoe', 'basketball']\n"
          ]
        }
      ]
    },
    {
      "cell_type": "code",
      "source": [
        "list_of_sport = ['tennis', 'ping-pong', 'kayak', 'foot']\n",
        "list_of_sport.sort()\n",
        "print(list_of_sport)\n",
        "list_of_sport.sort(reverse = True)\n",
        "print(list_of_sport)"
      ],
      "metadata": {
        "colab": {
          "base_uri": "https://localhost:8080/"
        },
        "id": "lVS-oNQV0x65",
        "outputId": "fc578b89-7f1f-46d8-a1ed-33e0035e07a7"
      },
      "execution_count": null,
      "outputs": [
        {
          "output_type": "stream",
          "name": "stdout",
          "text": [
            "['foot', 'kayak', 'ping-pong', 'tennis']\n",
            "['tennis', 'ping-pong', 'kayak', 'foot']\n"
          ]
        }
      ]
    },
    {
      "cell_type": "code",
      "source": [
        "list_of_sport = ['tennis', 'ping-pong', 'kayak', 'foot', 'tennis']\n",
        "print(list_of_sport.index('tennis'))"
      ],
      "metadata": {
        "colab": {
          "base_uri": "https://localhost:8080/"
        },
        "id": "1GtvR_4M1AWr",
        "outputId": "3d7c6e14-c291-417a-8cb9-0944099cee85"
      },
      "execution_count": null,
      "outputs": [
        {
          "output_type": "stream",
          "name": "stdout",
          "text": [
            "0\n"
          ]
        }
      ]
    },
    {
      "cell_type": "markdown",
      "source": [
        "### Loop on the lists\n",
        "* As a string, you can loop on the list\n",
        "* Use len() and range() for loop from index\n",
        "* Be careful on deleting items in loops\n",
        "* Enumerate() => to loop on index and item\n"
      ],
      "metadata": {
        "id": "jnz5nZeZBXYl"
      }
    },
    {
      "cell_type": "code",
      "source": [
        "fruits =  ['Apple', 'Banana', 'Mango', 'Grape', 'Pear', 'Kiwi', 'Banana']\n",
        "for i in fruits:\n",
        "  print(i)"
      ],
      "metadata": {
        "colab": {
          "base_uri": "https://localhost:8080/"
        },
        "id": "4oyhveDnB6Y4",
        "outputId": "7672b6ef-2dc9-4d1a-9d74-79753009cf9b"
      },
      "execution_count": null,
      "outputs": [
        {
          "output_type": "stream",
          "name": "stdout",
          "text": [
            "Apple\n",
            "Banana\n",
            "Mango\n",
            "Grape\n",
            "Pear\n",
            "Kiwi\n",
            "Banana\n"
          ]
        }
      ]
    },
    {
      "cell_type": "code",
      "source": [
        "fruits =  ['Apple', 'Banana', 'Mango', 'Grape', 'Pear', 'Kiwi', 'Banana']\n",
        "for i in range(len(fruits)):\n",
        "  print(fruits[i])"
      ],
      "metadata": {
        "colab": {
          "base_uri": "https://localhost:8080/"
        },
        "id": "tkBZFpLm1Y_i",
        "outputId": "e1c7a0bd-0c83-43c2-f10b-b109e8972bf5"
      },
      "execution_count": null,
      "outputs": [
        {
          "output_type": "stream",
          "name": "stdout",
          "text": [
            "Apple\n",
            "Banana\n",
            "Mango\n",
            "Grape\n",
            "Pear\n",
            "Kiwi\n",
            "Banana\n"
          ]
        }
      ]
    },
    {
      "cell_type": "code",
      "source": [
        "fruits =  ['Apple', 'Banana', 'Mango', 'Grape', 'Pear', 'Kiwi', 'Banana']\n",
        "for index, item in enumerate(fruits):\n",
        "  print(index, item)"
      ],
      "metadata": {
        "colab": {
          "base_uri": "https://localhost:8080/"
        },
        "id": "wXKySZ6P1ghk",
        "outputId": "4f33c10b-c666-4a78-f5dc-4e394fec460e"
      },
      "execution_count": null,
      "outputs": [
        {
          "output_type": "stream",
          "name": "stdout",
          "text": [
            "0 Apple\n",
            "1 Banana\n",
            "2 Mango\n",
            "3 Grape\n",
            "4 Pear\n",
            "5 Kiwi\n",
            "6 Banana\n"
          ]
        }
      ]
    },
    {
      "cell_type": "markdown",
      "source": [
        "### Chek if an element is in a list\n",
        "Use the ‘in’ keyword in a if function\n"
      ],
      "metadata": {
        "id": "9k8pciN3XDMq"
      }
    },
    {
      "cell_type": "code",
      "source": [
        "fruits =  ['Apple', 'Banana', 'Mango', 'Grape', 'Pear', 'Kiwi', 'Banana']\n",
        "if 'Grape' in fruits:\n",
        "  print('Yes')"
      ],
      "metadata": {
        "colab": {
          "base_uri": "https://localhost:8080/"
        },
        "id": "yNzRQWYuXJZ_",
        "outputId": "0660c6c6-b53d-4798-c403-02f6c6785efa"
      },
      "execution_count": null,
      "outputs": [
        {
          "output_type": "stream",
          "name": "stdout",
          "text": [
            "Yes\n"
          ]
        }
      ]
    },
    {
      "cell_type": "code",
      "source": [
        "fruits =  ['Apple', 'Banana', 'Mango', 'Grape', 'Pear', 'Kiwi','Apple','Apple','Apple','Apple', 'Banana']\n",
        "while 'Apple' in fruits:\n",
        "  fruits.remove('Apple')\n",
        "print(fruits)"
      ],
      "metadata": {
        "colab": {
          "base_uri": "https://localhost:8080/"
        },
        "id": "Quga3P0h18KX",
        "outputId": "5f21508d-d16c-411c-fdc9-8da0193a862e"
      },
      "execution_count": null,
      "outputs": [
        {
          "output_type": "stream",
          "name": "stdout",
          "text": [
            "['Banana', 'Mango', 'Grape', 'Pear', 'Kiwi', 'Banana']\n"
          ]
        }
      ]
    },
    {
      "cell_type": "markdown",
      "source": [
        "### List final exercise (10 min)\n",
        "* Here is the first list [1,2,3] and here is the second ['hello', 'yo']\n",
        "* Print the sum of these list ([1, 2, 3, 'hello', 'yo'])\n",
        "* Do it with 3 differents methods\n"
      ],
      "metadata": {
        "id": "Wf3YqPoG-qhs"
      }
    },
    {
      "cell_type": "code",
      "source": [],
      "metadata": {
        "id": "4j5pt8ps-_ta"
      },
      "execution_count": null,
      "outputs": []
    }
  ]
}
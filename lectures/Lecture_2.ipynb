{
  "cells": [
    {
      "cell_type": "markdown",
      "metadata": {
        "id": "1NeGjB93jjUx"
      },
      "source": [
        "# Lecture 2: Variables, Inputs and Outputs"
      ]
    },
    {
      "cell_type": "markdown",
      "metadata": {
        "id": "f39Mb7uSjjbR"
      },
      "source": [
        "## Variables\n",
        "\n"
      ]
    },
    {
      "cell_type": "markdown",
      "metadata": {
        "id": "UWQcRMHMlyEP"
      },
      "source": [
        "### What is a variable\n",
        "\n",
        "- Close to mathematical concept\n",
        "- A box where you can put data inside\n",
        "- Easy to declare (= create)\n",
        "- Use an assignment operator (‘=‘)\n",
        "\n",
        "\n"
      ]
    },
    {
      "cell_type": "code",
      "execution_count": null,
      "metadata": {
        "colab": {
          "base_uri": "https://localhost:8080/"
        },
        "id": "JPO2pmZXkBhi",
        "outputId": "ac3e67c5-b74c-499a-9070-f49a807a1a3a"
      },
      "outputs": [
        {
          "name": "stdout",
          "output_type": "stream",
          "text": [
            "7 8 jhudrgkd;r\n"
          ]
        }
      ],
      "source": [
        "a = 7\n",
        "b = 8\n",
        "c = 'jhudrgkd;r'\n",
        "print(a, b ,c)"
      ]
    },
    {
      "cell_type": "markdown",
      "metadata": {
        "id": "H-OobGXnoSf3"
      },
      "source": [
        "### The different types of variables\n",
        "\n",
        "List of  main types:\n",
        "- String: “str” (“hello”, ‘hello’, “how are you”, …)\n",
        "- Floating point number: “float” (54.62, 656.5, 1.0, …)\n",
        "- Integers numbers: “int” (1, 6, 32197416, …)\n",
        "- Boolean values: “bool” (True, False)\n",
        "\n",
        "/!\\ Boolean values are case sensitive: False and True (not false, not FALSE)\n",
        "\n",
        "Double-quotes (“) and quote (‘) in python are the same\n"
      ]
    },
    {
      "cell_type": "code",
      "execution_count": null,
      "metadata": {
        "colab": {
          "base_uri": "https://localhost:8080/"
        },
        "id": "-PXi99_-oSMU",
        "outputId": "d1befcec-2ba9-4b9a-9ac0-f2cd2f497bc8"
      },
      "outputs": [
        {
          "name": "stdout",
          "output_type": "stream",
          "text": [
            "this is a text 65454.0524 5 True\n"
          ]
        }
      ],
      "source": [
        "a_text = \"this is a text\"\n",
        "a_float = 65454.0524\n",
        "a_int = 5\n",
        "a_bool = True\n",
        "print(a_text, a_float, a_int, a_bool)"
      ]
    },
    {
      "cell_type": "markdown",
      "metadata": {
        "id": "eT1SX3gWonkT"
      },
      "source": [
        "### The type of variables, useful functions\n",
        "\n",
        "Variable can change type automatically. <br>\n",
        "\n",
        "The type() function to get the type of a variable<br>\n",
        "\n",
        "Function switch to forced a variable type\n",
        "- str()\n",
        "- int()\n",
        "- float()\n",
        "- bool()\n"
      ]
    },
    {
      "cell_type": "code",
      "execution_count": null,
      "metadata": {
        "colab": {
          "base_uri": "https://localhost:8080/"
        },
        "id": "i8McKUz4oys5",
        "outputId": "80faacd0-9fee-4f72-f22c-792f46769b54"
      },
      "outputs": [
        {
          "name": "stdout",
          "output_type": "stream",
          "text": [
            "<class 'str'> <class 'float'> <class 'int'> <class 'bool'>\n"
          ]
        }
      ],
      "source": [
        "a_text = \"this is a text\"\n",
        "a_float = 65454.0524\n",
        "a_int = 5\n",
        "a_bool = True\n",
        "print(type(a_text), type(a_float), type(a_int), type(a_bool))"
      ]
    },
    {
      "cell_type": "code",
      "execution_count": null,
      "metadata": {
        "colab": {
          "base_uri": "https://localhost:8080/"
        },
        "id": "cJAhCTaBSE5e",
        "outputId": "83500b01-3eeb-45f9-c4c3-549c6540d232"
      },
      "outputs": [
        {
          "name": "stdout",
          "output_type": "stream",
          "text": [
            "TrueTrue\n",
            "<class 'float'>\n",
            "5.0\n",
            "1.0\n",
            "5\n"
          ]
        }
      ],
      "source": [
        "a_int_text = str(True)\n",
        "print(a_int_text*2)\n",
        "a = 5\n",
        "b = 2\n",
        "c = a/b\n",
        "print(type(c))\n",
        "a = float(5)\n",
        "print(a)\n",
        "a = float(True)\n",
        "print(a)\n",
        "a = int(5.999)\n",
        "print(a)"
      ]
    },
    {
      "cell_type": "markdown",
      "metadata": {
        "id": "fsk7vO5_ppuq"
      },
      "source": [
        "#### Exercise on variable type (10 min)\n",
        "\n",
        "Can you get the rule for the bool() function? \n",
        "\n",
        "When you use the bool() function, which string, int and float will return (create) a True value and which ones will create a False value? \n",
        "\n",
        "(fill the text behind)"
      ]
    },
    {
      "cell_type": "code",
      "execution_count": null,
      "metadata": {
        "colab": {
          "base_uri": "https://localhost:8080/"
        },
        "id": "zlLgtvmSp8uy",
        "outputId": "7c5de1bb-da30-4836-d431-95c11894a32e"
      },
      "outputs": [
        {
          "name": "stdout",
          "output_type": "stream",
          "text": [
            "True True\n",
            "False False\n",
            "True True\n",
            "False\n",
            "True True\n",
            "False\n"
          ]
        }
      ],
      "source": [
        "print(bool('Hello'), bool('False')) # True\n",
        "#Be caarefull str(False) ==> 'False' and bool('False') => True\n",
        "print(bool(''), bool(\"\")) # False\n",
        "print(bool(1), bool(-1)) #True\n",
        "print(bool(0)) #False\n",
        "print(bool(1.0), bool(-1.0)) #True\n",
        "print(bool(0.000000)) #False"
      ]
    },
    {
      "cell_type": "markdown",
      "metadata": {
        "id": "2_Fy5fwvp_fj"
      },
      "source": [
        "Result of exercise:\n",
        "\n",
        "For int: The numbers ... return a False value and the number ... a True value.\n",
        "\n",
        "For float: The numbers ... return a False value and the number ... a True value.\n",
        "\n",
        "For string: The text ... return a False value and the text ... a True value.\n"
      ]
    },
    {
      "cell_type": "markdown",
      "metadata": {
        "id": "W1PQqikOmCJE"
      },
      "source": [
        "### Variable and operators\n",
        "List of main operators: +, -, *, /, //, %\n",
        "\n",
        "// : quotient\n",
        "\n",
        "% : rest\n",
        "\n",
        "Examples: \n",
        "- 11//5 = 2 (because 2*5 = 10)\n",
        "- 11%5 = 1 (because 11- (2*5) = 1)\n",
        "\n",
        "Can add variable together\n",
        "\n",
        "Type a data automatically change if necessary\n"
      ]
    },
    {
      "cell_type": "code",
      "execution_count": null,
      "metadata": {
        "colab": {
          "base_uri": "https://localhost:8080/"
        },
        "id": "G5nXpI4OsEPo",
        "outputId": "7031e2ab-526d-4a8f-bc5b-c8c62f5ab5fe"
      },
      "outputs": [
        {
          "name": "stdout",
          "output_type": "stream",
          "text": [
            "8\n",
            "2\n",
            "b * 8 + 2 = a\n",
            "32\n",
            "<class 'float'> <class 'float'>\n"
          ]
        }
      ],
      "source": [
        "a = 26\n",
        "b = 3\n",
        "print(a//b)\n",
        "print(a%b)\n",
        "print('b * 8 + 2 = a')\n",
        "print(2**5)\n",
        "print(type(5/2), type(2.5*2))"
      ]
    },
    {
      "cell_type": "markdown",
      "metadata": {
        "id": "ldpKPjl6vR8y"
      },
      "source": [
        "### Variable name\n",
        "Authorized characters: letters, numbers and underscore (‘_’)\n",
        "\n",
        "Case sensitive (A not the same than a)\n",
        "\n",
        "Exception:\n",
        "- No numbers in first position\n",
        "\n",
        "PEP8 rules: https://peps.python.org/pep-0008/ (not mandatory but recommended)\n",
        "- For variable: lowercase and underscores\n"
      ]
    },
    {
      "cell_type": "code",
      "execution_count": null,
      "metadata": {
        "colab": {
          "base_uri": "https://localhost:8080/"
        },
        "id": "MOVNYfH4vdN5",
        "outputId": "5555ece9-d912-47db-bb50-c2c6f3b94406"
      },
      "outputs": [
        {
          "name": "stdout",
          "output_type": "stream",
          "text": [
            "11\n"
          ]
        }
      ],
      "source": [
        "a = 5\n",
        "a_512356 = 6\n",
        "# a-jdgh = 7\n",
        "# 5_a = 5\n",
        "_helo = 5\n",
        "_ = 6\n",
        "__________1 = 100\n",
        "HELLO = 5\n",
        "hello = 6\n",
        "print(HELLO + hello)\n",
        "l = 5\n",
        "I = 6\n",
        "O = 0\n",
        "this_is_a_good_variable_name = 6\n",
        "ThisIsBad = 5\n",
        "THISISNOTGOOD = 10"
      ]
    },
    {
      "cell_type": "markdown",
      "metadata": {
        "id": "AB_SpZzTv8VX"
      },
      "source": [
        "### Assignment methods\n",
        "Multiple assignment\n",
        "\n",
        "Special assignment operator:\n",
        "- +=\n",
        "- -= \n",
        "- *= \n",
        "- /= \n"
      ]
    },
    {
      "cell_type": "code",
      "execution_count": null,
      "metadata": {
        "colab": {
          "base_uri": "https://localhost:8080/"
        },
        "id": "RdRF-U13xNdP",
        "outputId": "54f42910-4f64-4947-b432-fe30d90ebb36"
      },
      "outputs": [
        {
          "name": "stdout",
          "output_type": "stream",
          "text": [
            "51 65 698\n",
            "(51, 65, 698)\n",
            "11 11\n"
          ]
        }
      ],
      "source": [
        "hello, a, var = 51, 65, 698\n",
        "print(hello, a, var)\n",
        "hello = 51, 65, 698\n",
        "print(hello)\n",
        "a = b = c = 11\n",
        "print(a, c)"
      ]
    },
    {
      "cell_type": "code",
      "execution_count": null,
      "metadata": {
        "colab": {
          "base_uri": "https://localhost:8080/"
        },
        "id": "wOj1LY1DcWwv",
        "outputId": "affbc94b-3693-48d2-f8de-02e78890d5e1"
      },
      "outputs": [
        {
          "name": "stdout",
          "output_type": "stream",
          "text": [
            "11\n"
          ]
        }
      ],
      "source": [
        "varia = 10\n",
        "varia += 1 #varia = varia + 1\n",
        "print(varia)"
      ]
    },
    {
      "cell_type": "markdown",
      "metadata": {
        "id": "ehhXb5Zzxh7-"
      },
      "source": [
        "### Exercise on Variables (10 min):\n",
        "\n",
        "In the following code, print the sentence \"The result of 10 + 5 is 15 (I'm almost sure)\".\n",
        "\n",
        "You must have the **exact** same sentence (white-space included). you cannot change the code which is already written.\n",
        "\n",
        "You must use: \n",
        "- this assignment operator '+='\n",
        "- functions : int() or str()\n",
        "\n",
        "Remember:\n",
        "- You can print two text with the + operator (print(t1 + t2))\n",
        "- You can print strings and int together with arguement (print(t1, n1))\n",
        "\n",
        "(69 students)"
      ]
    },
    {
      "cell_type": "code",
      "execution_count": null,
      "metadata": {
        "colab": {
          "base_uri": "https://localhost:8080/"
        },
        "id": "BqeLlZ0UyCSM",
        "outputId": "4efc4adb-43b1-4a9f-93a9-def907ce41b1"
      },
      "outputs": [
        {
          "name": "stdout",
          "output_type": "stream",
          "text": [
            "The result of 10 + 5 is 15 (I'm almost sure)\n"
          ]
        }
      ],
      "source": [
        "text1 = \"(I'm almost sure)\"\n",
        "text2 = \"The result \"\n",
        "text3 = \"of \"\n",
        "text4 = \"+\"\n",
        "text5 = \"is\"\n",
        "number1 = '10'\n",
        "number2 = 4\n",
        "number2 += 1\n",
        "print(text2 + text3 + number1, text4, number2, text5, number2+int(number1), text1)\n",
        "\n"
      ]
    },
    {
      "cell_type": "markdown",
      "metadata": {
        "id": "heDFg2-HsrRk"
      },
      "source": [
        "## User inputs"
      ]
    },
    {
      "cell_type": "markdown",
      "metadata": {
        "id": "enyl3P5CsvCZ"
      },
      "source": [
        "### The input function\n",
        "\n",
        "The input() function\n",
        "\n",
        "Stop the program and wait until user input\n",
        "\n",
        "User input is in the console\n",
        "\n",
        "User type character and then “enter”\n",
        "\n",
        "You can store this input in a variable\n",
        "\n",
        "The type is always a string.\n"
      ]
    },
    {
      "cell_type": "code",
      "execution_count": null,
      "metadata": {
        "colab": {
          "base_uri": "https://localhost:8080/"
        },
        "id": "iDBFKwLrsuW4",
        "outputId": "45fa0b07-a093-473e-8aa1-db0250e70a9f"
      },
      "outputs": [
        {
          "name": "stdout",
          "output_type": "stream",
          "text": [
            "1\n",
            "1111111111\n",
            "<class 'str'>\n"
          ]
        }
      ],
      "source": [
        "a = input()\n",
        "print(a*10)\n",
        "print(type(a))"
      ]
    },
    {
      "cell_type": "markdown",
      "metadata": {
        "id": "E_0DC5LYtkHq"
      },
      "source": [
        "### Text with the input and numbers\n",
        "Adding a text with the input: use it as argument\n",
        "\n",
        "Use the type functions (int(), float()) to automatically transform it into numbers.\n"
      ]
    },
    {
      "cell_type": "code",
      "execution_count": null,
      "metadata": {
        "colab": {
          "base_uri": "https://localhost:8080/"
        },
        "id": "Q0yqERiftqFD",
        "outputId": "88d4a0a4-c8e9-4a95-fe14-7a8233316b8c"
      },
      "outputs": [
        {
          "name": "stdout",
          "output_type": "stream",
          "text": [
            "enter a value : \n",
            "The value is:  \n"
          ]
        }
      ],
      "source": [
        "a = input(\"enter a value : \")\n",
        "print('The value is: ', a)"
      ]
    },
    {
      "cell_type": "code",
      "execution_count": null,
      "metadata": {
        "colab": {
          "base_uri": "https://localhost:8080/",
          "height": 204
        },
        "id": "dxG2SBaZhH4H",
        "outputId": "6ce5e6e6-1e7a-4e15-b444-81878284ee1b"
      },
      "outputs": [
        {
          "name": "stdout",
          "output_type": "stream",
          "text": [
            "enter a value (a int please): kjhg\n"
          ]
        },
        {
          "ename": "ValueError",
          "evalue": "ignored",
          "output_type": "error",
          "traceback": [
            "\u001b[0;31m---------------------------------------------------------------------------\u001b[0m",
            "\u001b[0;31mValueError\u001b[0m                                Traceback (most recent call last)",
            "\u001b[0;32m<ipython-input-84-4edf63ab29ac>\u001b[0m in \u001b[0;36m<module>\u001b[0;34m\u001b[0m\n\u001b[0;32m----> 1\u001b[0;31m \u001b[0ma\u001b[0m \u001b[0;34m=\u001b[0m \u001b[0mint\u001b[0m\u001b[0;34m(\u001b[0m\u001b[0minput\u001b[0m\u001b[0;34m(\u001b[0m\u001b[0;34m\"enter a value (a int please): \"\u001b[0m\u001b[0;34m)\u001b[0m\u001b[0;34m)\u001b[0m\u001b[0;34m\u001b[0m\u001b[0;34m\u001b[0m\u001b[0m\n\u001b[0m\u001b[1;32m      2\u001b[0m \u001b[0mprint\u001b[0m\u001b[0;34m(\u001b[0m\u001b[0;34m'The value is: '\u001b[0m\u001b[0;34m,\u001b[0m \u001b[0ma\u001b[0m\u001b[0;34m,\u001b[0m \u001b[0;34m'and its type is: '\u001b[0m\u001b[0;34m,\u001b[0m \u001b[0mtype\u001b[0m\u001b[0;34m(\u001b[0m\u001b[0ma\u001b[0m\u001b[0;34m)\u001b[0m\u001b[0;34m)\u001b[0m\u001b[0;34m\u001b[0m\u001b[0;34m\u001b[0m\u001b[0m\n",
            "\u001b[0;31mValueError\u001b[0m: invalid literal for int() with base 10: 'kjhg'"
          ]
        }
      ],
      "source": [
        "a = int(input(\"enter a value (a int please): \"))\n",
        "print('The value is: ', a, 'and its type is: ', type(a))"
      ]
    },
    {
      "cell_type": "markdown",
      "metadata": {
        "id": "GFbL6BoNufCR"
      },
      "source": [
        "## Output: the print function()\n",
        "\n",
        "See lecture 1"
      ]
    },
    {
      "cell_type": "markdown",
      "metadata": {
        "id": "C2R3sfvSuicl"
      },
      "source": [
        "## Exercise (15 min): input, variable and output\n",
        "\n",
        "Make a code which:\n",
        "- ask from the user two numbers\n",
        "- print the addition, multiplication, substraction and division of these numbers.\n",
        "- add a text to every print to explain the calculation (example: \"1 + 5 = 6\")"
      ]
    },
    {
      "cell_type": "code",
      "execution_count": null,
      "metadata": {
        "id": "4Fr2-Yckvcsx"
      },
      "outputs": [],
      "source": [
        "#Exercise:\n"
      ]
    },
    {
      "cell_type": "markdown",
      "metadata": {
        "id": "mSu1JTv4xd-d"
      },
      "source": [
        "## Operators"
      ]
    },
    {
      "cell_type": "markdown",
      "metadata": {
        "id": "rRe6isSUxkXU"
      },
      "source": [
        "### Logical operators\n",
        "\n",
        "Two operators:\n",
        "- or\n",
        "- and\n",
        "- not\n",
        "Case sensitive (AND, And)\n",
        "\n",
        "Example:\n",
        "- “or” : if at least one is True, the result is True\n",
        "- “and”: if all are True, the result is True\n",
        "- “not”: if it’s False, the result is True\n"
      ]
    },
    {
      "cell_type": "code",
      "execution_count": null,
      "metadata": {
        "colab": {
          "base_uri": "https://localhost:8080/"
        },
        "id": "-3pgGBJIxsbc",
        "outputId": "366820be-59c2-4373-da3f-9f7626826a89"
      },
      "outputs": [
        {
          "name": "stdout",
          "output_type": "stream",
          "text": [
            "True\n"
          ]
        }
      ],
      "source": [
        "# print(True   and   True) #a > 1\n",
        "# print(True   and   False)\n",
        "# print(False   and   True)\n",
        "# print(False   and   False)\n",
        "\n",
        "# print(True   or   True) \n",
        "# print(True   or   False)\n",
        "# print(False   or   True)\n",
        "# print(False   or   False)\n",
        "\n",
        "print(not 1 > 2)\n"
      ]
    },
    {
      "cell_type": "markdown",
      "metadata": {
        "id": "Ah4agyE9ynsX"
      },
      "source": [
        "### Comparison operators\n",
        "\n",
        "Comparison operators:\n",
        "- == (equal)\n",
        "- != (not equal)\n",
        "- \\> (greater than)\n",
        "- < (less than)\n",
        "- <= (less or equal than)\n",
        "- \\>= (greater or equal than)\n"
      ]
    },
    {
      "cell_type": "code",
      "execution_count": null,
      "metadata": {
        "colab": {
          "base_uri": "https://localhost:8080/"
        },
        "id": "NDALO4qCzWUQ",
        "outputId": "07ed8011-e9fe-4eb6-81df-f9ea457f8222"
      },
      "outputs": [
        {
          "name": "stdout",
          "output_type": "stream",
          "text": [
            "False\n",
            "True\n",
            "True\n"
          ]
        }
      ],
      "source": [
        "print(1 > 2 and 5 == 5)\n",
        "print(1 > 2 or 5 == 5)\n",
        "print( 6== 6 and 5<= 6 and 5>= 5)"
      ]
    },
    {
      "cell_type": "code",
      "execution_count": null,
      "metadata": {
        "colab": {
          "base_uri": "https://localhost:8080/"
        },
        "id": "rr3jZE-IjUWc",
        "outputId": "ace252d7-90f7-46db-e334-1b9ee79149cb"
      },
      "outputs": [
        {
          "name": "stdout",
          "output_type": "stream",
          "text": [
            "Enter a number: -5\n",
            "False\n"
          ]
        }
      ],
      "source": [
        "\n",
        "b = int(input('Enter a number: '))\n",
        "print(b > 2)"
      ]
    },
    {
      "cell_type": "markdown",
      "metadata": {
        "id": "LoDkQLgdzf1N"
      },
      "source": [
        "### Identity operators\n",
        "\n",
        "Identity operators:\n",
        "- is\n",
        "- is not\n",
        "\n",
        "Compare if two object (variable for example) are the same\n"
      ]
    },
    {
      "cell_type": "code",
      "execution_count": null,
      "metadata": {
        "colab": {
          "base_uri": "https://localhost:8080/"
        },
        "id": "DbV4a3I8zndq",
        "outputId": "704f48a8-f0e2-4c21-9dc1-3e877ca7f9e3"
      },
      "outputs": [
        {
          "name": "stdout",
          "output_type": "stream",
          "text": [
            "False\n"
          ]
        }
      ],
      "source": [
        "a = 5\n",
        "b = 5\n",
        "print(a is b)"
      ]
    },
    {
      "cell_type": "markdown",
      "metadata": {
        "id": "vrUjs7FXz7Sk"
      },
      "source": [
        "### Exercise Operators (10 min)\n",
        "**Step 1.**\n",
        "Make a program which does the following:\n",
        "- ask the user one number.\n",
        "- print the following message: \"Your number is betwwen 0 and 10: True\" replace True by False if the number is not between 0 and 10..\n",
        "\n",
        "**Step 2.** \n",
        "\n",
        "Print two messsages according to the inputs: \n",
        "- \"Yes your number is between 0 and 10!\".\n",
        "- \"No your number is not at all between 0 and 10!\"\n",
        "\n",
        "(**You are not allowed to use the if function.**)"
      ]
    },
    {
      "cell_type": "code",
      "execution_count": null,
      "metadata": {
        "colab": {
          "base_uri": "https://localhost:8080/"
        },
        "id": "uArSSMJtz_ax",
        "outputId": "bd240bed-a117-486d-e8e9-938454b2145d"
      },
      "outputs": [
        {
          "name": "stdout",
          "output_type": "stream",
          "text": [
            "Enter a number: 5\n",
            "Your number is betwwen 0 and 10: True\n"
          ]
        }
      ],
      "source": [
        "a = int(input(\"Enter a number: \"))\n",
        "print(\"Your number is betwwen 0 and 10:\", 0 < a < 10)\n"
      ]
    },
    {
      "cell_type": "code",
      "execution_count": null,
      "metadata": {
        "colab": {
          "base_uri": "https://localhost:8080/"
        },
        "id": "hmhf6xDTlt3n",
        "outputId": "23ddbb68-8158-44b7-b276-13ca7e06e45d"
      },
      "outputs": [
        {
          "name": "stdout",
          "output_type": "stream",
          "text": [
            "Enter a number: 25\n",
            "No your number is not at all between 0 and 10!\n"
          ]
        }
      ],
      "source": [
        "a = int(input(\"Enter a number: \"))\n",
        "b = 0 < a < 10\n",
        "# b = int(b)\n",
        "\n",
        "print(\"Yes your number is between 0 and 10!\"*int(b), end = '')\n",
        "print(\"No your number is not at all between 0 and 10!\"*int(not b))"
      ]
    }
  ],
  "metadata": {
    "colab": {
      "provenance": []
    },
    "kernelspec": {
      "display_name": "Python 3",
      "language": "python",
      "name": "python3"
    },
    "language_info": {
      "name": "python",
      "version": "3.8.10 (default, Nov 14 2022, 12:59:47) \n[GCC 9.4.0]"
    },
    "vscode": {
      "interpreter": {
        "hash": "916dbcbb3f70747c44a77c7bcd40155683ae19c65e1c03b4aa3499c5328201f1"
      }
    }
  },
  "nbformat": 4,
  "nbformat_minor": 0
}

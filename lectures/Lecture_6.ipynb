{
  "cells": [
    {
      "cell_type": "markdown",
      "metadata": {
        "id": "hzWGUEUwDXN8"
      },
      "source": [
        "# Lecture 6: The while loop"
      ]
    },
    {
      "cell_type": "markdown",
      "metadata": {
        "id": "ryr7rZLJE3PD"
      },
      "source": [
        "## Correction practice 5 and reminder"
      ]
    },
    {
      "cell_type": "markdown",
      "metadata": {
        "id": "IwIevdbMFW2O"
      },
      "source": [
        "### All numbers.\n",
        "- Print all numbers between 5 and 50 (included) on the same line with one space between\n",
        "each."
      ]
    },
    {
      "cell_type": "code",
      "execution_count": null,
      "metadata": {
        "colab": {
          "base_uri": "https://localhost:8080/"
        },
        "id": "riQs1G5jE64m",
        "outputId": "ed6cb506-2713-43a3-f5f3-0872431ab3bc"
      },
      "outputs": [
        {
          "name": "stdout",
          "output_type": "stream",
          "text": [
            "5 6 7 8 9 10 11 12 13 14 15 16 17 18 19 20 21 22 23 24 25 26 27 28 29 30 31 32 33 34 35 36 37 38 39 40 41 42 43 44 45 46 47 48 49 50 "
          ]
        }
      ],
      "source": [
        "for i in range(5, 51, 1):\n",
        "  print(i, end = ' ')"
      ]
    },
    {
      "cell_type": "markdown",
      "metadata": {
        "id": "k5smz50gFssg"
      },
      "source": [
        "### Give user information.\n",
        "- Ask for user three inputs: a start, an end and a step and print all number according to these inputs."
      ]
    },
    {
      "cell_type": "code",
      "execution_count": null,
      "metadata": {
        "colab": {
          "base_uri": "https://localhost:8080/"
        },
        "id": "N6EFdVNbF3qZ",
        "outputId": "b194b1a3-c97e-4320-f73d-56e7675605b5"
      },
      "outputs": [
        {
          "name": "stdout",
          "output_type": "stream",
          "text": [
            "Enter a start number50\n",
            "Enter a end number20\n",
            "Enter a step-3\n",
            "50-47-44-41-38-35-32-29-26-23-"
          ]
        }
      ],
      "source": [
        "start = int(input('Enter a start number'))\n",
        "end = int(input('Enter a end number'))\n",
        "step = int(input('Enter a step'))\n",
        "for i in range(start, end, step):\n",
        "  print(i, end = '-')"
      ]
    },
    {
      "cell_type": "markdown",
      "metadata": {
        "id": "ZmW6IYQyF4LE"
      },
      "source": [
        "### The simple pyramid\n",
        "* Ask for the user the height of the required pyramid and print a pyramid of stars according to the input."
      ]
    },
    {
      "cell_type": "code",
      "execution_count": null,
      "metadata": {
        "colab": {
          "base_uri": "https://localhost:8080/"
        },
        "id": "0WTeXgy3F-03",
        "outputId": "7a17c01f-d09e-4491-97f8-edb9a93f5ca1"
      },
      "outputs": [
        {
          "name": "stdout",
          "output_type": "stream",
          "text": [
            "Enter the height: 6\n",
            "*\n",
            "**\n",
            "***\n",
            "****\n",
            "*****\n",
            "******\n"
          ]
        }
      ],
      "source": [
        "a = int(input(\"Enter the height: \"))\n",
        "for i in range(1, a+1):\n",
        "  print(i * '*')"
      ]
    },
    {
      "cell_type": "markdown",
      "metadata": {
        "id": "2imLQ2tZdt_r"
      },
      "source": [
        "### The less simple pyramid\n",
        "- Ask for the user the height of the required pyramid and print a pyramid"
      ]
    },
    {
      "cell_type": "code",
      "execution_count": null,
      "metadata": {
        "colab": {
          "base_uri": "https://localhost:8080/"
        },
        "id": "JAN-bGHedt_t",
        "outputId": "3e7df425-8455-433b-9a88-817508e0e04b"
      },
      "outputs": [
        {
          "name": "stdout",
          "output_type": "stream",
          "text": [
            "Enter the height: 6\n",
            "*\n",
            "***\n",
            "*****\n",
            "*******\n",
            "*********\n",
            "***********\n"
          ]
        }
      ],
      "source": [
        "a = int(input(\"Enter the height: \"))\n",
        "for i in range(1, a * 2, 2):\n",
        "  print(i * '*')"
      ]
    },
    {
      "cell_type": "markdown",
      "metadata": {
        "id": "Y3y8NJkdduTl"
      },
      "source": [
        "### The perfect simple pyramid\n",
        "- Ask for the user the height of the required pyramid and print a pyramid of stars according to the input (each level has 2 stars more than the previous one and they are centred)."
      ]
    },
    {
      "cell_type": "code",
      "execution_count": null,
      "metadata": {
        "colab": {
          "base_uri": "https://localhost:8080/"
        },
        "id": "TsR647QAduTm",
        "outputId": "29295c4d-a5e3-4550-aa19-ba2f6ab0c559"
      },
      "outputs": [
        {
          "name": "stdout",
          "output_type": "stream",
          "text": [
            "Enter the height: 4\n",
            "   *\n",
            "  ***\n",
            " *****\n",
            "*******\n"
          ]
        }
      ],
      "source": [
        "a = int(input(\"Enter the height: \"))\n",
        "n = a-1\n",
        "for i in range(1, a * 2, 2):\n",
        "  print(n * \" \" + i * '*')\n",
        "  n -= 1"
      ]
    },
    {
      "cell_type": "markdown",
      "metadata": {
        "id": "4ahkUgNtduqd"
      },
      "source": [
        "### The prime numbers\n",
        "- Ask for the user a number. You program will tell if it’s a prime number. The definition of a prime number is: “a whole number greater than 1 that cannot be exactly divided by any whole number other than itself and 1 (e.g. 2, 3, 5, 7, 11). »"
      ]
    },
    {
      "cell_type": "code",
      "execution_count": null,
      "metadata": {
        "colab": {
          "base_uri": "https://localhost:8080/"
        },
        "id": "DaeE_n2gduqf",
        "outputId": "301842b7-84ee-4875-9fc6-c6a8be344b56"
      },
      "outputs": [
        {
          "name": "stdout",
          "output_type": "stream",
          "text": [
            "Enter a number: 8\n",
            "It is not a prime number because  2 x 4 = 8\n"
          ]
        }
      ],
      "source": [
        "num = int(input('Enter a number: '))\n",
        "prime = True\n",
        "for i in range(2, num, 1):\n",
        "  if num%i == 0:\n",
        "    prime = False\n",
        "    print('It is not a prime number because ', i, 'x', num//i, '=', num)\n",
        "    break\n",
        "# else:\n",
        "#   print('prime')\n",
        "if prime: print('prime')"
      ]
    },
    {
      "cell_type": "markdown",
      "metadata": {
        "id": "ESKqh3mAOFY-"
      },
      "source": [
        "## Correction of assignment 1 (the beginners version)\n",
        "\n",
        "-\tYour code must print all the calculation on the two inputs (addition, subtraction, multiplication, division).\n"
      ]
    },
    {
      "cell_type": "code",
      "execution_count": null,
      "metadata": {
        "colab": {
          "base_uri": "https://localhost:8080/"
        },
        "id": "HnEKsiUXOPa5",
        "outputId": "b6a4c467-ffa3-4cf9-bae9-5a1064d8ca9e"
      },
      "outputs": [
        {
          "name": "stdout",
          "output_type": "stream",
          "text": [
            "A number:100\n",
            "A number:10\n",
            "100 + 10 = 110\n",
            "100 - 10 = 90\n",
            "100 * 10 = 1000\n",
            "100 / 10 = 10.0\n"
          ]
        }
      ],
      "source": [
        "a = int(input(\"A number:\"))\n",
        "b = int(input(\"A number:\"))\n",
        "print(a, \"+\", b,\"=\", a+b)\n",
        "print(a, \"-\", b,\"=\",a-b)\n",
        "print(a, \"*\", b,\"=\",a*b)\n",
        "print(a, \"/\", b,\"=\",a/b)"
      ]
    },
    {
      "cell_type": "markdown",
      "metadata": {
        "id": "cuRktX6eJW-H"
      },
      "source": [
        "## Assignment 2: The best pyramid\n",
        "\n",
        "Ask for the user 2 inputs: \n",
        "* The height of the pyramid \n",
        "* The character used for the top of the pyramid\n",
        "\n",
        "Print the pyramid according to the two inputs"
      ]
    },
    {
      "cell_type": "code",
      "execution_count": null,
      "metadata": {
        "id": "nUae4rxbKIOD"
      },
      "outputs": [],
      "source": []
    },
    {
      "cell_type": "markdown",
      "metadata": {
        "id": "x3QLlRAnEy_i"
      },
      "source": [
        "## The while loop"
      ]
    },
    {
      "cell_type": "markdown",
      "metadata": {
        "id": "QVqxqz998c3X"
      },
      "source": [
        "### Why a while loop?\n",
        "\n",
        "* Same code execute several times\n",
        "* The exit of the loop is done according to a condition\n",
        "\n",
        "\n"
      ]
    },
    {
      "cell_type": "code",
      "execution_count": null,
      "metadata": {
        "id": "O6t4pgz79kVc"
      },
      "outputs": [],
      "source": []
    },
    {
      "cell_type": "markdown",
      "metadata": {
        "id": "h14u99C2_ZFU"
      },
      "source": [
        "### What is a while loop\n",
        "\n",
        "* Keyword (while) + condition (any) + colon (:) then indentation and code to execute several time\n",
        "* Really similar to if\n",
        "\n",
        "\n"
      ]
    },
    {
      "cell_type": "code",
      "execution_count": null,
      "metadata": {
        "colab": {
          "base_uri": "https://localhost:8080/"
        },
        "id": "z633VFey_hVs",
        "outputId": "9329439b-0d40-4eb1-af11-af5a53bfd5b4"
      },
      "outputs": [
        {
          "name": "stdout",
          "output_type": "stream",
          "text": [
            "hello\n",
            "hello\n",
            "hello\n",
            "hello\n",
            "hello\n"
          ]
        }
      ],
      "source": [
        "a = 0\n",
        "while a !=5:\n",
        "  print('hello')\n",
        "  a += 1"
      ]
    },
    {
      "cell_type": "code",
      "execution_count": null,
      "metadata": {
        "id": "MaLIZEuri5sf"
      },
      "outputs": [],
      "source": [
        "m = 0\n",
        "while m != 5:\n",
        "  print('hello')\n",
        "  m += 2\n",
        "\n",
        "while True:\n",
        "  print('hello')"
      ]
    },
    {
      "cell_type": "markdown",
      "metadata": {
        "id": "O9kDuc3cDCJB"
      },
      "source": [
        "### Some information\n",
        "* As many line as you want\n",
        "* Indented lines => inside the loop\n",
        "* You can use variables from before\n"
      ]
    },
    {
      "cell_type": "code",
      "execution_count": null,
      "metadata": {
        "colab": {
          "base_uri": "https://localhost:8080/"
        },
        "id": "gYbEziPZDGVK",
        "outputId": "13938d84-e9b6-4c1e-d1e9-1d8cd2e956c4"
      },
      "outputs": [
        {
          "name": "stdout",
          "output_type": "stream",
          "text": [
            "hi\n",
            "hello\n",
            "hi\n",
            "hello\n",
            "hi\n",
            "hello\n",
            "hi\n",
            "hello\n",
            "hi\n",
            "hello\n",
            "hi\n",
            "hello\n",
            "hi\n",
            "hello\n",
            "hi\n",
            "hello\n"
          ]
        }
      ],
      "source": [
        "a = 0 \n",
        "while a < 8:\n",
        "  print('hi')\n",
        "  print('hello')\n",
        "  a += 1"
      ]
    },
    {
      "cell_type": "markdown",
      "metadata": {
        "id": "7ZXPDEF0D84m"
      },
      "source": [
        "### Exercise (5 min): \n",
        "* Ask a user input\n",
        "* print the numbers from 0 until this number with a while loop\n",
        "* print the sum of numbers"
      ]
    },
    {
      "cell_type": "code",
      "execution_count": null,
      "metadata": {
        "colab": {
          "base_uri": "https://localhost:8080/"
        },
        "id": "gneR5KHREsSs",
        "outputId": "422cc687-d104-4963-8070-3744bbdf9e53"
      },
      "outputs": [
        {
          "name": "stdout",
          "output_type": "stream",
          "text": [
            "Enter a number: 10\n",
            "0 1 2 3 4 5 6 7 8 9 10 55\n"
          ]
        }
      ],
      "source": [
        "n = int(input('Enter a number: '))\n",
        "total = 0\n",
        "a = -1\n",
        "while a < n:\n",
        "  a += 1\n",
        "  total += a\n",
        "  print(a, end = ' ')\n",
        "print(total)"
      ]
    },
    {
      "cell_type": "markdown",
      "metadata": {
        "id": "THsSTl-KDGld"
      },
      "source": [
        "### Difference between while and for\n",
        "* If fixed number of iteration => for loop\n",
        "* If always exit for loop with a break => while loop\n",
        "\n",
        "\n"
      ]
    },
    {
      "cell_type": "code",
      "execution_count": null,
      "metadata": {
        "id": "ukl51JW_DgcV"
      },
      "outputs": [],
      "source": [
        "#fixed number\n",
        "# a = 0\n",
        "# while a <8:\n",
        "#   print('hi', end = ' ')\n",
        "#   a += 1\n",
        "for i in range(0,8):\n",
        "  print('hi', end = ' ')"
      ]
    },
    {
      "cell_type": "code",
      "execution_count": null,
      "metadata": {
        "id": "6lURDmfsmiS_"
      },
      "outputs": [],
      "source": [
        "# for i in range(0, 10000):\n",
        "#   if i > 10:\n",
        "#     break\n",
        "#   i *= 2\n",
        "i = 0\n",
        "while i< 10:\n",
        "  print(i)\n",
        "  i *= 2"
      ]
    },
    {
      "cell_type": "markdown",
      "metadata": {
        "id": "W0aehaezE_jM"
      },
      "source": [
        "### Exercise (10 min):\n",
        "Ask for user input and print the lowest number which is bigger to this number when factorial (using while function).\n",
        "\n",
        "Input: 563, Output: \"6, because 6! > 563\"\n",
        "\n",
        "Input: 8, Output: \"4, because 4! > 8\"\n",
        "\n",
        "Input: 51963, Output: \"9, because 9! > 51963\""
      ]
    },
    {
      "cell_type": "code",
      "execution_count": null,
      "metadata": {
        "colab": {
          "base_uri": "https://localhost:8080/"
        },
        "id": "2ZYKpHmSE_Oo",
        "outputId": "352c06fb-f889-450a-c212-3635036a1386"
      },
      "outputs": [
        {
          "name": "stdout",
          "output_type": "stream",
          "text": [
            "Enter a number: 563\n",
            "6\n"
          ]
        }
      ],
      "source": [
        "fact = 1\n",
        "i = int(input('Enter a number: '))\n",
        "n = 1\n",
        "while fact < i:\n",
        "  n += 1\n",
        "  fact *= n\n",
        "print(n)"
      ]
    },
    {
      "cell_type": "markdown",
      "metadata": {
        "id": "wtXYuz4RA5cD"
      },
      "source": [
        "(5 min) Do the same exercise whith the for function."
      ]
    },
    {
      "cell_type": "code",
      "execution_count": null,
      "metadata": {
        "colab": {
          "base_uri": "https://localhost:8080/"
        },
        "id": "fuz_ujpPA8L4",
        "outputId": "c8e340cd-484a-467e-af62-9441af12c543"
      },
      "outputs": [
        {
          "name": "stdout",
          "output_type": "stream",
          "text": [
            "Enter a number: 100\n",
            "5\n"
          ]
        }
      ],
      "source": [
        "fact = 1\n",
        "a = int(input('Enter a number: '))\n",
        "for i in range(2, a):\n",
        "  fact *= i\n",
        "  if fact > a:\n",
        "    print(i)\n",
        "    break"
      ]
    },
    {
      "cell_type": "markdown",
      "metadata": {
        "id": "UdW_xa8ysS26"
      },
      "source": [
        "### Break and continue\n",
        "Exactly like for"
      ]
    },
    {
      "cell_type": "code",
      "execution_count": null,
      "metadata": {
        "colab": {
          "base_uri": "https://localhost:8080/"
        },
        "id": "pJqcpaoLsV5O",
        "outputId": "3a5a3b13-43f2-4723-df7d-a7cddd350e61"
      },
      "outputs": [
        {
          "name": "stdout",
          "output_type": "stream",
          "text": [
            "0 1 2 3 4 5 "
          ]
        }
      ],
      "source": [
        "a = 0\n",
        "while a <8:\n",
        "  print(a, end = ' ')\n",
        "  a += 1\n",
        "  if a > 5:\n",
        "    break"
      ]
    },
    {
      "cell_type": "code",
      "execution_count": null,
      "metadata": {
        "colab": {
          "base_uri": "https://localhost:8080/"
        },
        "id": "ZlxKzNcXsjdX",
        "outputId": "52b4c489-69e8-4b99-ca02-169a4365ed9b"
      },
      "outputs": [
        {
          "name": "stdout",
          "output_type": "stream",
          "text": [
            "1 2 3 4 5 8 "
          ]
        }
      ],
      "source": [
        "a = 0\n",
        "while a <8:\n",
        "  if a == 5:\n",
        "    a += 2\n",
        "    continue\n",
        "  a += 1\n",
        "  print(a, end = ' ')\n",
        "  "
      ]
    },
    {
      "cell_type": "markdown",
      "metadata": {
        "id": "1kULi_uIDgsm"
      },
      "source": [
        "### The else statement\n",
        "* Work for the “for” and the “while” loop\n",
        "* Only executed of the loop is finish\n",
        "* Not done if break is used to exit the loop\n",
        "\n"
      ]
    },
    {
      "cell_type": "code",
      "execution_count": null,
      "metadata": {
        "colab": {
          "base_uri": "https://localhost:8080/"
        },
        "id": "uZQ2Nk8jDpjt",
        "outputId": "0ce5ee58-55fd-4dd5-afd9-43aab174b6dd"
      },
      "outputs": [
        {
          "name": "stdout",
          "output_type": "stream",
          "text": [
            "0 1 2 3 4 5 6 7 8 9 10 "
          ]
        }
      ],
      "source": [
        "for i in range(0,20):\n",
        "  print(i, end = ' ')\n",
        "  if i == 10:\n",
        "    break\n",
        "else:\n",
        "  print('The loop has finished')"
      ]
    },
    {
      "cell_type": "code",
      "execution_count": null,
      "metadata": {
        "colab": {
          "base_uri": "https://localhost:8080/"
        },
        "id": "rAurxAZttNx9",
        "outputId": "1a330e8d-b265-4b9c-b186-3af4e1148141"
      },
      "outputs": [
        {
          "name": "stdout",
          "output_type": "stream",
          "text": [
            "0 1 2 3 4 5 6 7 8 9 10 11 12 13 14 15 16 17 18 19 The loop has finished\n"
          ]
        }
      ],
      "source": [
        "i = 0\n",
        "while i < 20:\n",
        "  print(i, end = ' ')\n",
        "  i += 1\n",
        "  # if i == 10:\n",
        "  #   break\n",
        "else:\n",
        "  print('The loop has finished')"
      ]
    },
    {
      "cell_type": "markdown",
      "metadata": {
        "id": "ha1TqEZqF0X1"
      },
      "source": [
        "### While loop and inputs\n",
        "* Make possible to ask input in the loop\n",
        "* Continue the loop until the input is the required one\n",
        "\n"
      ]
    },
    {
      "cell_type": "code",
      "execution_count": null,
      "metadata": {
        "colab": {
          "base_uri": "https://localhost:8080/"
        },
        "id": "-M2hWtJjGIM8",
        "outputId": "a7ede5f6-3f84-41f4-e9ed-fe7e5ab01400"
      },
      "outputs": [
        {
          "name": "stdout",
          "output_type": "stream",
          "text": [
            "enter: hello\n",
            "hellohello\n",
            "enter: hi\n",
            "hihi\n",
            "enter: gaetan\n",
            "gaetangaetan\n"
          ]
        }
      ],
      "source": [
        "a = 0\n",
        "while a != 3:\n",
        "  a+= 1\n",
        "  input1 = input('enter: ')\n",
        "  print(input1*2)"
      ]
    },
    {
      "cell_type": "markdown",
      "metadata": {
        "id": "MjAaUd0fGIs_"
      },
      "source": [
        "### While loop exercise (10 min)\n",
        "Ask user inputs, continue to ask user input until the number is between 0 and 10. \n",
        "\n",
        "**Example:**\n",
        "\n",
        "Enter a number between 0 and 10: 20\n",
        "\n",
        "No, I said between 0 and 10: -6\n",
        "\n",
        "No I said betwwen 0 and 10: 5\n",
        "\n",
        "Thank you!"
      ]
    },
    {
      "cell_type": "code",
      "execution_count": null,
      "metadata": {
        "colab": {
          "base_uri": "https://localhost:8080/"
        },
        "id": "HblLuFQdGTlR",
        "outputId": "6e4b7362-3f3c-4bce-92c3-1dc6783b2d4b"
      },
      "outputs": [
        {
          "name": "stdout",
          "output_type": "stream",
          "text": [
            "Enter a number between 0 and 10: 20\n",
            "No, I said between 0 and 10: -6\n",
            "No, I said between 0 and 10: -5\n",
            "No, I said between 0 and 10: 80\n",
            "No, I said between 0 and 10: 60\n",
            "No, I said between 0 and 10: 897645\n",
            "No, I said between 0 and 10: 684\n",
            "No, I said between 0 and 10: 2\n",
            "Thank you!\n"
          ]
        }
      ],
      "source": [
        "n = int(input(\"Enter a number between 0 and 10: \"))\n",
        "while n < 0 or n > 10:\n",
        "  n = int(input(\"No, I said between 0 and 10: \"))\n",
        "print('Thank you!')"
      ]
    },
    {
      "cell_type": "markdown",
      "metadata": {
        "id": "BcbpvTAuGurI"
      },
      "source": [
        "## Lists"
      ]
    },
    {
      "cell_type": "markdown",
      "metadata": {
        "id": "5lqJVM02Ez4_"
      },
      "source": [
        "### Introduction\n",
        "* A sequence of objects\n",
        "* Can be anything (str, int, float, …)\n",
        "* Ordered, changeable, and allow duplicate values\n",
        "* Created with “[]” and items separated by coma.\n"
      ]
    },
    {
      "cell_type": "code",
      "execution_count": null,
      "metadata": {
        "colab": {
          "base_uri": "https://localhost:8080/"
        },
        "id": "v7jxMz7rHgcH",
        "outputId": "2429d2b0-865f-4388-d0c6-c7840cb775c6"
      },
      "outputs": [
        {
          "name": "stdout",
          "output_type": "stream",
          "text": [
            "[1, 2, 3]\n"
          ]
        }
      ],
      "source": [
        "my_list = [1, 2, 3]\n",
        "print(my_list)"
      ]
    },
    {
      "cell_type": "code",
      "execution_count": null,
      "metadata": {
        "colab": {
          "base_uri": "https://localhost:8080/"
        },
        "id": "zyeAfRDhwjw7",
        "outputId": "83f8bf1d-6efe-4295-8b9c-a564497a0a2a"
      },
      "outputs": [
        {
          "name": "stdout",
          "output_type": "stream",
          "text": [
            "[1, 2, 3, 'heloo', 'hi', True, False, 153.97]\n"
          ]
        }
      ],
      "source": [
        "my_list = [1, 2, 3, 'heloo', 'hi', True, False, 153.97]\n",
        "print(my_list)"
      ]
    },
    {
      "cell_type": "code",
      "execution_count": null,
      "metadata": {
        "colab": {
          "base_uri": "https://localhost:8080/"
        },
        "id": "GgrVW8OewpS4",
        "outputId": "8764349b-6bb2-423c-f7b1-696cb9882b88"
      },
      "outputs": [
        {
          "name": "stdout",
          "output_type": "stream",
          "text": [
            "[1, 2, 3, 3, 3, 3, 3, 'heloo', 'hi', True, False, 153.97]\n"
          ]
        }
      ],
      "source": [
        "my_list = [1, 2, 3, 3, 3,3,3, 'heloo', 'hi', True, False, 153.97]\n",
        "print(my_list)"
      ]
    },
    {
      "cell_type": "markdown",
      "metadata": {
        "id": "Gu6ew8GanaTm"
      },
      "source": [
        "### Access to list items\n",
        "* Index number\n",
        "* Index start at 0\n",
        "* Negative index to refer to the last items\n"
      ]
    },
    {
      "cell_type": "code",
      "execution_count": null,
      "metadata": {
        "colab": {
          "base_uri": "https://localhost:8080/"
        },
        "id": "NayI31apnZeA",
        "outputId": "69f6ccb4-3ed6-4eb2-eb0b-f4e5048dd796"
      },
      "outputs": [
        {
          "name": "stdout",
          "output_type": "stream",
          "text": [
            "[5, 6, 9, 10]\n",
            "6\n",
            "5\n",
            "10\n"
          ]
        }
      ],
      "source": [
        "list_ = [5, 6, 9, 10]\n",
        "print(list_)\n",
        "print(list_[1])\n",
        "print(list_[0])\n",
        "print(list_[3])"
      ]
    },
    {
      "cell_type": "code",
      "execution_count": null,
      "metadata": {
        "colab": {
          "base_uri": "https://localhost:8080/"
        },
        "id": "Ja2kU4epxOje",
        "outputId": "558e19be-cf98-440c-d135-13b6b83ea762"
      },
      "outputs": [
        {
          "name": "stdout",
          "output_type": "stream",
          "text": [
            "[5, 6, 9, 10]\n",
            "10\n",
            "9\n",
            "6\n",
            "5\n"
          ]
        }
      ],
      "source": [
        "list_ = [5, 6, 9, 10]\n",
        "print(list_)\n",
        "print(list_[-1])\n",
        "print(list_[-2])\n",
        "print(list_[-3])\n",
        "print(list_[-4])"
      ]
    },
    {
      "cell_type": "markdown",
      "metadata": {
        "id": "xpQKZOjzGEfN"
      },
      "source": [
        "### Exercise (10 min)\n",
        "Create a list with 5 fruits. \n",
        "\n",
        "Print this list.\n",
        "\n",
        "Ask for user which one he wants by using index (0, 1, ...)\n",
        "\n",
        "Print the one he asks.\n",
        "\n",
        "**Example:**\n",
        "\n",
        "Here is the list ['Apple', 'Banana', 'Mango']\n",
        "\n",
        "Which on do you want to print: 2\n",
        "\n",
        "Mango"
      ]
    },
    {
      "cell_type": "code",
      "execution_count": null,
      "metadata": {
        "id": "oIOY6qY9GEAK"
      },
      "outputs": [],
      "source": []
    },
    {
      "cell_type": "markdown",
      "metadata": {
        "id": "9ocr5A5xGXzd"
      },
      "source": [
        "### Access to list items\n",
        "* Range of indexing (separating by a colon: ex :[1:6])\n",
        "* Last index of the range is excluded\n",
        "* First index non specified means the first one\n",
        "* Last index non specified means the last one\n",
        "* You can also specify the steps\n",
        "\n"
      ]
    },
    {
      "cell_type": "code",
      "execution_count": null,
      "metadata": {
        "id": "UZOdURKCGuCB"
      },
      "outputs": [],
      "source": []
    },
    {
      "cell_type": "markdown",
      "metadata": {
        "id": "wdTDz02_Hdds"
      },
      "source": [
        "### Change list items\n",
        "\n",
        "* Indexing to change list item\n",
        "* Range to change a sequence of the list\n",
        "* Use the insert function\n"
      ]
    },
    {
      "cell_type": "code",
      "execution_count": null,
      "metadata": {
        "colab": {
          "base_uri": "https://localhost:8080/"
        },
        "id": "4sRzdqwzHu0q",
        "outputId": "34221b6d-4287-44b0-8da2-00129cb04038"
      },
      "outputs": [
        {
          "name": "stdout",
          "output_type": "stream",
          "text": [
            "[1, 'd', 2, 3]\n"
          ]
        }
      ],
      "source": [
        "a = [1,2,3]\n",
        "a.insert(1, 'd')\n",
        "print(a)"
      ]
    },
    {
      "cell_type": "markdown",
      "metadata": {
        "id": "CJLy9GTtHvA2"
      },
      "source": [
        "### Exercise (10 min):\n",
        "Create a list of 2 vegetable. ask user one vegatables and where he wants to insert it in the list. Insert the user vegetable at the required index.\n",
        "\n",
        "**Example:**\n",
        "\n",
        "Here is the list of vegetable: ['Carrot', 'Cucumber']\n",
        "\n",
        "Which vegetable do you want to add: 'Patatoe'\n",
        "\n",
        "Where: 1\n",
        "\n",
        "Here is the new list: ['Carrot', 'Patatoe', 'Cucumber']"
      ]
    },
    {
      "cell_type": "code",
      "execution_count": null,
      "metadata": {
        "id": "dsk_geyoJIl8"
      },
      "outputs": [],
      "source": []
    }
  ],
  "metadata": {
    "colab": {
      "provenance": []
    },
    "kernelspec": {
      "display_name": "Python 3",
      "language": "python",
      "name": "python3"
    },
    "language_info": {
      "name": "python",
      "version": "3.8.10 (default, Nov 14 2022, 12:59:47) \n[GCC 9.4.0]"
    },
    "vscode": {
      "interpreter": {
        "hash": "916dbcbb3f70747c44a77c7bcd40155683ae19c65e1c03b4aa3499c5328201f1"
      }
    }
  },
  "nbformat": 4,
  "nbformat_minor": 0
}

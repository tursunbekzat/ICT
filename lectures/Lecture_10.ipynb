{
  "cells": [
    {
      "cell_type": "markdown",
      "metadata": {
        "id": "ryr7rZLJE3PD"
      },
      "source": [
        "# Correction practice 9"
      ]
    },
    {
      "cell_type": "markdown",
      "metadata": {
        "id": "IwIevdbMFW2O"
      },
      "source": [
        "## The simple function\n",
        "* Define (create) a function which ask user input and print a text. Call this function 2 times."
      ]
    },
    {
      "cell_type": "code",
      "execution_count": null,
      "metadata": {
        "colab": {
          "base_uri": "https://localhost:8080/"
        },
        "id": "riQs1G5jE64m",
        "outputId": "95784273-71e9-4a9f-b3cf-7a136ee62249"
      },
      "outputs": [
        {
          "name": "stdout",
          "output_type": "stream",
          "text": [
            "Hello, what is your name:dfg\n",
            "Welcome to my game dfg . Take a seat.\n",
            "Hello, what is your name:sdg\n",
            "Welcome to my game sdg . Take a seat.\n"
          ]
        }
      ],
      "source": [
        "def welcome(): \n",
        "  name = input('Hello, what is your name:')\n",
        "  print('Welcome to my game', name, '. Take a seat.')\n",
        "\n",
        "welcome()\n",
        "welcome()"
      ]
    },
    {
      "cell_type": "markdown",
      "metadata": {
        "id": "k5smz50gFssg"
      },
      "source": [
        "## Use arguments\n",
        "* Create a function which calculate the factorial value of a number given in argument and print it (inside the function). Ask for user a number and use this number in your function argument to print the factorial."
      ]
    },
    {
      "cell_type": "code",
      "execution_count": null,
      "metadata": {
        "colab": {
          "base_uri": "https://localhost:8080/"
        },
        "id": "N6EFdVNbF3qZ",
        "outputId": "dd4618bd-d28b-4d88-ff10-e27c97e13f52"
      },
      "outputs": [
        {
          "name": "stdout",
          "output_type": "stream",
          "text": [
            "The factorial of 2  is  2 .\n",
            "The factorial of 6  is  720 .\n",
            "The factorial of 10  is  3628800 .\n"
          ]
        }
      ],
      "source": [
        "def facto(n):\n",
        "  fact = 1\n",
        "  for i in range(2, n + 1):\n",
        "    fact = fact * i\n",
        "  print('The factorial of', n, ' is ', fact, '.')\n",
        "\n",
        "facto(2)\n",
        "facto(6)\n",
        "facto(10)"
      ]
    },
    {
      "cell_type": "markdown",
      "metadata": {
        "id": "ZmW6IYQyF4LE"
      },
      "source": [
        "## Use optionnal arguments\n",
        "* Create a function which print the sum of a list of number. The arguments of the function are:\n",
        " * The end (mandatory) – it will be excluded from the sum\n",
        " * The start (optional – default value is 0)\n",
        " * The step (optional – default value is 1)"
      ]
    },
    {
      "cell_type": "code",
      "execution_count": null,
      "metadata": {
        "colab": {
          "base_uri": "https://localhost:8080/"
        },
        "id": "0WTeXgy3F-03",
        "outputId": "439a0d9b-562a-481f-f98e-ed36a8aa86d4"
      },
      "outputs": [
        {
          "name": "stdout",
          "output_type": "stream",
          "text": [
            "The sum is 5\n",
            "The sum is 35\n",
            "The sum is 45\n",
            "The sum is 45\n",
            "The sum is 990\n"
          ]
        }
      ],
      "source": [
        "def sum_number(end, start= 0, step = 1):\n",
        "  s = 0\n",
        "  for i in range(start, end, step):\n",
        "    s += i\n",
        "  print('The sum is', s)\n",
        "\n",
        "sum_number(10, -5, 3)\n",
        "sum_number(10, 5)\n",
        "sum_number(10)\n",
        "sum_number(10, 0, 1)\n",
        "\n",
        "sum_number(start = 2, step = 5, end = 100)"
      ]
    },
    {
      "cell_type": "markdown",
      "metadata": {
        "id": "2imLQ2tZdt_r"
      },
      "source": [
        "## The perfect number\n",
        "* Make a function which take a number in argument and return True if it’s a perfect number or False if it’s not.\n",
        "* The definition of a perfect number is : “In number theory, a perfect number is a positive integer that is equal to the sum of its proper positive divisors, that is, the sum of its positive divisors excluding the number itself (also known as its aliquot sum).\"\n",
        "* Example: 6 is a perfect number, because divisors are: 1, 2 and 3. 1+2+3 = 6 so 6 is a perfect number."
      ]
    },
    {
      "cell_type": "code",
      "execution_count": null,
      "metadata": {
        "colab": {
          "base_uri": "https://localhost:8080/"
        },
        "id": "JAN-bGHedt_t",
        "outputId": "a9a85171-4ddb-4e8c-fd59-561d4cf71b62"
      },
      "outputs": [
        {
          "name": "stdout",
          "output_type": "stream",
          "text": [
            "True\n",
            "False\n",
            "True\n",
            "Win!\n"
          ]
        }
      ],
      "source": [
        "def perfect(n): \n",
        "  s = 0\n",
        "  for i in range(1, n):\n",
        "    if n%i == 0:\n",
        "      s += i\n",
        "\n",
        "  return s == n\n",
        "\n",
        "print(perfect(6))\n",
        "print(perfect(8))\n",
        "print(perfect(8128))\n",
        "\n",
        "if perfect(6):\n",
        "  print('Win!')"
      ]
    },
    {
      "cell_type": "markdown",
      "metadata": {
        "id": "cqU1VW3IE8Ef"
      },
      "source": [
        "# Presentation assignment 5\n"
      ]
    },
    {
      "cell_type": "markdown",
      "metadata": {
        "id": "x3QLlRAnEy_i"
      },
      "source": [
        "\n",
        "\n",
        "# Lecture 10: Files management\n"
      ]
    },
    {
      "cell_type": "markdown",
      "metadata": {
        "id": "5lqJVM02Ez4_"
      },
      "source": [
        "## Create a .txt file or Open a file to write in it\n",
        "\n",
        "* The basic/simple way (the less secure)\n",
        "* The file has to be at the same location than the python file\n",
        "* ‘w’ is for write (see later)\n",
        "* Create the file is it doesn’t exist\n"
      ]
    },
    {
      "cell_type": "code",
      "execution_count": 1,
      "metadata": {
        "id": "SahNDQh0krcV"
      },
      "outputs": [],
      "source": [
        "f = open('My_file.txt', 'w')"
      ]
    },
    {
      "cell_type": "markdown",
      "metadata": {
        "id": "Gu6ew8GanaTm"
      },
      "source": [
        "## Write in a file\n",
        "* The variable f is the file\n",
        "* Use the write method\n",
        "\n"
      ]
    },
    {
      "cell_type": "code",
      "execution_count": null,
      "metadata": {
        "id": "NayI31apnZeA"
      },
      "outputs": [],
      "source": [
        "f.write('This is my first file\\n')\n",
        "f.write('bladfherhhej')\n"
      ]
    },
    {
      "cell_type": "markdown",
      "metadata": {
        "id": "IEdV6TPoJW9q"
      },
      "source": [
        "## Close the file\n",
        "* Important to delete the file from the RAM\n",
        "* Can slow down your computer if you don’t do it"
      ]
    },
    {
      "cell_type": "code",
      "execution_count": null,
      "metadata": {
        "id": "xRi-u7hEJWJE"
      },
      "outputs": [],
      "source": [
        "f.close()"
      ]
    },
    {
      "cell_type": "markdown",
      "metadata": {
        "id": "YfUCEqKniD9i"
      },
      "source": [
        "## Online Python\n",
        "* Online Python doesn't have access to your files"
      ]
    },
    {
      "cell_type": "code",
      "execution_count": null,
      "metadata": {
        "id": "nvG7YhpFiJjD"
      },
      "outputs": [],
      "source": []
    },
    {
      "cell_type": "markdown",
      "metadata": {
        "id": "ao86nq99Qa4p"
      },
      "source": [
        "## Exercise: Create your own file (10 min)\n",
        "Use a python code to create a file named 'My_first_file' and write 'Ok that's working!' in it. Open it with notepad to check it."
      ]
    },
    {
      "cell_type": "code",
      "execution_count": null,
      "metadata": {
        "id": "jzMRnTgsQpfs"
      },
      "outputs": [],
      "source": [
        "f = open('My_first_file', 'w')\n",
        "f.write('Ok it\\'s working!')\n",
        "f.close()"
      ]
    },
    {
      "cell_type": "markdown",
      "metadata": {
        "id": "mVroFZ19LKaO"
      },
      "source": [
        "## Open a file to read it\n",
        "* Has to be an existing file\n",
        "* The basic/simple way (the less secure)\n",
        "* The file has to be at the same location than the python file\n",
        "* ‘r’ is for read (see later)\n",
        "\n"
      ]
    },
    {
      "cell_type": "code",
      "execution_count": null,
      "metadata": {
        "id": "-iLCQoqULeHD"
      },
      "outputs": [],
      "source": [
        "f = open('My_file.txt', 'r')"
      ]
    },
    {
      "cell_type": "markdown",
      "metadata": {
        "id": "XzJtGfq8Kfuy"
      },
      "source": [
        "## Read a file\n",
        "\n",
        "* The variable f is the file\n",
        "* Use the read method\n",
        "* The function return the whole text (so you need to print it if you want to get it in the console)\n"
      ]
    },
    {
      "cell_type": "code",
      "execution_count": null,
      "metadata": {
        "colab": {
          "base_uri": "https://localhost:8080/"
        },
        "id": "wSj32icHKfLn",
        "outputId": "7b4e1cc2-ff06-4793-8863-eff90f7b0185"
      },
      "outputs": [
        {
          "name": "stdout",
          "output_type": "stream",
          "text": [
            "This is my first file\n",
            "This is my first file\n",
            "bladfherhhej\n"
          ]
        }
      ],
      "source": [
        "ans = f.read()\n",
        "print(ans)\n",
        "f.close()"
      ]
    },
    {
      "cell_type": "markdown",
      "metadata": {
        "id": "OUCQ8DfVKuR4"
      },
      "source": [
        "## Other read/write methods\n",
        "* Argument of read methods: number of wanted character\n",
        "* The readline method to read one line (read next line everytime you call it)\n",
        "* The readlines method to return all lines in a list\n",
        "* The writelines method to write a list of line in the file\n"
      ]
    },
    {
      "cell_type": "code",
      "execution_count": null,
      "metadata": {
        "colab": {
          "base_uri": "https://localhost:8080/"
        },
        "id": "SKf01uNFKt9f",
        "outputId": "1a50d1aa-aa8b-443c-8bb1-8c5154f63316"
      },
      "outputs": [
        {
          "name": "stdout",
          "output_type": "stream",
          "text": [
            "---- This is my\n",
            "----  first fil\n",
            "---- e\n",
            "This is \n"
          ]
        }
      ],
      "source": [
        "file_1 = open('My_file.txt', 'r')\n",
        "print('----', file_1.read(10))\n",
        "print('----', file_1.read(10))\n",
        "print('----', file_1.read(10))\n",
        "file_1.close()"
      ]
    },
    {
      "cell_type": "code",
      "execution_count": null,
      "metadata": {
        "colab": {
          "base_uri": "https://localhost:8080/"
        },
        "id": "b1-kHZSG6Hwa",
        "outputId": "dcddbb9a-33c7-4b67-f18a-f986034c911a"
      },
      "outputs": [
        {
          "name": "stdout",
          "output_type": "stream",
          "text": [
            "This is my first file\n",
            "This is my second line\n",
            "bladfherhhej"
          ]
        }
      ],
      "source": [
        "file_1 = open('My_file.txt', 'r')\n",
        "print(file_1.readline(), end = '')\n",
        "print(file_1.readline(), end = '')\n",
        "print(file_1.readline(), end = '')\n",
        "file_1.close()"
      ]
    },
    {
      "cell_type": "code",
      "execution_count": null,
      "metadata": {
        "colab": {
          "base_uri": "https://localhost:8080/"
        },
        "id": "orju5eIP6ggP",
        "outputId": "c02403d7-b8ad-43a9-9054-664597836f73"
      },
      "outputs": [
        {
          "name": "stdout",
          "output_type": "stream",
          "text": [
            "['This is my first file\\n', 'This is my second line\\n', 'bladfherhhej']"
          ]
        }
      ],
      "source": [
        "file_1 = open('My_file.txt', 'r')\n",
        "print(file_1.readlines(), end = '')\n",
        "file_1.close()"
      ]
    },
    {
      "cell_type": "code",
      "execution_count": null,
      "metadata": {
        "id": "nEN5EthG6qSN"
      },
      "outputs": [],
      "source": [
        "file_1 = open('My_file_another_one.txt', 'w')\n",
        "file_1.writelines(['this is a line\\n', 'This is another line\\n'])\n",
        "file_1.close()"
      ]
    },
    {
      "cell_type": "markdown",
      "metadata": {
        "id": "cYV60LC-QuRf"
      },
      "source": [
        "## Exercise (10 min)\n",
        "From the file you created in the previous exercise ('my_first_file'), open it and print its content in the console."
      ]
    },
    {
      "cell_type": "code",
      "execution_count": null,
      "metadata": {
        "colab": {
          "base_uri": "https://localhost:8080/"
        },
        "id": "E3_0f3OGQ74x",
        "outputId": "23d02272-9be7-4d1b-f675-e4e3a7e11c0c"
      },
      "outputs": [
        {
          "name": "stdout",
          "output_type": "stream",
          "text": [
            "Ok it's working!\n"
          ]
        }
      ],
      "source": [
        "file_0 = open('My_first_file', 'r')\n",
        "print(file_0.read())\n",
        "file_0.close()"
      ]
    },
    {
      "cell_type": "markdown",
      "metadata": {
        "id": "rl5j0nnrLOPO"
      },
      "source": [
        "## The best way to open files\n",
        "* Use the \"with\" function\n",
        "* Close automatically your file when your exit the loop (even if error raises)\n",
        "* Most secure way\n"
      ]
    },
    {
      "cell_type": "code",
      "execution_count": null,
      "metadata": {
        "colab": {
          "base_uri": "https://localhost:8080/"
        },
        "id": "se0DdqizLZ5u",
        "outputId": "f6127b62-c914-4f9f-a290-5c345ed94539"
      },
      "outputs": [
        {
          "name": "stdout",
          "output_type": "stream",
          "text": [
            "hello\n",
            "hello\n"
          ]
        }
      ],
      "source": [
        "# f = open('test.txt', 'w')\n",
        "# f.write('jdhfgkjxhbf')\n",
        "# f.close()\n",
        "with open('test.txt', 'w') as f:\n",
        "  f.write('jdhfgkjxhbf')\n",
        "  f.write('skjhvdkj')\n",
        "  print('hello')\n",
        "  f.write('jughkjdbv')\n",
        "\n",
        "print('hello')"
      ]
    },
    {
      "cell_type": "markdown",
      "metadata": {
        "id": "UooOLx04LaEa"
      },
      "source": [
        "## Differents opening modes\n",
        "* Read Only ('r'): read the file. Error if the file doesn’t exist.\n",
        "* Write Only ('w'): delete the content of file to rewrite something\n",
        "* Write with Creation ('x'): Create a new file to write in it. Error if file already exist.\n",
        "* Append Only ('a'): add the text at the end of the file\n",
        "\n",
        "\n"
      ]
    },
    {
      "cell_type": "code",
      "execution_count": null,
      "metadata": {
        "id": "nEavSZ-2LwNi"
      },
      "outputs": [],
      "source": [
        "with open('My_file.txt', 'w') as f:\n",
        "  for i in range(5):\n",
        "    f.write(str(i) + '\\n')\n",
        "\n"
      ]
    },
    {
      "cell_type": "code",
      "execution_count": null,
      "metadata": {
        "id": "btcDVW_29mBG"
      },
      "outputs": [],
      "source": [
        "with open('My_file.txt', 'a') as f:\n",
        "  for i in range(5):\n",
        "    f.write(str(i) + '\\n')"
      ]
    },
    {
      "cell_type": "markdown",
      "metadata": {
        "id": "pFTkQ8owL5la"
      },
      "source": [
        "## Reading a file somewhere else on your computer\n",
        "* Use the complete path to your file (absolute or relative)\n",
        "* Use raw string; place ‘r’ in front of the string (ex: r”C:\\Users\\”)\n",
        "* Raw string ignore all escape character: ‘\\’ is always a backslash"
      ]
    },
    {
      "cell_type": "code",
      "execution_count": null,
      "metadata": {
        "id": "VTEf2JVNL-ej"
      },
      "outputs": [],
      "source": [
        "with open('\\folder_1\\folder_inside\\My_file.txt', 'w') as f:\n",
        "  f.write('hello, you')"
      ]
    },
    {
      "cell_type": "markdown",
      "metadata": {
        "id": "RzbZmbk4QBtb"
      },
      "source": [
        "## Final exercise (15 min): The high scores\n",
        "\n",
        "Make a python code which wait for an user input and:\n",
        "* if the input is 'd', it displays all the high scores from a file\n",
        "* if the input is 'a', it ask which high score you want to add and add it to the file\n",
        "* if the input is 'r', it reset all high scores (delete them all).\n",
        "\n",
        "The code do only one action per run (don't need any while function)."
      ]
    },
    {
      "cell_type": "code",
      "execution_count": null,
      "metadata": {
        "colab": {
          "base_uri": "https://localhost:8080/"
        },
        "id": "p5lbSAMyR1qr",
        "outputId": "7428e1c9-21af-4bfa-e5bb-267d20eb5b6e"
      },
      "outputs": [
        {
          "name": "stdout",
          "output_type": "stream",
          "text": [
            "What doy ou want to do:d\n",
            "High-scores:\n",
            "me - 1000 pointsyou - 0 point\n"
          ]
        }
      ],
      "source": [
        "choice = input('What doy ou want to do:')\n",
        "if choice == 'd':\n",
        "  with open('high_score.txt', 'r') as f:\n",
        "    print('High-scores:')\n",
        "    print(f.read())\n",
        "            \n",
        "elif choice == 'a':\n",
        "  thing_to_add = input('Which high score: ')\n",
        "  with open('high_score.txt', 'a') as f:\n",
        "    f.write(thing_to_add)\n",
        "            \n",
        "elif choice == 'r':\n",
        "  with open('high_score.txt' , 'w') as f:\n",
        "    pass\n",
        " \n"
      ]
    }
  ],
  "metadata": {
    "colab": {
      "provenance": []
    },
    "kernelspec": {
      "display_name": "Python 3",
      "language": "python",
      "name": "python3"
    },
    "language_info": {
      "name": "python",
      "version": "3.8.10 (default, Mar 13 2023, 10:26:41) \n[GCC 9.4.0]"
    },
    "vscode": {
      "interpreter": {
        "hash": "916dbcbb3f70747c44a77c7bcd40155683ae19c65e1c03b4aa3499c5328201f1"
      }
    }
  },
  "nbformat": 4,
  "nbformat_minor": 0
}

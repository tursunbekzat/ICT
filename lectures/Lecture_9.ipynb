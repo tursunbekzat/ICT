{
  "cells": [
    {
      "cell_type": "markdown",
      "metadata": {
        "id": "ryr7rZLJE3PD"
      },
      "source": [
        "## Correction practice 7 and practice 8"
      ]
    },
    {
      "cell_type": "markdown",
      "metadata": {
        "id": "IwIevdbMFW2O"
      },
      "source": [
        "### The shopping list simplified\n",
        "* With the following shopping list: [‘Apple’, ‘Banana’], ask the user one fruit he wants to add and modify the list according to user input."
      ]
    },
    {
      "cell_type": "code",
      "execution_count": null,
      "metadata": {
        "colab": {
          "base_uri": "https://localhost:8080/"
        },
        "id": "riQs1G5jE64m",
        "outputId": "586cce89-41a8-4b6e-dfc4-2a52491bdb37"
      },
      "outputs": [
        {
          "name": "stdout",
          "output_type": "stream",
          "text": [
            "What do you want to add? hgfjyfh\n",
            "['Apple', 'Banana', 'hgfjyfh']\n"
          ]
        }
      ],
      "source": [
        "list0 = ['Apple', 'Banana']\n",
        "item = input('What do you want to add? ')\n",
        "list0.append(item)\n",
        "print(list0)"
      ]
    },
    {
      "cell_type": "markdown",
      "metadata": {
        "id": "k5smz50gFssg"
      },
      "source": [
        "### The even numbers\n",
        "* Create a lists with all numbers from 0 to 20 (any methods is accepted to create the list). Print the list. Print all the even numbers of the list."
      ]
    },
    {
      "cell_type": "code",
      "execution_count": null,
      "metadata": {
        "colab": {
          "base_uri": "https://localhost:8080/"
        },
        "id": "N6EFdVNbF3qZ",
        "outputId": "506dfd9d-03c3-4495-9829-4be22bffa155"
      },
      "outputs": [
        {
          "name": "stdout",
          "output_type": "stream",
          "text": [
            "[0, 1, 2, 3, 4, 5, 6, 7, 8, 9, 10, 11, 12, 13, 14, 15, 16, 17, 18, 19, 20]\n",
            "[1, 3, 5, 7, 9, 11, 13, 15, 17, 19]\n"
          ]
        }
      ],
      "source": [
        "l = []\n",
        "for i in range(0,21):\n",
        "  l.append(i)\n",
        "print(l)\n",
        "print(l[1::2])"
      ]
    },
    {
      "cell_type": "markdown",
      "metadata": {
        "id": "ZmW6IYQyF4LE"
      },
      "source": [
        "### The sum\n",
        "* With the following list: [54, 6, 23, 1, 5, 98]. Write a program that print the sum of all the item of the list (use a while or a for loop)."
      ]
    },
    {
      "cell_type": "code",
      "execution_count": null,
      "metadata": {
        "colab": {
          "base_uri": "https://localhost:8080/"
        },
        "id": "0WTeXgy3F-03",
        "outputId": "901391b0-7c1d-46cd-cdd7-3899ede7177d"
      },
      "outputs": [
        {
          "name": "stdout",
          "output_type": "stream",
          "text": [
            "98\n"
          ]
        }
      ],
      "source": [
        "l = [54, 6, 23, 1, 5, 98]\n",
        "total = 0\n",
        "for i in l:\n",
        "  total += i\n",
        "print(i)"
      ]
    },
    {
      "cell_type": "markdown",
      "metadata": {
        "id": "2imLQ2tZdt_r"
      },
      "source": [
        "### The sort\n",
        "* With the following list: [54, 6, 23, 1, 5, 98]. Create a program which print all items of the list\n",
        "in ascending order"
      ]
    },
    {
      "cell_type": "code",
      "execution_count": null,
      "metadata": {
        "colab": {
          "base_uri": "https://localhost:8080/"
        },
        "id": "JAN-bGHedt_t",
        "outputId": "4acfe3f0-e6d8-4328-a8da-9961a4faf816"
      },
      "outputs": [
        {
          "name": "stdout",
          "output_type": "stream",
          "text": [
            "[1, 5, 6, 23, 54, 98]\n"
          ]
        }
      ],
      "source": [
        "l = [54, 6, 23, 1, 5, 98]\n",
        "l.sort()\n",
        "print(l)"
      ]
    },
    {
      "cell_type": "markdown",
      "metadata": {
        "id": "Y3y8NJkdduTl"
      },
      "source": [
        "### The shopping list\n",
        "- Make a program which display all the items you have to buy from shop. Make a menu where the user can add or delete items."
      ]
    },
    {
      "cell_type": "code",
      "execution_count": null,
      "metadata": {
        "id": "TsR647QAduTm"
      },
      "outputs": [],
      "source": [
        "shopping_list = ['Patatoes']\n",
        "choice = True\n",
        "while choice != 0:\n",
        "  print('Here is the shopping list:')\n",
        "  for i in shopping_list:\n",
        "    print('\\t -', i)\n",
        "\n",
        "  choice = int(input('Do you want to add something (enter 1) or remove something (enter 2) or exit (enter 0):'))\n",
        "  if choice == 1:\n",
        "    item = input('What do you want to add: ')\n",
        "    shopping_list.append(item)\n",
        "  elif choice == 2:\n",
        "    item = input('What do you want to remove: ')\n",
        "    shopping_list.remove(item)\n",
        "\n",
        "print('Here is the final shopping list:')\n",
        "for i in shopping_list:\n",
        "  print('\\t -', i)\n",
        "print('Goodbye')\n"
      ]
    },
    {
      "cell_type": "markdown",
      "metadata": {
        "id": "GjPm-PpzEDEH"
      },
      "source": [
        "## Practice 8: Paper, scissor, rock\n",
        "\n",
        "* Create a simple rock, scissors, paper game"
      ]
    },
    {
      "cell_type": "code",
      "execution_count": null,
      "metadata": {
        "colab": {
          "base_uri": "https://localhost:8080/",
          "height": 458
        },
        "id": "u5_7SO71ENBC",
        "outputId": "1078d3b1-311d-4102-ae9a-ee84e6b02c37"
      },
      "outputs": [
        {
          "name": "stdout",
          "output_type": "stream",
          "text": [
            "What do you choose (rock, paper, scissors): paper\n",
            "Computer played:  scissors\n",
            "You lose\n"
          ]
        },
        {
          "ename": "KeyboardInterrupt",
          "evalue": "ignored",
          "output_type": "error",
          "traceback": [
            "\u001b[0;31m---------------------------------------------------------------------------\u001b[0m",
            "\u001b[0;31mKeyboardInterrupt\u001b[0m                         Traceback (most recent call last)",
            "\u001b[0;32m<ipython-input-30-7c31eebe2b64>\u001b[0m in \u001b[0;36m<module>\u001b[0;34m\u001b[0m\n\u001b[1;32m      4\u001b[0m   \u001b[0mchoice_comp\u001b[0m \u001b[0;34m=\u001b[0m \u001b[0mchoices\u001b[0m\u001b[0;34m[\u001b[0m\u001b[0mi\u001b[0m\u001b[0;34m]\u001b[0m\u001b[0;34m\u001b[0m\u001b[0;34m\u001b[0m\u001b[0m\n\u001b[1;32m      5\u001b[0m \u001b[0;34m\u001b[0m\u001b[0m\n\u001b[0;32m----> 6\u001b[0;31m   \u001b[0mplayer_choice\u001b[0m \u001b[0;34m=\u001b[0m \u001b[0minput\u001b[0m\u001b[0;34m(\u001b[0m\u001b[0;34m'What do you choose (rock, paper, scissors): '\u001b[0m\u001b[0;34m)\u001b[0m\u001b[0;34m\u001b[0m\u001b[0;34m\u001b[0m\u001b[0m\n\u001b[0m\u001b[1;32m      7\u001b[0m   \u001b[0mprint\u001b[0m\u001b[0;34m(\u001b[0m\u001b[0;34m'Computer played: '\u001b[0m\u001b[0;34m,\u001b[0m \u001b[0mchoice_comp\u001b[0m\u001b[0;34m)\u001b[0m\u001b[0;34m\u001b[0m\u001b[0;34m\u001b[0m\u001b[0m\n\u001b[1;32m      8\u001b[0m   if ((choice_comp == 'paper' and player_choice == 'scissors') or \n",
            "\u001b[0;32m/usr/local/lib/python3.9/dist-packages/ipykernel/kernelbase.py\u001b[0m in \u001b[0;36mraw_input\u001b[0;34m(self, prompt)\u001b[0m\n\u001b[1;32m    858\u001b[0m                 \u001b[0;34m\"raw_input was called, but this frontend does not support input requests.\"\u001b[0m\u001b[0;34m\u001b[0m\u001b[0;34m\u001b[0m\u001b[0m\n\u001b[1;32m    859\u001b[0m             )\n\u001b[0;32m--> 860\u001b[0;31m         return self._input_request(str(prompt),\n\u001b[0m\u001b[1;32m    861\u001b[0m             \u001b[0mself\u001b[0m\u001b[0;34m.\u001b[0m\u001b[0m_parent_ident\u001b[0m\u001b[0;34m,\u001b[0m\u001b[0;34m\u001b[0m\u001b[0;34m\u001b[0m\u001b[0m\n\u001b[1;32m    862\u001b[0m             \u001b[0mself\u001b[0m\u001b[0;34m.\u001b[0m\u001b[0m_parent_header\u001b[0m\u001b[0;34m,\u001b[0m\u001b[0;34m\u001b[0m\u001b[0;34m\u001b[0m\u001b[0m\n",
            "\u001b[0;32m/usr/local/lib/python3.9/dist-packages/ipykernel/kernelbase.py\u001b[0m in \u001b[0;36m_input_request\u001b[0;34m(self, prompt, ident, parent, password)\u001b[0m\n\u001b[1;32m    902\u001b[0m             \u001b[0;32mexcept\u001b[0m \u001b[0mKeyboardInterrupt\u001b[0m\u001b[0;34m:\u001b[0m\u001b[0;34m\u001b[0m\u001b[0;34m\u001b[0m\u001b[0m\n\u001b[1;32m    903\u001b[0m                 \u001b[0;31m# re-raise KeyboardInterrupt, to truncate traceback\u001b[0m\u001b[0;34m\u001b[0m\u001b[0;34m\u001b[0m\u001b[0m\n\u001b[0;32m--> 904\u001b[0;31m                 \u001b[0;32mraise\u001b[0m \u001b[0mKeyboardInterrupt\u001b[0m\u001b[0;34m(\u001b[0m\u001b[0;34m\"Interrupted by user\"\u001b[0m\u001b[0;34m)\u001b[0m \u001b[0;32mfrom\u001b[0m \u001b[0;32mNone\u001b[0m\u001b[0;34m\u001b[0m\u001b[0;34m\u001b[0m\u001b[0m\n\u001b[0m\u001b[1;32m    905\u001b[0m             \u001b[0;32mexcept\u001b[0m \u001b[0mException\u001b[0m \u001b[0;32mas\u001b[0m \u001b[0me\u001b[0m\u001b[0;34m:\u001b[0m\u001b[0;34m\u001b[0m\u001b[0;34m\u001b[0m\u001b[0m\n\u001b[1;32m    906\u001b[0m                 \u001b[0mself\u001b[0m\u001b[0;34m.\u001b[0m\u001b[0mlog\u001b[0m\u001b[0;34m.\u001b[0m\u001b[0mwarning\u001b[0m\u001b[0;34m(\u001b[0m\u001b[0;34m\"Invalid Message:\"\u001b[0m\u001b[0;34m,\u001b[0m \u001b[0mexc_info\u001b[0m\u001b[0;34m=\u001b[0m\u001b[0;32mTrue\u001b[0m\u001b[0;34m)\u001b[0m\u001b[0;34m\u001b[0m\u001b[0;34m\u001b[0m\u001b[0m\n",
            "\u001b[0;31mKeyboardInterrupt\u001b[0m: Interrupted by user"
          ]
        }
      ],
      "source": [
        "choices = ['scissors', 'rock', 'paper']\n",
        "number_choice = [0,1,0,2,1,0,2,1,0,2,0,1,2]\n",
        "for i in number_choice:\n",
        "  choice_comp = choices[i]\n",
        "  player_choice = input('What do you choose (rock, paper, scissors): ')\n",
        "  print('Computer played: ', choice_comp)\n",
        "  if ((choice_comp == 'paper' and player_choice == 'scissors') or \n",
        "      (choice_comp == 'rock' and player_choice == 'paper') or \n",
        "      (choice_comp == 'scissors' and player_choice == 'rock')):\n",
        "    print('You win')\n",
        "  elif choice_comp == player_choice:\n",
        "    print('Equality')\n",
        "  else:\n",
        "    print('You lose')"
      ]
    },
    {
      "cell_type": "markdown",
      "metadata": {
        "id": "ESKqh3mAOFY-"
      },
      "source": [
        "## Correction of assignment 2\n",
        "\n",
        "\n"
      ]
    },
    {
      "cell_type": "code",
      "execution_count": null,
      "metadata": {
        "colab": {
          "base_uri": "https://localhost:8080/"
        },
        "id": "HiibONpIEB13",
        "outputId": "84b0a268-6cbb-4dfc-c040-7f580344ddad"
      },
      "outputs": [
        {
          "name": "stdout",
          "output_type": "stream",
          "text": [
            "Enter the height of the pyramid:6\n",
            "Which character for the top you want to use?*\n",
            "     *\n",
            "    / \\\n",
            "   /   \\\n",
            "  /     \\\n",
            " /       \\\n",
            "/_________\\\n"
          ]
        }
      ],
      "source": [
        "height = int(input('Enter the height of the pyramid:'))\n",
        "character = input('Which character for the top you want to use?')\n",
        "print(' ' * (height -1)+ character)\n",
        "cnt = 1\n",
        "for i in range(height - 2, 0, -1):\n",
        "  print(' '*i + '/' + ' '*cnt + '\\\\')\n",
        "  cnt += 2\n",
        "\n",
        "print('/' + '_'*cnt + '\\\\')"
      ]
    },
    {
      "cell_type": "markdown",
      "metadata": {
        "id": "31wTQlBEFIHa"
      },
      "source": [
        "## Correction of assignment 3"
      ]
    },
    {
      "cell_type": "code",
      "execution_count": null,
      "metadata": {
        "colab": {
          "base_uri": "https://localhost:8080/"
        },
        "id": "8Y2gkNeSFKiU",
        "outputId": "6afcdcf6-5ccb-41f1-805f-98029e33f7da"
      },
      "outputs": [
        {
          "name": "stdout",
          "output_type": "stream",
          "text": [
            "Enter a number between 1 and 10 (or 0 to exit):5\n",
            "Enter a number between 1 and 10 (or 0 to exit):6\n",
            "Enter a number between 1 and 10 (or 0 to exit):8\n",
            "Enter a number between 1 and 10 (or 0 to exit):2\n",
            "Enter a number between 1 and 10 (or 0 to exit):15\n",
            "Sorry too hard for me!\n",
            "Enter a number between 1 and 10 (or 0 to exit):0\n",
            "The program is finished, the final sum is: 21\n"
          ]
        }
      ],
      "source": [
        "total = 0\n",
        "num = 1\n",
        "while num != 0:\n",
        "  num = int(input('Enter a number between 1 and 10 (or 0 to exit):'))\n",
        "\n",
        "  if num > 0 and num <= 10:\n",
        "    total += num\n",
        "    print('The sum is:', total)\n",
        "  elif num < 0 or num > 10:\n",
        "    print('Sorry too hard for me!')\n",
        "\n",
        "print('The program is finished, the final sum is:', total)"
      ]
    },
    {
      "cell_type": "markdown",
      "metadata": {
        "id": "cqU1VW3IE8Ef"
      },
      "source": [
        "## Presentation assignment 4\n"
      ]
    },
    {
      "cell_type": "markdown",
      "metadata": {
        "id": "x3QLlRAnEy_i"
      },
      "source": [
        "## Lecture 9: Functions\n",
        "No lecture 8 => It was midterm exam"
      ]
    },
    {
      "cell_type": "markdown",
      "metadata": {
        "id": "5lqJVM02Ez4_"
      },
      "source": [
        "### Introduction\n",
        "\n",
        "* Use to save time and make a clearer code\n",
        "* You already used functions:\n",
        "* print()\n",
        "* input()\n",
        "* int(), str(), float(), bool() "
      ]
    },
    {
      "cell_type": "code",
      "execution_count": null,
      "metadata": {
        "id": "SahNDQh0krcV"
      },
      "outputs": [],
      "source": []
    },
    {
      "cell_type": "markdown",
      "metadata": {
        "id": "Gu6ew8GanaTm"
      },
      "source": [
        "### Composition of a function calling\n",
        "* A function always has a name and two parenthesis\n",
        "* A function can have arguments (with or without keyword)\n"
      ]
    },
    {
      "cell_type": "code",
      "execution_count": null,
      "metadata": {
        "colab": {
          "base_uri": "https://localhost:8080/",
          "height": 133
        },
        "id": "NayI31apnZeA",
        "outputId": "545ef1f6-8b87-49ca-cc7d-8596a5a6486f"
      },
      "outputs": [
        {
          "ename": "SyntaxError",
          "evalue": "ignored",
          "output_type": "error",
          "traceback": [
            "\u001b[0;36m  File \u001b[0;32m\"<ipython-input-10-38adbc0d2399>\"\u001b[0;36m, line \u001b[0;32m3\u001b[0m\n\u001b[0;31m    print(end = '5', sep = '0', 'hello')\u001b[0m\n\u001b[0m                                       ^\u001b[0m\n\u001b[0;31mSyntaxError\u001b[0m\u001b[0;31m:\u001b[0m positional argument follows keyword argument\n"
          ]
        }
      ],
      "source": [
        "print('hello', sep = '0', end = '5')\n",
        "print('hello', end = '5', sep = '0')\n",
        "print(end = '5', sep = '0', 'hello')"
      ]
    },
    {
      "cell_type": "markdown",
      "metadata": {
        "id": "IEdV6TPoJW9q"
      },
      "source": [
        "### Composition\n",
        "* A function can return a value\n",
        "* Example: input(), int(), float(), …\n",
        "* Not print()\n"
      ]
    },
    {
      "cell_type": "code",
      "execution_count": null,
      "metadata": {
        "colab": {
          "base_uri": "https://localhost:8080/"
        },
        "id": "xRi-u7hEJWJE",
        "outputId": "b94a7d90-86ce-4790-e4ac-2aea5938e27f"
      },
      "outputs": [
        {
          "name": "stdout",
          "output_type": "stream",
          "text": [
            "hello\n",
            "5\n",
            "None\n"
          ]
        }
      ],
      "source": [
        "a = int('5')\n",
        "print('hello')\n",
        "item = input(\"Value:\")\n",
        "print(a)\n",
        "print(b)"
      ]
    },
    {
      "cell_type": "markdown",
      "metadata": {
        "id": "mVroFZ19LKaO"
      },
      "source": [
        "### How to create your own function\n",
        "* Save a lots of time\n",
        "* Clearer\n",
        "* Creating a function = define a function\n",
        "* Let’s do it without argument (parameter)\n",
        "* Keyword def + name of function + parenthesis + colon (:) + indented code\n",
        "* Name => same rule than variables\n"
      ]
    },
    {
      "cell_type": "code",
      "execution_count": null,
      "metadata": {
        "colab": {
          "base_uri": "https://localhost:8080/"
        },
        "id": "-iLCQoqULeHD",
        "outputId": "ea4e591f-96f2-4164-feae-46b11365d573"
      },
      "outputs": [
        {
          "name": "stdout",
          "output_type": "stream",
          "text": [
            "\n"
          ]
        }
      ],
      "source": [
        "def print_hello():\n",
        "  print('Hello you, How are you?')\n"
      ]
    },
    {
      "cell_type": "code",
      "execution_count": null,
      "metadata": {
        "colab": {
          "base_uri": "https://localhost:8080/"
        },
        "id": "uO0nv9vg0QGJ",
        "outputId": "8adc4aed-0cc7-4015-e8a4-9c14900d6075"
      },
      "outputs": [
        {
          "name": "stdout",
          "output_type": "stream",
          "text": [
            "Hello you, How are you?\n",
            "Hello you, How are you?\n",
            "Hello you, How are you?\n",
            "Hello you, How are you?\n"
          ]
        }
      ],
      "source": [
        "print_hello()\n",
        "print_hello()\n",
        "print_hello()\n",
        "print_hello()"
      ]
    },
    {
      "cell_type": "markdown",
      "metadata": {
        "id": "xpQKZOjzGEfN"
      },
      "source": [
        "### Exercise (10 min)\n",
        "Let's imagine you have a code where you will print a welcome message many times. You don't want to copy paste the same message all the time. Create a function to print the message and use it two times in your code.\n",
        "\n",
        "\n",
        "**Example:**\n",
        "\n",
        "-o-o-o-o-o-o-o-o-o-o-o-o\n",
        "\n",
        "Welcome to my game !\n",
        "1. Play\n",
        "2. Settings\n",
        "3. Quit\n",
        "-o-o-o-o-o-o-o-o-o-o-o-o"
      ]
    },
    {
      "cell_type": "code",
      "execution_count": null,
      "metadata": {
        "colab": {
          "base_uri": "https://localhost:8080/"
        },
        "id": "oIOY6qY9GEAK",
        "outputId": "a674671b-84f7-4275-ca3b-7aa5da933f87"
      },
      "outputs": [
        {
          "name": "stdout",
          "output_type": "stream",
          "text": [
            "-O-O-O-O-O-O-O-O-O-O\n",
            "Welcome to my game\n",
            "1. Play\n",
            "2. Settings\n",
            "3. Quit\n",
            "-O-O-O-O-O-O-O-O-O-O\n",
            "----------\n",
            "-O-O-O-O-O-O-O-O-O-O\n",
            "Welcome to my game\n",
            "1. Play\n",
            "2. Settings\n",
            "3. Quit\n",
            "-O-O-O-O-O-O-O-O-O-O\n"
          ]
        }
      ],
      "source": [
        "def menu():\n",
        "  print('-O'*10 + '\\n' + 'Welcome to my game')\n",
        "  print('1. Play\\n2. Settings\\n3. Quit')\n",
        "  print('-O'*10)\n",
        "menu()\n",
        "print('-'*10)\n",
        "menu()"
      ]
    },
    {
      "cell_type": "markdown",
      "metadata": {
        "id": "9ocr5A5xGXzd"
      },
      "source": [
        "### Using parameters (arguments)\n",
        "* Used in function calling => argument\n",
        "* Used in function creation => parameter\n",
        "* Classical argument\n",
        "* Has many as you want\n",
        "* Any name is possible\n",
        "\n",
        "\n"
      ]
    },
    {
      "cell_type": "code",
      "execution_count": null,
      "metadata": {
        "colab": {
          "base_uri": "https://localhost:8080/"
        },
        "id": "UZOdURKCGuCB",
        "outputId": "283cd7b0-5a06-46e9-e329-977919b0d1e6"
      },
      "outputs": [
        {
          "name": "stdout",
          "output_type": "stream",
          "text": [
            "-B-B-B\n",
            "Welcome to my game\n",
            "1. Play\n",
            "2. Settings\n",
            "3. Quit\n",
            "-O-O-O-O-O-O-O-O-O-O\n",
            "-m-m-m-m-m-m-m\n",
            "Welcome to my game\n",
            "1. Play\n",
            "2. Settings\n",
            "3. Quit\n",
            "-O-O-O-O-O-O-O-O-O-O\n",
            "-|-|-|-|-|-|-|-|-|-|-|-|-|-|-|-|-|-|-|-|-|-|-|-|-|\n",
            "Welcome to my game\n",
            "1. Play\n",
            "2. Settings\n",
            "3. Quit\n",
            "-O-O-O-O-O-O-O-O-O-O\n"
          ]
        }
      ],
      "source": [
        "def menu(character, length):\n",
        "  print(('-'+character)*length + '\\n' + 'Welcome to my game')\n",
        "  print('1. Play\\n2. Settings\\n3. Quit')\n",
        "  print('-O'*10)\n",
        "menu('B', 3)\n",
        "menu('m', 7)\n",
        "menu('|', 25)"
      ]
    },
    {
      "cell_type": "markdown",
      "metadata": {
        "id": "Rmtwbc2jO49g"
      },
      "source": [
        "### Using paramaters\n",
        "* Some arguments can be optional when you call the function so they need a default value (ex: the end parameter in the print function)\n",
        "* Mandatory arguments come first\n"
      ]
    },
    {
      "cell_type": "code",
      "execution_count": null,
      "metadata": {
        "colab": {
          "base_uri": "https://localhost:8080/"
        },
        "id": "a0tNCogPO_zM",
        "outputId": "71ba5228-ed55-4903-a951-325654ddb071"
      },
      "outputs": [
        {
          "name": "stdout",
          "output_type": "stream",
          "text": [
            "-B-B-B-B-B-B-B-B-B-B\n",
            "Welcome to my game\n",
            "1. Play\n",
            "2. Settings\n",
            "3. Quit\n",
            "-O-O-O-O-O-O-O-O-O-O\n",
            "-m-m-m-m-m-m-m\n",
            "Welcome to my game\n",
            "1. Play\n",
            "2. Settings\n",
            "3. Quit\n",
            "-O-O-O-O-O-O-O-O-O-O\n",
            "-|-|-|-|-|-|-|-|-|-|-|-|-|-|-|-|-|-|-|-|-|-|-|-|-|\n",
            "Welcome to my game\n",
            "1. Play\n",
            "2. Settings\n",
            "3. Quit\n",
            "-O-O-O-O-O-O-O-O-O-O\n"
          ]
        }
      ],
      "source": [
        "def menu(character, length = 10):\n",
        "  print(('-'+character)*length + '\\n' + 'Welcome to my game')\n",
        "  print('1. Play\\n2. Settings\\n3. Quit')\n",
        "  print('-O'*10)\n",
        "\n",
        "menu('B')\n",
        "menu('m', 7)\n",
        "menu('|', 25)"
      ]
    },
    {
      "cell_type": "markdown",
      "metadata": {
        "id": "aL4byvHkOH9N"
      },
      "source": [
        "### Calling a function with arguments\n",
        "* If no keyword => Use same order than with the function creation\n",
        "* If keywords => Order doesn’t count\n",
        "* You can mix: some with keywords and some not => Not recommended\n"
      ]
    },
    {
      "cell_type": "code",
      "execution_count": null,
      "metadata": {
        "colab": {
          "base_uri": "https://localhost:8080/"
        },
        "id": "FzC6sNtYOPWs",
        "outputId": "1852aac3-4c44-4c76-f6d4-37dc65b3810c"
      },
      "outputs": [
        {
          "name": "stdout",
          "output_type": "stream",
          "text": [
            "-B-B-B-B-B\n",
            "Welcome to my game\n",
            "1. Play\n",
            "2. Settings\n",
            "3. Quit\n",
            "-O-O-O-O-O-O-O-O-O-O\n",
            "-m-m-m-m-m-m-m\n",
            "Welcome to my game\n",
            "1. Play\n",
            "2. Settings\n",
            "3. Quit\n",
            "-O-O-O-O-O-O-O-O-O-O\n",
            "-|-|-|-|-|-|-|-|-|-|-|-|-|-|-|-|-|-|-|-|-|-|-|-|-|\n",
            "Welcome to my game\n",
            "1. Play\n",
            "2. Settings\n",
            "3. Quit\n",
            "-O-O-O-O-O-O-O-O-O-O\n"
          ]
        }
      ],
      "source": [
        "def menu(character, length = 10):\n",
        "  print(('-'+character)*length + '\\n' + 'Welcome to my game')\n",
        "  print('1. Play\\n2. Settings\\n3. Quit')\n",
        "  print('-O'*10)\n",
        "\n",
        "menu(length = 5, character = 'B' )\n",
        "menu('m', 7)\n",
        "menu('|', 25)"
      ]
    },
    {
      "cell_type": "markdown",
      "metadata": {
        "id": "4HVOnrc_PC8d"
      },
      "source": [
        "### Exercice (10 min)\n",
        "\n",
        "Create a function and call it. The function should have two arguments:\n",
        "* The first one is a number, it's mandatory argument\n",
        "* The second one is a number, it's optional arguement, the default value is 10\n",
        "\n",
        "Your function will print the multiplication of the first argument by the second one.\n",
        "Call this function two times, one time with 9 and 5 and keyword arguments and another time with only 2 and the default value for the second argument.\n",
        "\n",
        "**Example**:\n",
        "add(n2 = 5, n1 = 9) || output: 45\n",
        "\n",
        "add(2) || output: 20"
      ]
    },
    {
      "cell_type": "code",
      "execution_count": null,
      "metadata": {
        "colab": {
          "base_uri": "https://localhost:8080/"
        },
        "id": "I5qRlTEQPCrV",
        "outputId": "aeeff876-1493-4183-cde2-e37ba23fcf7f"
      },
      "outputs": [
        {
          "name": "stdout",
          "output_type": "stream",
          "text": [
            "45\n",
            "20\n"
          ]
        }
      ],
      "source": [
        "def add(n1, n2 = 10):\n",
        "  print(n1 * n2)\n",
        "\n",
        "add(n2 = 5, n1 = 9)\n",
        "add(2)"
      ]
    },
    {
      "cell_type": "markdown",
      "metadata": {
        "id": "cYHZ_Go9P8N-"
      },
      "source": []
    },
    {
      "cell_type": "markdown",
      "metadata": {
        "id": "bQ0tQDk8QU53"
      },
      "source": [
        "### Returning a value\n",
        "* Your function can return one or more values (like the int, float or input functions)\n",
        "* Use the return keyword at the end of your function\n",
        "* When you call the function, assign it to a variable\n"
      ]
    },
    {
      "cell_type": "code",
      "execution_count": null,
      "metadata": {
        "colab": {
          "base_uri": "https://localhost:8080/"
        },
        "id": "rTsDI2O0QZkQ",
        "outputId": "3a170360-41e1-4a6a-a6bf-e61dec4743de"
      },
      "outputs": [
        {
          "name": "stdout",
          "output_type": "stream",
          "text": [
            "Hello\n",
            "return of my function: 5\n"
          ]
        }
      ],
      "source": [
        "def test_return():\n",
        "  print('Hello')\n",
        "  return 5\n",
        "\n",
        "a = test_return()\n",
        "print('return of my function:', a)"
      ]
    },
    {
      "cell_type": "markdown",
      "metadata": {
        "id": "W9SlFPf9Rswa"
      },
      "source": [
        "### Returning several values\n",
        "* You can use: \"return a, b, c, d\"\n",
        "* And assign it to variable when you call the function: \n",
        "\"a, b, c, d = name_of_function()\"\n"
      ]
    },
    {
      "cell_type": "code",
      "execution_count": null,
      "metadata": {
        "colab": {
          "base_uri": "https://localhost:8080/"
        },
        "id": "FrV6aLkLRz0z",
        "outputId": "79328153-5f6d-4766-de1e-15a6b7c33628"
      },
      "outputs": [
        {
          "name": "stdout",
          "output_type": "stream",
          "text": [
            "Hello\n",
            "return of my function: 8\n"
          ]
        }
      ],
      "source": [
        "def test_return():\n",
        "  print('Hello')\n",
        "  a = 1\n",
        "  b = 6\n",
        "  c = 8\n",
        "  d = 20\n",
        "  return a, b, c, d\n",
        "\n",
        "val0, val1, val2, val3 = test_return()\n",
        "print('return of my function:', val2)"
      ]
    },
    {
      "cell_type": "markdown",
      "metadata": {
        "id": "ktbLp_f4QcJZ"
      },
      "source": [
        "### Exercise (5 min)\n",
        "Modify the code from the previous exercise to return the value and print it."
      ]
    },
    {
      "cell_type": "code",
      "execution_count": null,
      "metadata": {
        "id": "nHU-8ckw7kuq"
      },
      "outputs": [],
      "source": [
        "def add(n1, n2 = 10):\n",
        "  print(n1 * n2)\n",
        "  return n1 * n2\n",
        "\n",
        "result_of_function = add(n2 = 5, n1 = 9)\n",
        "result_of_function = add(2)\n",
        "print(result_of_function)"
      ]
    },
    {
      "cell_type": "markdown",
      "metadata": {
        "id": "usjZO0sHSOjB"
      },
      "source": [
        "### All together"
      ]
    },
    {
      "cell_type": "code",
      "execution_count": null,
      "metadata": {
        "id": "HKi-SiYNSP_C"
      },
      "outputs": [],
      "source": []
    },
    {
      "cell_type": "markdown",
      "metadata": {
        "id": "HXueHRRfSQIn"
      },
      "source": [
        "### Function: Final exercise (10 min)\n",
        "* Make a function which use a player name in argument, print the game menu personnalized with player name, asks for the user what he wants to do with an input an return this value. Then, call this function.\n",
        "\n",
        "**Example:**\n",
        "-o-o-o-o-o-o-o-o-o-o-o-o\n",
        "\n",
        "Hello Gaétan\n",
        "\n",
        "Welcome to my game !\n",
        "1. Play\n",
        "2. Settings\n",
        "3. Quit\n",
        "-o-o-o-o-o-o-o-o-o-o-o-o\n",
        "\n",
        "Enter your choice: **1**\n",
        "\n"
      ]
    },
    {
      "cell_type": "code",
      "execution_count": null,
      "metadata": {
        "id": "BQSnntYfS-8_"
      },
      "outputs": [],
      "source": [
        "#Write the exercise here\n",
        "\n",
        "\n",
        "#End of the code (do not change this part)\n",
        "user_choice = menu(player_name = 'Gaétan')"
      ]
    }
  ],
  "metadata": {
    "colab": {
      "provenance": []
    },
    "kernelspec": {
      "display_name": "Python 3",
      "language": "python",
      "name": "python3"
    },
    "language_info": {
      "name": "python",
      "version": "3.8.10 (default, Mar 13 2023, 10:26:41) \n[GCC 9.4.0]"
    },
    "vscode": {
      "interpreter": {
        "hash": "916dbcbb3f70747c44a77c7bcd40155683ae19c65e1c03b4aa3499c5328201f1"
      }
    }
  },
  "nbformat": 4,
  "nbformat_minor": 0
}

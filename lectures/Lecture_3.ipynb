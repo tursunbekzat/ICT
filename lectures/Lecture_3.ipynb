{
  "cells": [
    {
      "cell_type": "markdown",
      "metadata": {
        "id": "hzWGUEUwDXN8"
      },
      "source": [
        "# Lecture_3: Conditional Statement and Exceptions"
      ]
    },
    {
      "cell_type": "markdown",
      "metadata": {
        "id": "3C0PqFFdD1OX"
      },
      "source": [
        "### For new students\n",
        "If you are new students, to catch up, you can check this link:\n",
        "https://www.w3schools.com/python/\n",
        "\n",
        "From start until \"Operators\" (menu on the left)."
      ]
    },
    {
      "cell_type": "markdown",
      "metadata": {
        "id": "ryr7rZLJE3PD"
      },
      "source": [
        "## Correction practice 2 and reminder"
      ]
    },
    {
      "cell_type": "markdown",
      "metadata": {
        "id": "IwIevdbMFW2O"
      },
      "source": [
        "### Exercise 1: The parrot\n",
        "- Make a program with ask for a user input and print 10 times this input.\n"
      ]
    },
    {
      "cell_type": "code",
      "execution_count": null,
      "metadata": {
        "colab": {
          "base_uri": "https://localhost:8080/"
        },
        "id": "riQs1G5jE64m",
        "outputId": "1e1f84b1-11e1-4733-a68e-288290a12ca4"
      },
      "outputs": [
        {
          "name": "stdout",
          "output_type": "stream",
          "text": [
            "Enter a word: Hello\n",
            "Hello Hello Hello Hello Hello Hello Hello Hello Hello  Hello \n"
          ]
        }
      ],
      "source": [
        "a = input(\"Enter a word: \")\n",
        "a = a + ' '\n",
        "print(a*9, a)"
      ]
    },
    {
      "cell_type": "markdown",
      "metadata": {
        "id": "k5smz50gFssg"
      },
      "source": [
        "### Exercise 2: The calculator.\n",
        "Make a program which ask for user two inputs and print:\n",
        "- The multiplication of them\n",
        "- The addition of them\n",
        "- The substraction of them\n",
        "- The division of them"
      ]
    },
    {
      "cell_type": "code",
      "execution_count": null,
      "metadata": {
        "colab": {
          "base_uri": "https://localhost:8080/"
        },
        "id": "N6EFdVNbF3qZ",
        "outputId": "b5656aab-bbf0-41fa-ae91-8f111d186419"
      },
      "outputs": [
        {
          "name": "stdout",
          "output_type": "stream",
          "text": [
            "Enter first number: 5\n",
            "Enter second number: 9\n",
            "5 + 9 = 14\n",
            "5 x 9 = 45\n"
          ]
        }
      ],
      "source": [
        "numb1 = input(\"Enter first number: \")\n",
        "numb1 = int(numb1)\n",
        "numb2 = int(input(\"Enter second number: \"))\n",
        "\n",
        "print(numb1, \"+\", numb2, \"=\", numb1 + numb2)\n",
        "print(numb1, \"x\", numb2, \"=\", numb1 *numb2)"
      ]
    },
    {
      "cell_type": "markdown",
      "metadata": {
        "id": "ZmW6IYQyF4LE"
      },
      "source": [
        "### Exercise 3: The stars rectangle\n",
        "- Make a program with ask for two user inputs (length and width) and print a square of stars\n",
        "with this length and width. (Do not use if, for or while functions)."
      ]
    },
    {
      "cell_type": "code",
      "execution_count": null,
      "metadata": {
        "colab": {
          "base_uri": "https://localhost:8080/"
        },
        "id": "0WTeXgy3F-03",
        "outputId": "58e1e5ab-d0e6-4b53-f801-51e6f78c502c"
      },
      "outputs": [
        {
          "name": "stdout",
          "output_type": "stream",
          "text": [
            "Enter a length: 4\n",
            "Enter a width: 5\n",
            "****\n",
            "****\n",
            "****\n",
            "****\n",
            "****\n",
            "\n"
          ]
        }
      ],
      "source": [
        "length = int(input(\"Enter a length: \"))\n",
        "width = int(input(\"Enter a width: \"))\n",
        "text = '*' * length + '\\n'\n",
        "print(text*width)"
      ]
    },
    {
      "cell_type": "markdown",
      "metadata": {
        "id": "NGQdh-6lF_T9"
      },
      "source": [
        "### Exercise 4: The Logical operator printing\n",
        "Make a program which ask for user two Boolean (“True” or “False”) and then display the result of the ‘and’ and the ‘or’ operator with these Booleans values. (Do not use the if\n",
        "function)"
      ]
    },
    {
      "cell_type": "code",
      "execution_count": null,
      "metadata": {
        "colab": {
          "base_uri": "https://localhost:8080/"
        },
        "id": "2avrkhpSGJJx",
        "outputId": "af478792-a33c-4eaa-85bb-49b11563ce3a"
      },
      "outputs": [
        {
          "name": "stdout",
          "output_type": "stream",
          "text": [
            "Enter the first boolean: True\n",
            "Enter the second boolean: False\n",
            "True AND False gives False\n",
            "True OR False gives True\n"
          ]
        }
      ],
      "source": [
        "bool1 = input('Enter the first boolean: ') == 'True'\n",
        "bool2 = input('Enter the second boolean: ') == 'True'\n",
        "#Reminder: in python bool('False') => True\n",
        "print(bool1, 'AND', bool2, \"gives\", bool1 and bool2)\n",
        "print(bool1, 'OR', bool2, \"gives\", bool1 or bool2)"
      ]
    },
    {
      "cell_type": "markdown",
      "metadata": {
        "id": "_DN9vq03EOz5"
      },
      "source": [
        "## Tutorial for Codespot.io\n",
        "\n",
        "See Teams (Advanced Assignment Channel)."
      ]
    },
    {
      "cell_type": "markdown",
      "metadata": {
        "id": "x3QLlRAnEy_i"
      },
      "source": [
        "\n",
        "\n",
        "## Conditional Statements"
      ]
    },
    {
      "cell_type": "markdown",
      "metadata": {
        "id": "ySQ2PP19wWxd"
      },
      "source": [
        "### What is it?\n",
        "\n",
        "Small reminder on condition in Python\n",
        "\n"
      ]
    },
    {
      "cell_type": "code",
      "execution_count": null,
      "metadata": {
        "colab": {
          "base_uri": "https://localhost:8080/"
        },
        "id": "gBnSqE0aDcPE",
        "outputId": "edb07507-23de-4e15-c440-4451dbe2b668"
      },
      "outputs": [
        {
          "name": "stdout",
          "output_type": "stream",
          "text": [
            "True\n",
            "False\n",
            "True\n"
          ]
        }
      ],
      "source": [
        "a = 56\n",
        "b = 56\n",
        "print( b != a or a == 56)\n",
        "print( b != a and a == 56)\n",
        "print( not b != a and a == 56)"
      ]
    },
    {
      "cell_type": "markdown",
      "metadata": {
        "id": "JEnhJep3Dh4j"
      },
      "source": [
        "### How to use it?\n",
        "\n",
        "The simplest one: the if statement\n",
        "\n",
        "The block of code is executed if the statement is True\n",
        "\n",
        "Let’s write our first if statement\n",
        "\n"
      ]
    },
    {
      "cell_type": "code",
      "execution_count": null,
      "metadata": {
        "colab": {
          "base_uri": "https://localhost:8080/"
        },
        "id": "P5ndhu3HxJrk",
        "outputId": "9bb46ecf-6773-4b90-f208-57ecf1f9f982"
      },
      "outputs": [
        {
          "name": "stdout",
          "output_type": "stream",
          "text": [
            "Hello\n",
            "Yes\n",
            "The program continue...\n"
          ]
        }
      ],
      "source": [
        "print('Hello')\n",
        "a = 1\n",
        "if a == 1:\n",
        "  print('Yes')\n",
        "\n",
        "print('The program continue...')"
      ]
    },
    {
      "cell_type": "markdown",
      "metadata": {
        "id": "YFje8REsxlpG"
      },
      "source": [
        "#### Exercise (5 min)\n",
        "Write a code than print \"the number is bigger than 5\" if the user input is bigger than 5."
      ]
    },
    {
      "cell_type": "code",
      "execution_count": null,
      "metadata": {
        "colab": {
          "base_uri": "https://localhost:8080/"
        },
        "id": "3BLOlHL4a0l-",
        "outputId": "bbc51ae1-1d71-4449-bcae-5dfb63070698"
      },
      "outputs": [
        {
          "name": "stdout",
          "output_type": "stream",
          "text": [
            "Enter a number: 10\n",
            "The number is bigger than 5\n"
          ]
        }
      ],
      "source": [
        "input1 = int(input('Enter a number: '))\n",
        "\n",
        "if input1 > 5:\n",
        "  print('The number is bigger than 5')"
      ]
    },
    {
      "cell_type": "markdown",
      "metadata": {
        "id": "r8X8NhAcx4Rq"
      },
      "source": [
        "### How to use it?\n",
        "\n",
        "As many statements as you want\n",
        "\n",
        "Always keep the indentation\n"
      ]
    },
    {
      "cell_type": "code",
      "execution_count": null,
      "metadata": {
        "colab": {
          "base_uri": "https://localhost:8080/"
        },
        "id": "EqWrQFxCyIJ4",
        "outputId": "cf7f8f77-2d7b-4a38-ec8d-6410f67a634c"
      },
      "outputs": [
        {
          "name": "stdout",
          "output_type": "stream",
          "text": [
            "hi\n",
            "hi\n",
            "hi\n",
            "hi\n"
          ]
        }
      ],
      "source": [
        "if 1 == 1:\n",
        "  print('hi')\n",
        "if 1 == 1:\n",
        "  print('hi')\n",
        "if 1 == 1:\n",
        "  print('hi')\n",
        "if 1 == 1:\n",
        "  print('hi')"
      ]
    },
    {
      "cell_type": "code",
      "execution_count": null,
      "metadata": {
        "colab": {
          "base_uri": "https://localhost:8080/"
        },
        "id": "CI_AL6ECfyN5",
        "outputId": "c7f64930-df24-499a-c33e-ea9d5f2e38fb"
      },
      "outputs": [
        {
          "name": "stdout",
          "output_type": "stream",
          "text": [
            "Before\n",
            "hello\n",
            "hi\n",
            "12\n",
            "After\n"
          ]
        }
      ],
      "source": [
        "a = 5\n",
        "print('Before')\n",
        "\n",
        "if a == 5:\n",
        "  print('hello')\n",
        "  print('hi')\n",
        "  print(12)\n",
        "\n",
        "print('After')"
      ]
    },
    {
      "cell_type": "markdown",
      "metadata": {
        "id": "ekHPVg2KyJ2Z"
      },
      "source": [
        "### Indentation\n",
        "White-spaces before a line of code\n",
        "\n",
        "At least one space but it can be more\n",
        "\n",
        "Always use the same number of space\n",
        "\n",
        "Extremely important in Python\n",
        "\n",
        "It will tell to python when is the start and the end of a block of code\n",
        "\n"
      ]
    },
    {
      "cell_type": "code",
      "execution_count": null,
      "metadata": {
        "colab": {
          "base_uri": "https://localhost:8080/"
        },
        "id": "hPlZibWoyQSA",
        "outputId": "38273a54-61fd-4413-f2df-c10a663d975b"
      },
      "outputs": [
        {
          "name": "stdout",
          "output_type": "stream",
          "text": [
            "hello\n",
            "hi\n",
            "hello\n"
          ]
        }
      ],
      "source": [
        "if 1 == 1:\n",
        "                  print('hello')\n",
        "                  print('hi')\n",
        "print('hello')"
      ]
    },
    {
      "cell_type": "markdown",
      "metadata": {
        "id": "1umwf_FdyQwb"
      },
      "source": [
        "### Condition operators\n",
        "\n",
        "As seen in last lecture: the use of ‘and’ ‘or’ and ‘not’ is possible to make conditions\n"
      ]
    },
    {
      "cell_type": "code",
      "execution_count": null,
      "metadata": {
        "colab": {
          "base_uri": "https://localhost:8080/"
        },
        "id": "7pKjSAn5zFNX",
        "outputId": "e3021ba0-ecf5-4e0e-f7ce-df7b5f1685df"
      },
      "outputs": [
        {
          "name": "stdout",
          "output_type": "stream",
          "text": [
            "between 10 and 0\n"
          ]
        }
      ],
      "source": [
        "a = 5\n",
        "if ((a > 0) and (a < 10)):\n",
        "  print(\"between 10 and 0\")"
      ]
    },
    {
      "cell_type": "code",
      "execution_count": null,
      "metadata": {
        "colab": {
          "base_uri": "https://localhost:8080/"
        },
        "id": "fdHXKKr9hVmF",
        "outputId": "29cd6936-66b3-468f-fca1-593b0be7ab44"
      },
      "outputs": [
        {
          "name": "stdout",
          "output_type": "stream",
          "text": [
            "This is always printed\n"
          ]
        }
      ],
      "source": [
        "if True:\n",
        "  print('This is always printed')\n",
        "if False:\n",
        "  print('This is never printed')"
      ]
    },
    {
      "cell_type": "code",
      "execution_count": null,
      "metadata": {
        "colab": {
          "base_uri": "https://localhost:8080/"
        },
        "id": "C3GrR4xdhfPu",
        "outputId": "5ba1c7ab-d796-440b-cf25-1c2804c3bf8e"
      },
      "outputs": [
        {
          "name": "stdout",
          "output_type": "stream",
          "text": [
            "It's working\n"
          ]
        }
      ],
      "source": [
        "if 1 == 1 and (5 > 6 or 9 < 10) and 5 == 5:\n",
        "  print(\"It's working\")\n"
      ]
    },
    {
      "cell_type": "markdown",
      "metadata": {
        "id": "40idv8fIz9UV"
      },
      "source": [
        "### Several if in a programm\n",
        "You can use several if in your code\n",
        "\n",
        "They condition will be checked and the True one will be executed\n"
      ]
    },
    {
      "cell_type": "code",
      "execution_count": null,
      "metadata": {
        "colab": {
          "base_uri": "https://localhost:8080/"
        },
        "id": "uGRTHWHX0B40",
        "outputId": "c5c9aeaa-9bf2-4b98-ce7e-05705a3db1fb"
      },
      "outputs": [
        {
          "name": "stdout",
          "output_type": "stream",
          "text": [
            "Let's go to work\n"
          ]
        }
      ],
      "source": [
        "working_day = True\n",
        "if working_day == True:\n",
        "  print(\"Let's go to work\")\n",
        "# if working_day == False:\n",
        "#   print(\"Let's sleep!\")\n",
        "if not working_day == True:\n",
        "  print(\"Let's sleep!\")"
      ]
    },
    {
      "cell_type": "markdown",
      "metadata": {
        "id": "fuTf6MTb0Cch"
      },
      "source": [
        "### Exercise (10 min):\n",
        "Make a program which ask for user three inputs (two numbers and an operation). The program print the operation wanted on the two numbers.\n",
        "\n",
        "Example: \n",
        "\n",
        "inputs : 5 6 'Addition'\n",
        "\n",
        "output : 5 + 6 = 11\n",
        "\n",
        "hint: a == 'Hello' is possible\n",
        "\n",
        "(76 students)\n"
      ]
    },
    {
      "cell_type": "code",
      "execution_count": null,
      "metadata": {
        "colab": {
          "base_uri": "https://localhost:8080/"
        },
        "id": "MNIN4Yx20Yig",
        "outputId": "12c82415-3a0d-4356-fde1-2bfd7de55d52"
      },
      "outputs": [
        {
          "name": "stdout",
          "output_type": "stream",
          "text": [
            "enter a first number:5\n",
            "enter a second number:10\n",
            "Enter the operationaddition\n"
          ]
        }
      ],
      "source": [
        "numb1 = int(input(\"enter a first number:\"))\n",
        "numb2 = int(input(\"enter a second number:\"))\n",
        "op = input(\"Enter the operation\")\n",
        "\n",
        "if op == \"Addition\":\n",
        "  print(numb1, '+', numb2, '=', numb1 + numb2)\n",
        "\n",
        "if op == \"Multiplication\":\n",
        "  print(numb1, 'x', numb2, '=', numb1 * numb2)\n",
        "\n",
        "if op == \"Division\":\n",
        "  print(numb1, '/', numb2, '=', numb1 / numb2)"
      ]
    },
    {
      "cell_type": "markdown",
      "metadata": {
        "id": "oRF4lfIb1EmQ"
      },
      "source": [
        "### The else statement\n",
        "The else statement is done if the if is false\n",
        "\n",
        "Cannot be done without a if\n",
        "\n",
        "Can be compared to “if” and “if not”\n"
      ]
    },
    {
      "cell_type": "code",
      "execution_count": null,
      "metadata": {
        "colab": {
          "base_uri": "https://localhost:8080/"
        },
        "id": "B74YavyI1LPO",
        "outputId": "b5880783-931b-4440-b8fa-8fe07566fbbc"
      },
      "outputs": [
        {
          "name": "stdout",
          "output_type": "stream",
          "text": [
            "Let's sleep!\n"
          ]
        }
      ],
      "source": [
        "working_day = False\n",
        "\n",
        "if working_day == True:\n",
        "  print(\"Let's go to work\")\n",
        "else: #The same than if not\n",
        "  print(\"Let's sleep!\")"
      ]
    },
    {
      "cell_type": "code",
      "execution_count": null,
      "metadata": {
        "colab": {
          "base_uri": "https://localhost:8080/"
        },
        "id": "6OWPl1Y9l9e3",
        "outputId": "24c6f1b5-1bb6-4f15-8087-f9dd42dd18a8"
      },
      "outputs": [
        {
          "name": "stdout",
          "output_type": "stream",
          "text": [
            "no\n"
          ]
        }
      ],
      "source": [
        "a = 5\n",
        "if a == 6:\n",
        "  print('hello')\n",
        "  print('hello')\n",
        "  print('hello')\n",
        "#Don't write here without indentation\n",
        "else:\n",
        "  print('no')"
      ]
    },
    {
      "cell_type": "markdown",
      "metadata": {
        "id": "5o8CEIaV1Ly0"
      },
      "source": [
        "### The elif statement\n",
        "Compared to “else if”\n",
        "\n",
        "Can only be used if a “if” is before\n",
        "\n",
        "The linked block is only executed if the previous if is False and the condition is True\n"
      ]
    },
    {
      "cell_type": "code",
      "execution_count": null,
      "metadata": {
        "colab": {
          "base_uri": "https://localhost:8080/"
        },
        "id": "w3uUTVYj2Dp-",
        "outputId": "df20fbe2-0d50-4b8a-db3c-e00cdd658de8"
      },
      "outputs": [
        {
          "name": "stdout",
          "output_type": "stream",
          "text": [
            "end of code\n"
          ]
        }
      ],
      "source": [
        "a = 7\n",
        "if a ==5:\n",
        "  print(\"It's 5\")\n",
        "elif a == 6:\n",
        "  print(\"It's a 6\")\n",
        "\n",
        "print('end of code')"
      ]
    },
    {
      "cell_type": "code",
      "execution_count": null,
      "metadata": {
        "colab": {
          "base_uri": "https://localhost:8080/"
        },
        "id": "OC09mlkBm4AG",
        "outputId": "0f56efd7-0217-49d9-b985-a0fce9f0d63f"
      },
      "outputs": [
        {
          "name": "stdout",
          "output_type": "stream",
          "text": [
            "It's a five!\n",
            "end of code\n"
          ]
        }
      ],
      "source": [
        "a = 5\n",
        "if a == 5:\n",
        "  print(\"It's a five!\")\n",
        "elif a < 6:\n",
        "  print('It is lower than 6')\n",
        "\n",
        "print('end of code')"
      ]
    },
    {
      "cell_type": "markdown",
      "metadata": {
        "id": "7FkiHgHZ2cW2"
      },
      "source": [
        "### All of them together"
      ]
    },
    {
      "cell_type": "code",
      "execution_count": null,
      "metadata": {
        "colab": {
          "base_uri": "https://localhost:8080/"
        },
        "id": "rQN2k-nV2e23",
        "outputId": "416a29a7-4312-4f06-ec75-50161dadc746"
      },
      "outputs": [
        {
          "name": "stdout",
          "output_type": "stream",
          "text": [
            "positive number\n",
            "end of code\n"
          ]
        }
      ],
      "source": [
        "a = 86451\n",
        "if a == 5:\n",
        "  print(\"It five\")\n",
        "elif a < 6 and a > 0:\n",
        "  print('lower than 6')\n",
        "elif a > 0:\n",
        "  print('positive number')\n",
        "else:\n",
        "  print('Negative number')\n",
        "\n",
        "print('end of code')"
      ]
    },
    {
      "cell_type": "markdown",
      "metadata": {
        "id": "wE8d0oxL2fQw"
      },
      "source": [
        "### Exercise : (10 min)\n",
        "Your program take two inputs from the user and it displays the mathematical operation which produces the biggest number.\n",
        "\n",
        "Example: \n",
        "\n",
        "inputs: 5 6 | output: 'Multiplication'\n",
        "\n",
        "inputs: 2 0.1 | output: 'Division'.\n",
        "\n",
        "inputs: 1 1 | output: 'Addition'\n",
        "\n",
        "inputs: 2 -20 | output: 'Substraction'\n"
      ]
    },
    {
      "cell_type": "code",
      "execution_count": null,
      "metadata": {
        "id": "alHqukPy2wTt"
      },
      "outputs": [],
      "source": []
    },
    {
      "cell_type": "markdown",
      "metadata": {
        "id": "NaQy_MhK4clu"
      },
      "source": [
        "### One line if statement\n",
        "\n",
        "Possible to use\n",
        "\n",
        "With several lines of code with the ;\n",
        "\n",
        "Only in some specific cases please\n"
      ]
    },
    {
      "cell_type": "code",
      "execution_count": null,
      "metadata": {
        "id": "qYTZxRz-4inp"
      },
      "outputs": [],
      "source": []
    },
    {
      "cell_type": "markdown",
      "metadata": {
        "id": "5E08aGj64i98"
      },
      "source": [
        "### Conditionnal expression\n",
        "To use directly in the variable creation\n",
        "\n",
        "Not a direct flow\n",
        "\n",
        "A condensation of the if statement in one line\n",
        "\n",
        "Faster for simple conditions\n"
      ]
    },
    {
      "cell_type": "code",
      "execution_count": null,
      "metadata": {
        "id": "wbwQJDpA5JYs"
      },
      "outputs": [],
      "source": []
    },
    {
      "cell_type": "markdown",
      "metadata": {
        "id": "4yg5bynk6HYs"
      },
      "source": [
        "### Difference between conditional expression and if statement"
      ]
    },
    {
      "cell_type": "code",
      "execution_count": null,
      "metadata": {
        "id": "MgfeSjU46Lov"
      },
      "outputs": [],
      "source": []
    },
    {
      "cell_type": "markdown",
      "metadata": {
        "id": "K7TvpmZj6tis"
      },
      "source": [
        "### The pass statement\n",
        "Useful in development to skip some part\n",
        "\n",
        "Just skip the execution of the code of the statement\n",
        "\n",
        "The code is not executed and don’t raise an error\n"
      ]
    },
    {
      "cell_type": "code",
      "execution_count": null,
      "metadata": {
        "id": "WDyBVbNH6yfT"
      },
      "outputs": [],
      "source": []
    },
    {
      "cell_type": "markdown",
      "metadata": {
        "id": "f08yrw0l9YzO"
      },
      "source": [
        "### Exercise (5 min)\n",
        "\n",
        "Write a program which print \"Let's go to the beach\" or \"Let's go to the library\" according to the boolean value of raining. Use if conditional statement directly in the print."
      ]
    },
    {
      "cell_type": "code",
      "execution_count": null,
      "metadata": {
        "id": "EzQ5fpQ79nqD"
      },
      "outputs": [],
      "source": [
        "raining = True\n",
        "print(\"Let's go to the\", )"
      ]
    },
    {
      "cell_type": "markdown",
      "metadata": {
        "id": "LVCmn5Nx35Dc"
      },
      "source": [
        "## Errors/Exceptions"
      ]
    },
    {
      "cell_type": "markdown",
      "metadata": {
        "id": "Sm2koKeKGsvv"
      },
      "source": [
        "Appear when you code is incorrect\n",
        "\n",
        "Two main type of errors:\n",
        "\n",
        "*  Syntax errors: your code is not run at all\n",
        "\n",
        "*  Runtime errors: the error appear during the running of your code\n"
      ]
    },
    {
      "cell_type": "code",
      "execution_count": null,
      "metadata": {
        "id": "zUs_TMD06LNN"
      },
      "outputs": [],
      "source": []
    },
    {
      "cell_type": "markdown",
      "metadata": {
        "id": "9vT7GxttG0XP"
      },
      "source": [
        "### Errors composition\n",
        "\n",
        "Type of error\n",
        "\n",
        "File\n",
        "\n",
        "Description\n",
        "\n",
        "All required information are in the error, so **please read it**\n"
      ]
    },
    {
      "cell_type": "code",
      "execution_count": null,
      "metadata": {
        "id": "7UzqN-LNIvmI"
      },
      "outputs": [],
      "source": []
    },
    {
      "cell_type": "markdown",
      "metadata": {
        "id": "ip6x4xN4JpDd"
      },
      "source": [
        "### Many types of errors\n",
        "\n",
        "https://docs.python.org/3/library/exceptions.html\n",
        "\n",
        "The most frequent:\n",
        "* ZeroDivisionError\n",
        "* NameError\n",
        "* SyntaxError\n",
        "* IndentationError\n"
      ]
    },
    {
      "cell_type": "code",
      "execution_count": null,
      "metadata": {
        "id": "_-gT25TrJwu-"
      },
      "outputs": [],
      "source": []
    },
    {
      "cell_type": "markdown",
      "metadata": {
        "id": "J4BT--72JyT6"
      },
      "source": [
        "### Exercise (10 min):\n",
        "Try to solve all the errors on these codes.\n",
        "\n",
        "```\n",
        "# This is formatted as code\n",
        "```\n",
        "\n"
      ]
    },
    {
      "cell_type": "code",
      "execution_count": null,
      "metadata": {
        "id": "7aV5v08oJ44j"
      },
      "outputs": [],
      "source": [
        "variable = 6\n",
        "print(Variable)"
      ]
    },
    {
      "cell_type": "code",
      "execution_count": null,
      "metadata": {
        "id": "0Ubg4MIoJ-pc"
      },
      "outputs": [],
      "source": [
        "a = 6\n",
        "if a > 5:\n",
        "  print('Yes it's bigger')"
      ]
    },
    {
      "cell_type": "code",
      "execution_count": null,
      "metadata": {
        "id": "Btm05dBSKnOu"
      },
      "outputs": [],
      "source": [
        "a = 'Hello'\n",
        "if a == 'Hello':\n",
        "  print('Hello, you too!')\n",
        "   print('How are you?')"
      ]
    },
    {
      "cell_type": "code",
      "execution_count": null,
      "metadata": {
        "id": "1qxWQIsALD3G"
      },
      "outputs": [],
      "source": [
        "This_is_а_variable = \"Hi\"\n",
        "print(Тhis_is_а_vаriаblе)"
      ]
    },
    {
      "cell_type": "code",
      "execution_count": null,
      "metadata": {
        "id": "i6gNkKjlLFAt"
      },
      "outputs": [],
      "source": [
        "print = 'Hello'\n",
        "print('Hi')"
      ]
    }
  ],
  "metadata": {
    "colab": {
      "provenance": []
    },
    "kernelspec": {
      "display_name": "Python 3",
      "language": "python",
      "name": "python3"
    },
    "language_info": {
      "name": "python",
      "version": "3.8.10 (default, Nov 14 2022, 12:59:47) \n[GCC 9.4.0]"
    },
    "vscode": {
      "interpreter": {
        "hash": "916dbcbb3f70747c44a77c7bcd40155683ae19c65e1c03b4aa3499c5328201f1"
      }
    }
  },
  "nbformat": 4,
  "nbformat_minor": 0
}

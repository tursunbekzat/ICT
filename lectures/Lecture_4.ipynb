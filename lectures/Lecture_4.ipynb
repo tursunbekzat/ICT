{
  "nbformat": 4,
  "nbformat_minor": 0,
  "metadata": {
    "colab": {
      "provenance": []
    },
    "kernelspec": {
      "name": "python3",
      "display_name": "Python 3"
    },
    "language_info": {
      "name": "python"
    }
  },
  "cells": [
    {
      "cell_type": "markdown",
      "source": [
        "# Lecture_4: Errors and Exceptions"
      ],
      "metadata": {
        "id": "hzWGUEUwDXN8"
      }
    },
    {
      "cell_type": "markdown",
      "source": [
        "### For new students\n",
        "If you are new students, to catch up, you can check this link:\n",
        "https://www.w3schools.com/python/\n",
        "\n",
        "From start until \"If ... else\" (menu on the left)."
      ],
      "metadata": {
        "id": "3C0PqFFdD1OX"
      }
    },
    {
      "cell_type": "markdown",
      "source": [
        "## Correction practice 3 and reminder"
      ],
      "metadata": {
        "id": "ryr7rZLJE3PD"
      }
    },
    {
      "cell_type": "markdown",
      "source": [
        "### Exercise 1: Adulthood\n",
        "- Make a program which can tell if the user is an adult or not. You can use two “if” statements\n"
      ],
      "metadata": {
        "id": "IwIevdbMFW2O"
      }
    },
    {
      "cell_type": "code",
      "source": [
        "age = int(input('Enter your age: '))\n",
        "if age >= 18:\n",
        "  print('You are an adult')\n",
        "if age < 18:\n",
        "  print('You are a child!')"
      ],
      "metadata": {
        "id": "riQs1G5jE64m",
        "colab": {
          "base_uri": "https://localhost:8080/"
        },
        "outputId": "efc22f69-2668-4ca2-92e8-646363355638"
      },
      "execution_count": null,
      "outputs": [
        {
          "output_type": "stream",
          "name": "stdout",
          "text": [
            "Enter your age: 5\n",
            "You are a child!\n"
          ]
        }
      ]
    },
    {
      "cell_type": "markdown",
      "source": [
        "### Exercise 2: Checking the user input\n",
        "Make a program which ask the number 0 or 1 from a user. The program check if it’s a really\n",
        "the number 0 or 1 and say thank you if it’s one of them. Your program should work with any\n",
        "text."
      ],
      "metadata": {
        "id": "k5smz50gFssg"
      }
    },
    {
      "cell_type": "code",
      "source": [
        "numb = input('Enter a number 0 or 1: ')\n",
        "if numb == '0' or numb == '1':\n",
        "  print('Thank you')\n",
        "else:\n",
        "  print('I said 0 or 1!')"
      ],
      "metadata": {
        "id": "N6EFdVNbF3qZ",
        "colab": {
          "base_uri": "https://localhost:8080/"
        },
        "outputId": "dcb94c28-dce4-4dfb-bc2a-34aaebbd3a7e"
      },
      "execution_count": null,
      "outputs": [
        {
          "output_type": "stream",
          "name": "stdout",
          "text": [
            "Enter a number 0 or 1: hello\n",
            "I said 0 or 1!\n"
          ]
        }
      ]
    },
    {
      "cell_type": "markdown",
      "source": [
        "### Exercise 3: The stars rectangle\n",
        "- Make a program which two numbers from user and check if the first one is a multiple of the\n",
        "second one. (hint: the ‘%’ operator)"
      ],
      "metadata": {
        "id": "ZmW6IYQyF4LE"
      }
    },
    {
      "cell_type": "code",
      "source": [
        "numb1 = int(input('Enter the first number: '))\n",
        "numb2 = int(input('Enter the second one: '))\n",
        "if numb1%numb2 == 0:\n",
        "  print('Yes,', numb1, 'is a mutiple of', numb2, 'because', numb2, 'x', numb1//numb2, '=', numb1)\n",
        "else:\n",
        "  print(\"no it's not a multiple\")"
      ],
      "metadata": {
        "id": "0WTeXgy3F-03",
        "colab": {
          "base_uri": "https://localhost:8080/"
        },
        "outputId": "20280a3a-d835-4363-a777-56f66f5981b0"
      },
      "execution_count": null,
      "outputs": [
        {
          "output_type": "stream",
          "name": "stdout",
          "text": [
            "Enter the first number: 10\n",
            "Enter the second one: 6\n",
            "no it's not a multiple\n"
          ]
        }
      ]
    },
    {
      "cell_type": "markdown",
      "source": [
        "### Exercise 4: Leap year\n",
        "Make a program which ask the year to a user and tell if this year is a leap year. Here is all\n",
        "information about leap year:\n",
        "“Every year that is exactly divisible by four is a leap year, except for years that are exactly\n",
        "divisible by 100, but these centurial years are leap years if they are exactly divisible by 400. For\n",
        "example, the years 1700, 1800, and 1900 are not leap years, but the years 1600 and 2000 are.”\n",
        "(https://en.wikipedia.org/wiki/Leap_year)"
      ],
      "metadata": {
        "id": "NGQdh-6lF_T9"
      }
    },
    {
      "cell_type": "code",
      "source": [
        "year = int(input('Enter a year: '))\n",
        "if year%400 == 0:\n",
        "  print(\"This is a leap year\")\n",
        "elif year%100 == 0:\n",
        "  print(\"This is not a leap year\")\n",
        "elif year%4 == 0:\n",
        "  print('This is a leap year')\n",
        "else:\n",
        "  print('This is not a leap year')"
      ],
      "metadata": {
        "id": "2avrkhpSGJJx",
        "colab": {
          "base_uri": "https://localhost:8080/"
        },
        "outputId": "ea8d6fd4-bb03-4242-ed1d-ba115f7ce7fa"
      },
      "execution_count": null,
      "outputs": [
        {
          "output_type": "stream",
          "name": "stdout",
          "text": [
            "Enter a year: 2000\n",
            "This is a leap year\n"
          ]
        }
      ]
    },
    {
      "cell_type": "markdown",
      "source": [
        "## Conditional Statements"
      ],
      "metadata": {
        "id": "x3QLlRAnEy_i"
      }
    },
    {
      "cell_type": "markdown",
      "source": [
        "### Exercise : (10 min)\n",
        "Your program take two inputs from the user and it displays the mathematical operation which produces the biggest number.\n",
        "\n",
        "Example: \n",
        "\n",
        "inputs: 5 6 | output: 'Multiplication'\n",
        "\n",
        "inputs: 2 0.1 | output: 'Division'.\n",
        "\n",
        "inputs: 1 1 | output: 'Addition'\n",
        "\n",
        "inputs: 2 -20 | output: 'Substraction'\n"
      ],
      "metadata": {
        "id": "wE8d0oxL2fQw"
      }
    },
    {
      "cell_type": "code",
      "source": [
        "n1 = float(input('Enter a number: '))\n",
        "n2 = float(input('Enter a number: '))\n",
        "\n",
        "if n1*n2 > n1+n2 and n1*n2 > n1/n2 and n1*n2 > n1-n2 :\n",
        "  print('Multiplication')\n",
        "elif n1+n2 > n1*n2 and n1+n2 > n1/n2 and n1+n2 > n1-n2 :\n",
        "  print('Addition')\n",
        "elif n1-n2 > n1+n2 and n1-n2 > n1/n2 and n1-n2 > n1*n2 :\n",
        "  print('Substration')\n",
        "else:\n",
        "  print(\"division\")"
      ],
      "metadata": {
        "id": "alHqukPy2wTt",
        "colab": {
          "base_uri": "https://localhost:8080/"
        },
        "outputId": "031cfec7-4036-40cc-cc3c-c56ce318c988"
      },
      "execution_count": null,
      "outputs": [
        {
          "output_type": "stream",
          "name": "stdout",
          "text": [
            "Enter a number: 2\n",
            "Enter a number: 2\n",
            "division\n"
          ]
        }
      ]
    },
    {
      "cell_type": "code",
      "source": [
        "n1 = float(input('Enter a number: '))\n",
        "n2 = float(input('Enter a number: '))\n",
        "\n",
        "maxi = -100000\n",
        "if n1*n2 > maxi:\n",
        "  maxi = n1*n2\n",
        "  answer = 'Multiplication'\n",
        "if n1+n2 > maxi:\n",
        "  maxi = n1+n2\n",
        "  answer = 'Addition'\n",
        "if n1-n2 > maxi:\n",
        "  maxi = n1-n2\n",
        "  answer = 'Substration'\n",
        "if n1/n2 > maxi:\n",
        "  maxi = n1/n2\n",
        "  answer = 'Division'\n",
        "print(answer)\n"
      ],
      "metadata": {
        "colab": {
          "base_uri": "https://localhost:8080/"
        },
        "id": "8h5GKQt0em4i",
        "outputId": "79b31648-f364-4ddb-ce4f-ae641e74d9b7"
      },
      "execution_count": null,
      "outputs": [
        {
          "output_type": "stream",
          "name": "stdout",
          "text": [
            "Enter a number: 5\n",
            "Enter a number: 6\n",
            "Multiplication\n"
          ]
        }
      ]
    },
    {
      "cell_type": "markdown",
      "source": [
        "### One line if statement\n",
        "\n",
        "Possible to use\n",
        "\n",
        "With several lines of code with the ;\n",
        "\n",
        "Only in some specific cases please\n"
      ],
      "metadata": {
        "id": "NaQy_MhK4clu"
      }
    },
    {
      "cell_type": "code",
      "source": [
        "a = 5\n",
        "if a == 5: print('This is a 5!')\n",
        "else: print('This is not a five!')"
      ],
      "metadata": {
        "colab": {
          "base_uri": "https://localhost:8080/"
        },
        "id": "jRN9JGpyh7E0",
        "outputId": "cff7a64a-860a-43c5-e6ac-4ce69a632252"
      },
      "execution_count": null,
      "outputs": [
        {
          "output_type": "stream",
          "name": "stdout",
          "text": [
            "This is a 5!\n"
          ]
        }
      ]
    },
    {
      "cell_type": "code",
      "source": [
        "print('Hello'); print('hi')\n",
        "print('Hello')\n",
        "print('hi')"
      ],
      "metadata": {
        "colab": {
          "base_uri": "https://localhost:8080/"
        },
        "id": "sgFIz9pBid8n",
        "outputId": "6116f15e-4ac6-4749-c6ef-2af2b4b39aaf"
      },
      "execution_count": null,
      "outputs": [
        {
          "output_type": "stream",
          "name": "stdout",
          "text": [
            "Hello\n",
            "hi\n",
            "Hello\n",
            "hi\n"
          ]
        }
      ]
    },
    {
      "cell_type": "code",
      "source": [
        "a = 5\n",
        "if a == 5: print('This is a 5!'); print('hi')\n",
        "else: print('This is not a five!'); print('bye')"
      ],
      "metadata": {
        "colab": {
          "base_uri": "https://localhost:8080/"
        },
        "id": "NvsLd89miwaj",
        "outputId": "3a7f9048-4c45-4388-b793-3c0943694429"
      },
      "execution_count": null,
      "outputs": [
        {
          "output_type": "stream",
          "name": "stdout",
          "text": [
            "This is a 5!\n",
            "hi\n"
          ]
        }
      ]
    },
    {
      "cell_type": "markdown",
      "source": [
        "### Conditionnal expression\n",
        "To use directly in the variable creation\n",
        "\n",
        "Not a direct flow\n",
        "\n",
        "A condensation of the if statement in one line\n",
        "\n",
        "Faster for simple conditions\n"
      ],
      "metadata": {
        "id": "5E08aGj64i98"
      }
    },
    {
      "cell_type": "code",
      "source": [
        "a = 7\n",
        "b = 5 if a==5 else 6\n",
        "print(b)\n",
        "if a == 5:\n",
        "  b = 5\n",
        "else:\n",
        "  b = 6"
      ],
      "metadata": {
        "id": "wbwQJDpA5JYs",
        "colab": {
          "base_uri": "https://localhost:8080/"
        },
        "outputId": "5a958c89-9172-4378-a59b-fd960a94ad59"
      },
      "execution_count": null,
      "outputs": [
        {
          "output_type": "stream",
          "name": "stdout",
          "text": [
            "6\n"
          ]
        }
      ]
    },
    {
      "cell_type": "code",
      "source": [
        "a = 7\n",
        "b = 5 if a==5 else (6 if a == 7 else 2)\n",
        "print(b)"
      ],
      "metadata": {
        "colab": {
          "base_uri": "https://localhost:8080/"
        },
        "id": "y7DUoEIdjV_o",
        "outputId": "7f97975e-ca75-47a1-b8df-593531928057"
      },
      "execution_count": null,
      "outputs": [
        {
          "output_type": "stream",
          "name": "stdout",
          "text": [
            "6\n"
          ]
        }
      ]
    },
    {
      "cell_type": "markdown",
      "source": [
        "### Difference between conditional expression and if statement"
      ],
      "metadata": {
        "id": "4yg5bynk6HYs"
      }
    },
    {
      "cell_type": "code",
      "source": [],
      "metadata": {
        "id": "MgfeSjU46Lov"
      },
      "execution_count": null,
      "outputs": []
    },
    {
      "cell_type": "markdown",
      "source": [
        "### The pass statement\n",
        "Useful in development to skip some part\n",
        "\n",
        "Just skip the execution of the code of the statement\n",
        "\n",
        "The code is not executed and don’t raise an error\n"
      ],
      "metadata": {
        "id": "K7TvpmZj6tis"
      }
    },
    {
      "cell_type": "code",
      "source": [
        "a = 5\n",
        "if a == 5:\n",
        "  pass\n",
        "else:\n",
        "  print('This is not 5')"
      ],
      "metadata": {
        "id": "WDyBVbNH6yfT"
      },
      "execution_count": null,
      "outputs": []
    },
    {
      "cell_type": "markdown",
      "source": [
        "### Exercise (5 min)\n",
        "\n",
        "Write a program which print \"Let's go to the beach\" or \"Let's go to the library\" according to the boolean value of raining. Use if conditional statement directly in the print."
      ],
      "metadata": {
        "id": "f08yrw0l9YzO"
      }
    },
    {
      "cell_type": "code",
      "source": [
        "raining = False\n",
        "print(\"Let's go to the\", \"library\" if raining == True else \"beach\")\n",
        "print(\"Let's go to the\", \"library\" if raining else \"beach\")"
      ],
      "metadata": {
        "id": "EzQ5fpQ79nqD",
        "colab": {
          "base_uri": "https://localhost:8080/"
        },
        "outputId": "acc3a557-891b-49fa-c920-0f44dfebead5"
      },
      "execution_count": null,
      "outputs": [
        {
          "output_type": "stream",
          "name": "stdout",
          "text": [
            "Let's go to the beach\n",
            "Let's go to the beach\n"
          ]
        }
      ]
    },
    {
      "cell_type": "markdown",
      "source": [
        "## Errors/Exceptions"
      ],
      "metadata": {
        "id": "LVCmn5Nx35Dc"
      }
    },
    {
      "cell_type": "markdown",
      "source": [
        "Appear when you code is incorrect\n",
        "\n",
        "Two main type of errors:\n",
        "\n",
        "*  Syntax errors: your code is not run at all\n",
        "\n",
        "*  Runtime errors: the error appear during the running of your code\n"
      ],
      "metadata": {
        "id": "Sm2koKeKGsvv"
      }
    },
    {
      "cell_type": "code",
      "source": [
        "#Syntax error\n",
        "print('Start of code')\n",
        "1var =  6\n",
        "print(1var)\n",
        "print('End of code')"
      ],
      "metadata": {
        "id": "zUs_TMD06LNN",
        "colab": {
          "base_uri": "https://localhost:8080/",
          "height": 133
        },
        "outputId": "2fc688cf-3a70-4719-a1de-eb95ee89e15d"
      },
      "execution_count": null,
      "outputs": [
        {
          "output_type": "error",
          "ename": "SyntaxError",
          "evalue": "ignored",
          "traceback": [
            "\u001b[0;36m  File \u001b[0;32m\"<ipython-input-58-e80de82806f9>\"\u001b[0;36m, line \u001b[0;32m8\u001b[0m\n\u001b[0;31m    1var =  6\u001b[0m\n\u001b[0m     ^\u001b[0m\n\u001b[0;31mSyntaxError\u001b[0m\u001b[0;31m:\u001b[0m invalid syntax\n"
          ]
        }
      ]
    },
    {
      "cell_type": "code",
      "source": [
        "# Runtime\n",
        "#Syntax error\n",
        "print('Start of code')\n",
        "var =  0\n",
        "print(20 / var)\n",
        "print('End of code')"
      ],
      "metadata": {
        "colab": {
          "base_uri": "https://localhost:8080/",
          "height": 239
        },
        "id": "Dh14HxOLmX0C",
        "outputId": "45226876-091c-41a4-ac6a-2646ff967bb0"
      },
      "execution_count": null,
      "outputs": [
        {
          "output_type": "stream",
          "name": "stdout",
          "text": [
            "Start of code\n"
          ]
        },
        {
          "output_type": "error",
          "ename": "ZeroDivisionError",
          "evalue": "ignored",
          "traceback": [
            "\u001b[0;31m---------------------------------------------------------------------------\u001b[0m",
            "\u001b[0;31mZeroDivisionError\u001b[0m                         Traceback (most recent call last)",
            "\u001b[0;32m<ipython-input-59-075ff1803277>\u001b[0m in \u001b[0;36m<module>\u001b[0;34m\u001b[0m\n\u001b[1;32m      3\u001b[0m \u001b[0mprint\u001b[0m\u001b[0;34m(\u001b[0m\u001b[0;34m'Start of code'\u001b[0m\u001b[0;34m)\u001b[0m\u001b[0;34m\u001b[0m\u001b[0;34m\u001b[0m\u001b[0m\n\u001b[1;32m      4\u001b[0m \u001b[0mvar\u001b[0m \u001b[0;34m=\u001b[0m  \u001b[0;36m0\u001b[0m\u001b[0;34m\u001b[0m\u001b[0;34m\u001b[0m\u001b[0m\n\u001b[0;32m----> 5\u001b[0;31m \u001b[0mprint\u001b[0m\u001b[0;34m(\u001b[0m\u001b[0;36m20\u001b[0m \u001b[0;34m/\u001b[0m \u001b[0mvar\u001b[0m\u001b[0;34m)\u001b[0m\u001b[0;34m\u001b[0m\u001b[0;34m\u001b[0m\u001b[0m\n\u001b[0m\u001b[1;32m      6\u001b[0m \u001b[0mprint\u001b[0m\u001b[0;34m(\u001b[0m\u001b[0;34m'End of code'\u001b[0m\u001b[0;34m)\u001b[0m\u001b[0;34m\u001b[0m\u001b[0;34m\u001b[0m\u001b[0m\n",
            "\u001b[0;31mZeroDivisionError\u001b[0m: division by zero"
          ]
        }
      ]
    },
    {
      "cell_type": "markdown",
      "source": [
        "### Errors composition\n",
        "\n",
        "Type of error\n",
        "\n",
        "File\n",
        "\n",
        "Description\n",
        "\n",
        "All required information are in the error, so **please read it**\n"
      ],
      "metadata": {
        "id": "9vT7GxttG0XP"
      }
    },
    {
      "cell_type": "code",
      "source": [
        "# 1var = 5\n",
        "# print(1var)\n",
        "# print(20 /0 )\n",
        "int('five')"
      ],
      "metadata": {
        "id": "7UzqN-LNIvmI",
        "colab": {
          "base_uri": "https://localhost:8080/",
          "height": 203
        },
        "outputId": "a19c535b-8bb8-4e02-f1a0-36b2ffa49c72"
      },
      "execution_count": null,
      "outputs": [
        {
          "output_type": "error",
          "ename": "ValueError",
          "evalue": "ignored",
          "traceback": [
            "\u001b[0;31m---------------------------------------------------------------------------\u001b[0m",
            "\u001b[0;31mValueError\u001b[0m                                Traceback (most recent call last)",
            "\u001b[0;32m<ipython-input-62-2d0b787b23ed>\u001b[0m in \u001b[0;36m<module>\u001b[0;34m\u001b[0m\n\u001b[1;32m      2\u001b[0m \u001b[0;31m# print(1var)\u001b[0m\u001b[0;34m\u001b[0m\u001b[0;34m\u001b[0m\u001b[0;34m\u001b[0m\u001b[0m\n\u001b[1;32m      3\u001b[0m \u001b[0;31m# print(20 /0 )\u001b[0m\u001b[0;34m\u001b[0m\u001b[0;34m\u001b[0m\u001b[0;34m\u001b[0m\u001b[0m\n\u001b[0;32m----> 4\u001b[0;31m \u001b[0mint\u001b[0m\u001b[0;34m(\u001b[0m\u001b[0;34m'five'\u001b[0m\u001b[0;34m)\u001b[0m\u001b[0;34m\u001b[0m\u001b[0;34m\u001b[0m\u001b[0m\n\u001b[0m",
            "\u001b[0;31mValueError\u001b[0m: invalid literal for int() with base 10: 'five'"
          ]
        }
      ]
    },
    {
      "cell_type": "markdown",
      "source": [
        "### Many types of errors\n",
        "\n",
        "https://docs.python.org/3/library/exceptions.html\n",
        "\n",
        "The most frequent:\n",
        "* ZeroDivisionError\n",
        "* NameError\n",
        "* SyntaxError\n",
        "* IndentationError\n"
      ],
      "metadata": {
        "id": "ip6x4xN4JpDd"
      }
    },
    {
      "cell_type": "code",
      "source": [
        "a = 5\n",
        "# print(A)\n",
        "if a == 5:\n",
        "print(a)"
      ],
      "metadata": {
        "id": "_-gT25TrJwu-",
        "colab": {
          "base_uri": "https://localhost:8080/",
          "height": 133
        },
        "outputId": "0e7ad62a-1130-4c27-d02c-5ca9b94922cf"
      },
      "execution_count": null,
      "outputs": [
        {
          "output_type": "error",
          "ename": "IndentationError",
          "evalue": "ignored",
          "traceback": [
            "\u001b[0;36m  File \u001b[0;32m\"<ipython-input-64-41780adbfd26>\"\u001b[0;36m, line \u001b[0;32m4\u001b[0m\n\u001b[0;31m    print(a)\u001b[0m\n\u001b[0m    ^\u001b[0m\n\u001b[0;31mIndentationError\u001b[0m\u001b[0;31m:\u001b[0m expected an indented block\n"
          ]
        }
      ]
    },
    {
      "cell_type": "markdown",
      "source": [
        "### Exercise (10 min):\n",
        "Try to solve all the errors on these codes.\n",
        "\n"
      ],
      "metadata": {
        "id": "J4BT--72JyT6"
      }
    },
    {
      "cell_type": "code",
      "source": [
        "variable = 6\n",
        "print(variable)"
      ],
      "metadata": {
        "id": "7aV5v08oJ44j",
        "colab": {
          "base_uri": "https://localhost:8080/"
        },
        "outputId": "fb343b57-71fa-44f3-e91e-7dcac624b98e"
      },
      "execution_count": null,
      "outputs": [
        {
          "output_type": "stream",
          "name": "stdout",
          "text": [
            "6\n"
          ]
        }
      ]
    },
    {
      "cell_type": "code",
      "source": [
        "a = 6\n",
        "if a > 5:\n",
        "  print('Yes it\\'s bigger')"
      ],
      "metadata": {
        "id": "0Ubg4MIoJ-pc",
        "colab": {
          "base_uri": "https://localhost:8080/"
        },
        "outputId": "f869459a-7054-4ec4-a4bb-d5abb3835941"
      },
      "execution_count": null,
      "outputs": [
        {
          "output_type": "stream",
          "name": "stdout",
          "text": [
            "Yes it's bigger\n"
          ]
        }
      ]
    },
    {
      "cell_type": "code",
      "source": [
        "a = 'Hello'\n",
        "if a == 'Hello':\n",
        "  print('Hello, you too!')\n",
        "  print('How are you?')"
      ],
      "metadata": {
        "id": "Btm05dBSKnOu",
        "colab": {
          "base_uri": "https://localhost:8080/"
        },
        "outputId": "6725a0a5-fd31-4d01-e010-b1ef725bee9a"
      },
      "execution_count": null,
      "outputs": [
        {
          "output_type": "stream",
          "name": "stdout",
          "text": [
            "Hello, you too!\n",
            "How are you?\n"
          ]
        }
      ]
    },
    {
      "cell_type": "code",
      "source": [
        "This_is_a_variable = \"Hi\"\n",
        "print(This_is_a_variable) #а != a"
      ],
      "metadata": {
        "id": "1qxWQIsALD3G",
        "colab": {
          "base_uri": "https://localhost:8080/"
        },
        "outputId": "96d3001d-eaf5-4bb1-9824-c227f5d4d596"
      },
      "execution_count": null,
      "outputs": [
        {
          "output_type": "stream",
          "name": "stdout",
          "text": [
            "Hi\n"
          ]
        }
      ]
    },
    {
      "cell_type": "code",
      "source": [
        "# print = 'Hello'\n",
        "print('hi')"
      ],
      "metadata": {
        "id": "i6gNkKjlLFAt",
        "colab": {
          "base_uri": "https://localhost:8080/"
        },
        "outputId": "d83c1bd5-1826-43a2-d0ba-b8366f499208"
      },
      "execution_count": null,
      "outputs": [
        {
          "output_type": "stream",
          "name": "stdout",
          "text": [
            "hi\n"
          ]
        }
      ]
    },
    {
      "cell_type": "code",
      "source": [],
      "metadata": {
        "id": "IFAlOPA9qLHo"
      },
      "execution_count": null,
      "outputs": []
    },
    {
      "cell_type": "code",
      "source": [
        "print(varia)"
      ],
      "metadata": {
        "colab": {
          "base_uri": "https://localhost:8080/"
        },
        "id": "vXPfkI8MqQYb",
        "outputId": "3a63f8e2-6e30-4bb5-aaa0-1bbb257ff15a"
      },
      "execution_count": null,
      "outputs": [
        {
          "output_type": "stream",
          "name": "stdout",
          "text": [
            "6\n"
          ]
        }
      ]
    },
    {
      "cell_type": "markdown",
      "source": [
        "### The try/except statement\n",
        "Use the try to catch an error\n",
        "\n",
        "The except will be run if an error appear\n",
        "\n",
        "The code continue after"
      ],
      "metadata": {
        "id": "d85KfB632W7N"
      }
    },
    {
      "cell_type": "code",
      "source": [
        "print('Start')\n",
        "try:\n",
        "  # Line to test\n",
        "  a = 5 / 5\n",
        "  b = 6 *2\n",
        "  prit(c)\n",
        "except:\n",
        "  #Done if error in the try\n",
        "  print('error')\n",
        "  a = 0\n",
        "print(a)\n",
        "print('End')"
      ],
      "metadata": {
        "id": "ww6jEvaj2ecj",
        "colab": {
          "base_uri": "https://localhost:8080/"
        },
        "outputId": "f1ca80c4-a3d9-42d7-deed-472b8b6eead3"
      },
      "execution_count": null,
      "outputs": [
        {
          "output_type": "stream",
          "name": "stdout",
          "text": [
            "Start\n",
            "0\n",
            "End\n"
          ]
        }
      ]
    },
    {
      "cell_type": "markdown",
      "source": [
        "### Except arguments\n",
        "Use error name to catch only these error\n",
        "\n",
        "Print different information according to error\n",
        "\n",
        "Get the error in a variable\n",
        "\n"
      ],
      "metadata": {
        "id": "sNr-D9MVCkmC"
      }
    },
    {
      "cell_type": "code",
      "source": [
        "a = 5\n",
        "b = 2\n",
        "try:\n",
        "  c = a / b\n",
        "  prti(c)\n",
        "except ZeroDivisionError:\n",
        "  print('error: you try to divide by 0')\n",
        "print('End of code')"
      ],
      "metadata": {
        "id": "1pzVHD47DOX0",
        "colab": {
          "base_uri": "https://localhost:8080/",
          "height": 239
        },
        "outputId": "5e8bb0de-42b4-4fe5-f38b-29129d09baa1"
      },
      "execution_count": null,
      "outputs": [
        {
          "output_type": "error",
          "ename": "NameError",
          "evalue": "ignored",
          "traceback": [
            "\u001b[0;31m---------------------------------------------------------------------------\u001b[0m",
            "\u001b[0;31mNameError\u001b[0m                                 Traceback (most recent call last)",
            "\u001b[0;32m<ipython-input-25-b7c941165b09>\u001b[0m in \u001b[0;36m<module>\u001b[0;34m\u001b[0m\n\u001b[1;32m      3\u001b[0m \u001b[0;32mtry\u001b[0m\u001b[0;34m:\u001b[0m\u001b[0;34m\u001b[0m\u001b[0;34m\u001b[0m\u001b[0m\n\u001b[1;32m      4\u001b[0m   \u001b[0mc\u001b[0m \u001b[0;34m=\u001b[0m \u001b[0ma\u001b[0m \u001b[0;34m/\u001b[0m \u001b[0mb\u001b[0m\u001b[0;34m\u001b[0m\u001b[0;34m\u001b[0m\u001b[0m\n\u001b[0;32m----> 5\u001b[0;31m   \u001b[0mprti\u001b[0m\u001b[0;34m(\u001b[0m\u001b[0mc\u001b[0m\u001b[0;34m)\u001b[0m\u001b[0;34m\u001b[0m\u001b[0;34m\u001b[0m\u001b[0m\n\u001b[0m\u001b[1;32m      6\u001b[0m \u001b[0;32mexcept\u001b[0m \u001b[0mZeroDivisionError\u001b[0m\u001b[0;34m:\u001b[0m\u001b[0;34m\u001b[0m\u001b[0;34m\u001b[0m\u001b[0m\n\u001b[1;32m      7\u001b[0m   \u001b[0mprint\u001b[0m\u001b[0;34m(\u001b[0m\u001b[0;34m'error: you try to divide by 0'\u001b[0m\u001b[0;34m)\u001b[0m\u001b[0;34m\u001b[0m\u001b[0;34m\u001b[0m\u001b[0m\n",
            "\u001b[0;31mNameError\u001b[0m: name 'prti' is not defined"
          ]
        }
      ]
    },
    {
      "cell_type": "code",
      "source": [
        "a = 5\n",
        "b = 2\n",
        "try:\n",
        "  c = a / b\n",
        "  prti(c)\n",
        "except ZeroDivisionError:\n",
        "  print('error: you try to divide by 0')\n",
        "except NameError:\n",
        "  print('A problem with the name')\n",
        "print('End of code')"
      ],
      "metadata": {
        "colab": {
          "base_uri": "https://localhost:8080/"
        },
        "id": "ZhMt2CnssL_8",
        "outputId": "5b01a5d4-85cf-461a-bb1e-f3d7613be66c"
      },
      "execution_count": null,
      "outputs": [
        {
          "output_type": "stream",
          "name": "stdout",
          "text": [
            "A problem with the name\n",
            "End of code\n"
          ]
        }
      ]
    },
    {
      "cell_type": "markdown",
      "source": [
        "### Exercise: 5 min\n",
        "\n",
        "Make a program which ask for two user inputs and divide the first input by the second input. Catch the error if the second input is zero and print the message: \"Please don't enter 0!\"."
      ],
      "metadata": {
        "id": "tk_f_cvm3ogH"
      }
    },
    {
      "cell_type": "code",
      "source": [
        "n1 = int(input())\n",
        "n2 = int(input())\n",
        "try:\n",
        "  print('Division is', n1/n2)\n",
        "except ZeroDivisionError:\n",
        "  print(\"Please don't enter 0!\")"
      ],
      "metadata": {
        "id": "37eNHG0H3n5y",
        "colab": {
          "base_uri": "https://localhost:8080/"
        },
        "outputId": "51b793b4-cbc2-4155-dcda-87d20d794824"
      },
      "execution_count": null,
      "outputs": [
        {
          "output_type": "stream",
          "name": "stdout",
          "text": [
            "6\n",
            "2\n",
            "Division is 3.0\n"
          ]
        }
      ]
    },
    {
      "cell_type": "markdown",
      "source": [
        "### Try/Except/Else/Finally\n",
        "\n",
        "Else is done if no error at all\n",
        "\n",
        "Finally is always done\n",
        "\n"
      ],
      "metadata": {
        "id": "rBJwqbvBDPaE"
      }
    },
    {
      "cell_type": "code",
      "source": [],
      "metadata": {
        "id": "ZJq9SpczDZvI"
      },
      "execution_count": null,
      "outputs": []
    },
    {
      "cell_type": "markdown",
      "source": [
        "### Raising errors\n",
        "\n",
        "Use raise to create an error\n",
        "\n",
        "You can define what kind of error you want\n"
      ],
      "metadata": {
        "id": "ti5W9Fs5EQI_"
      }
    },
    {
      "cell_type": "code",
      "source": [],
      "metadata": {
        "id": "r_Ox7NqREWYa"
      },
      "execution_count": null,
      "outputs": []
    },
    {
      "cell_type": "markdown",
      "source": [
        "### Exercise : (15 min)\n",
        "\n",
        "You have the calculator program from previous lecture.\n",
        "Do the following modifications:\n",
        "* Modify it to catch the zero division error and print 0 in this case.\n",
        "* Modify it to catch the error if the user enter texts and not numbers as input and make by default numb1 = 1 and numb2 = 1\n",
        "* Raise an error if the operation is not know (an error not just a print)\n",
        "\n"
      ],
      "metadata": {
        "id": "8z64f68vFByk"
      }
    },
    {
      "cell_type": "code",
      "source": [
        "numb1 = int(input(\"enter a first number:\"))\n",
        "numb2 = int(input(\"enter a second number:\"))\n",
        "op = input(\"Enter the operation\")\n",
        "\n",
        "if op == \"Addition\":\n",
        "  print(numb1, '+', numb2, '=', numb1 + numb2)\n",
        "\n",
        "elif op == \"Multiplication\":\n",
        "  print(numb1, 'x', numb2, '=', numb1 * numb2)\n",
        "\n",
        "elif op == \"Division\":\n",
        "  print(numb1, '/', numb2, '=', numb1 / numb2)\n",
        "\n",
        "elif op == \"Substraction\":\n",
        "  print(numb1, '-', numb2, '=', numb1 - numb2)"
      ],
      "metadata": {
        "id": "fy_4IGa6FYq5"
      },
      "execution_count": null,
      "outputs": []
    }
  ]
}
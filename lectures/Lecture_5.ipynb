{
  "cells": [
    {
      "cell_type": "markdown",
      "metadata": {
        "id": "hzWGUEUwDXN8"
      },
      "source": [
        "# Lecture 5: The for loop"
      ]
    },
    {
      "cell_type": "markdown",
      "metadata": {
        "id": "ryr7rZLJE3PD"
      },
      "source": [
        "## Correction practice 4 and reminder"
      ]
    },
    {
      "cell_type": "markdown",
      "metadata": {
        "id": "IwIevdbMFW2O"
      },
      "source": [
        "### Adulthood\n",
        "- Make a program which can tell if the user is an adult or not. You should only use one-line if statement. Your program should be two lines maximum (with only one print)."
      ]
    },
    {
      "cell_type": "code",
      "execution_count": null,
      "metadata": {
        "colab": {
          "base_uri": "https://localhost:8080/"
        },
        "id": "riQs1G5jE64m",
        "outputId": "180c64a8-2d03-4f46-8871-c4330c9cc363"
      },
      "outputs": [
        {
          "name": "stdout",
          "output_type": "stream",
          "text": [
            "Enter your age: 20\n",
            "You are an adult\n"
          ]
        }
      ],
      "source": [
        "age = int(input('Enter your age: '))\n",
        "print('You are', 'an adult' if age >= 18 else 'a child')\n",
        "# if age >= 18 :\n",
        "#   print('You are an adult')\n",
        "# else:\n",
        "#   print('You are a child')"
      ]
    },
    {
      "cell_type": "markdown",
      "metadata": {
        "id": "k5smz50gFssg"
      },
      "source": [
        "### Solve the following errors\n",
        "- The following lines of code can sometimes raise errors. Fix them. Make as less as possible modification of the code."
      ]
    },
    {
      "cell_type": "code",
      "execution_count": null,
      "metadata": {
        "colab": {
          "base_uri": "https://localhost:8080/"
        },
        "id": "N6EFdVNbF3qZ",
        "outputId": "4ae1809d-20c8-45d7-8dfd-396480342274"
      },
      "outputs": [
        {
          "name": "stdout",
          "output_type": "stream",
          "text": [
            "Enter a number:15\n",
            "Enter another number:12\n"
          ]
        }
      ],
      "source": [
        "input1 = int(input('Enter a number:'))\n",
        "input2 = int(input('Enter another number:'))"
      ]
    },
    {
      "cell_type": "code",
      "execution_count": null,
      "metadata": {
        "colab": {
          "base_uri": "https://localhost:8080/"
        },
        "id": "dhmTN5FAb8NT",
        "outputId": "536a8d4d-31bf-47ab-a255-e2abeac1c7a7"
      },
      "outputs": [
        {
          "name": "stdout",
          "output_type": "stream",
          "text": [
            "hello\n"
          ]
        }
      ],
      "source": [
        "a = 6\n",
        "if a == 6:\n",
        "  print('hello')"
      ]
    },
    {
      "cell_type": "code",
      "execution_count": null,
      "metadata": {
        "colab": {
          "base_uri": "https://localhost:8080/"
        },
        "id": "LdqPp6fQb8Dg",
        "outputId": "a410bc9e-bf6d-4a0c-cfd9-bf549d5fc784"
      },
      "outputs": [
        {
          "name": "stdout",
          "output_type": "stream",
          "text": [
            "Do you want to make an calculation? (0/1)0\n"
          ]
        }
      ],
      "source": [
        "ask = bool(int(input('Do you want to make an calculation? (0/1)')))\n",
        "if ask:\n",
        "  n = int(input('What is your number:'))\n",
        "  print('Your number mulltiply by two is: ', n*2)"
      ]
    },
    {
      "cell_type": "code",
      "execution_count": null,
      "metadata": {
        "colab": {
          "base_uri": "https://localhost:8080/"
        },
        "id": "Oxt7HoGGb73p",
        "outputId": "796aa4ca-3dbe-4897-f3c0-5cd0480da04e"
      },
      "outputs": [
        {
          "name": "stdout",
          "output_type": "stream",
          "text": [
            "It's a zero\n",
            "I think\n"
          ]
        }
      ],
      "source": [
        "a = 0\n",
        "if a == 0: print(\"It's a zero\"); print('I think')"
      ]
    },
    {
      "cell_type": "markdown",
      "metadata": {
        "id": "ZmW6IYQyF4LE"
      },
      "source": [
        "### Calculator optimised\n",
        "Make a program which two numbers from user and an operation (multiplication, addition,…). You program should rise error if the user enters a text other than number or make and division by zero. You can use try and except."
      ]
    },
    {
      "cell_type": "code",
      "execution_count": null,
      "metadata": {
        "colab": {
          "base_uri": "https://localhost:8080/"
        },
        "id": "0WTeXgy3F-03",
        "outputId": "417ee979-5ba5-4142-9015-c1f5bca9d5de"
      },
      "outputs": [
        {
          "name": "stdout",
          "output_type": "stream",
          "text": [
            "Enter n1 :gfhjk\n",
            "The first number is incorrect\n",
            "Enter n2 :qztes\n",
            "The second number is incorrect\n"
          ]
        }
      ],
      "source": [
        "n1, n2 = False, False\n",
        "try:\n",
        "  n1 = int(input('Enter n1 :'))\n",
        "except ValueError:\n",
        "  print('The first number is incorrect')\n",
        "try:\n",
        "  n2 = int(input('Enter n2 :'))\n",
        "except ValueError:\n",
        "  print('The second number is incorrect')\n",
        "  \n",
        "if n1 != False and n2 != False:\n",
        "  op = input(\"Enter an operation\")\n",
        "\n",
        "  if op == 'Division':\n",
        "    try:\n",
        "      print(n1/n2)\n",
        "    except ZeroDivisionError:\n",
        "      print('The second number is 0!')\n",
        "  elif op == 'Addition':\n",
        "    print(n1+n2)\n",
        "  else:\n",
        "    print('I don\\'t know this operation')\n"
      ]
    },
    {
      "cell_type": "markdown",
      "metadata": {
        "id": "x3QLlRAnEy_i"
      },
      "source": [
        "## For loop"
      ]
    },
    {
      "cell_type": "markdown",
      "metadata": {
        "id": "QVqxqz998c3X"
      },
      "source": [
        "### Why a loop?\n",
        "\n",
        "* Same code execute several times\n",
        "* Save space and time\n",
        "* The number of loop vary in function of variable\n"
      ]
    },
    {
      "cell_type": "code",
      "execution_count": null,
      "metadata": {
        "colab": {
          "base_uri": "https://localhost:8080/"
        },
        "id": "O6t4pgz79kVc",
        "outputId": "f4aaeb72-47b6-4d4f-feb4-ce3c259145de"
      },
      "outputs": [
        {
          "name": "stdout",
          "output_type": "stream",
          "text": [
            "0 1 2 3 4 5 6 7 8 9\n"
          ]
        }
      ],
      "source": [
        "#Example: print all numbers from 0 to 10\n",
        "print(0, 1, 2, 3, 4, 5, 6, 7, 8, 9)"
      ]
    },
    {
      "cell_type": "markdown",
      "metadata": {
        "id": "h14u99C2_ZFU"
      },
      "source": [
        "### What is a for loop\n",
        "\n",
        "* Keyword (for) + variable (any) + in range + number of iteration between parenthesis + colon (:) then indentation and code to execute several time\n",
        "* One part is the number of iteration, second one is the code to execute\n",
        "\n"
      ]
    },
    {
      "cell_type": "code",
      "execution_count": null,
      "metadata": {
        "colab": {
          "base_uri": "https://localhost:8080/"
        },
        "id": "z633VFey_hVs",
        "outputId": "d6de06b6-1909-4678-e950-0cad64a81371"
      },
      "outputs": [
        {
          "name": "stdout",
          "output_type": "stream",
          "text": [
            "hello\n",
            "hello\n",
            "hello\n"
          ]
        }
      ],
      "source": [
        "for i in range(3):\n",
        "  print('hello')\n"
      ]
    },
    {
      "cell_type": "markdown",
      "metadata": {
        "id": "O9kDuc3cDCJB"
      },
      "source": [
        "### Some information\n",
        "* As many line as you want\n",
        "* Indented lines => inside the loop\n",
        "* You can use variables from before\n"
      ]
    },
    {
      "cell_type": "code",
      "execution_count": null,
      "metadata": {
        "colab": {
          "base_uri": "https://localhost:8080/"
        },
        "id": "gYbEziPZDGVK",
        "outputId": "62cb7bdc-2c3d-401a-f839-48bbc4e6ee58"
      },
      "outputs": [
        {
          "name": "stdout",
          "output_type": "stream",
          "text": [
            "Hello\n",
            "hi\n",
            "Hello\n",
            "hi\n",
            "Hello\n",
            "hi\n",
            "end\n"
          ]
        }
      ],
      "source": [
        "for i in range(3):\n",
        "  print('Hello')\n",
        "  print('hi')\n",
        "print('end')"
      ]
    },
    {
      "cell_type": "code",
      "execution_count": null,
      "metadata": {
        "colab": {
          "base_uri": "https://localhost:8080/"
        },
        "id": "948aWPnZeJtn",
        "outputId": "fa3093de-20e8-4b1d-ee03-826cf384d43f"
      },
      "outputs": [
        {
          "name": "stdout",
          "output_type": "stream",
          "text": [
            "6\n",
            "6\n",
            "6\n"
          ]
        }
      ],
      "source": [
        "number = 5\n",
        "for i in range(3):\n",
        "  print(number + 1)"
      ]
    },
    {
      "cell_type": "code",
      "execution_count": null,
      "metadata": {
        "colab": {
          "base_uri": "https://localhost:8080/"
        },
        "id": "HlowuA3BeQD3",
        "outputId": "51afa3e8-eb94-4938-dbce-12a486570bef"
      },
      "outputs": [
        {
          "name": "stdout",
          "output_type": "stream",
          "text": [
            "5\n",
            "6\n",
            "7\n",
            "8\n",
            "9\n",
            "10\n"
          ]
        }
      ],
      "source": [
        "n = 5\n",
        "for i in range(6):\n",
        "  print(n)\n",
        "  n = n + 1"
      ]
    },
    {
      "cell_type": "markdown",
      "metadata": {
        "id": "7ZXPDEF0D84m"
      },
      "source": [
        "### Exercise (10 min): \n",
        "* Print a square of stars of width 6 and height 4\n",
        "(Use at least one for loop)\n"
      ]
    },
    {
      "cell_type": "code",
      "execution_count": null,
      "metadata": {
        "colab": {
          "base_uri": "https://localhost:8080/"
        },
        "id": "gneR5KHREsSs",
        "outputId": "fe514deb-f406-406d-891e-71495c2de42e"
      },
      "outputs": [
        {
          "name": "stdout",
          "output_type": "stream",
          "text": [
            "******\n",
            "******\n",
            "******\n",
            "******\n"
          ]
        }
      ],
      "source": [
        "#wanted result:\n",
        "# ******\n",
        "# ******\n",
        "# ******\n",
        "# ******\n",
        "\n",
        "width = 6\n",
        "height = 4\n",
        "for i in range(height):\n",
        "  print('*'* width)\n",
        "\n",
        "\n"
      ]
    },
    {
      "cell_type": "markdown",
      "metadata": {
        "id": "THsSTl-KDGld"
      },
      "source": [
        "### What is the variable?\n",
        "* Can be use in (and after) the loop \n",
        "* Represent every step\n",
        "\n"
      ]
    },
    {
      "cell_type": "code",
      "execution_count": null,
      "metadata": {
        "colab": {
          "base_uri": "https://localhost:8080/"
        },
        "id": "ukl51JW_DgcV",
        "outputId": "077b0404-403f-421c-acb3-3bbd83a60c0e"
      },
      "outputs": [
        {
          "name": "stdout",
          "output_type": "stream",
          "text": [
            "0 1 2 3 4 5 6 7 8 9 10 11 12 13 14 15 16 17 18 19 "
          ]
        }
      ],
      "source": [
        "for k in range(20):\n",
        "  print(k, end = ' ')"
      ]
    },
    {
      "cell_type": "markdown",
      "metadata": {
        "id": "W0aehaezE_jM"
      },
      "source": [
        "### Exercise (10 min):\n",
        "Print the sum of all number from 0 to 10"
      ]
    },
    {
      "cell_type": "code",
      "execution_count": null,
      "metadata": {
        "colab": {
          "base_uri": "https://localhost:8080/"
        },
        "id": "2ZYKpHmSE_Oo",
        "outputId": "38944e0f-81c1-4d97-91a0-e1807ce0bdbc"
      },
      "outputs": [
        {
          "name": "stdout",
          "output_type": "stream",
          "text": [
            "55\n"
          ]
        }
      ],
      "source": [
        "sum_numb = 0\n",
        "for i in range(11):\n",
        "  sum_numb += i\n",
        "print(sum_numb)"
      ]
    },
    {
      "cell_type": "markdown",
      "metadata": {
        "id": "1kULi_uIDgsm"
      },
      "source": [
        "### The range function\n",
        "* More complete than just one number\n",
        "* end is mandatory, start and step is optional\n",
        "* Start is included, end is excluded (range(1,3) => 1, 2)\n"
      ]
    },
    {
      "cell_type": "code",
      "execution_count": null,
      "metadata": {
        "colab": {
          "base_uri": "https://localhost:8080/"
        },
        "id": "uZQ2Nk8jDpjt",
        "outputId": "6d398726-ea9a-482a-eec9-bdcb640d093f"
      },
      "outputs": [
        {
          "name": "stdout",
          "output_type": "stream",
          "text": [
            "0 1 2 3 4 5 6 7 8 9 \n",
            "0 1 2 3 4 5 6 7 8 9 \n",
            "5 7 9 11 13 \n",
            "-10 -8 -6 \n",
            "100 99 98 97 96 "
          ]
        }
      ],
      "source": [
        "for i in range(0, 10, 1):\n",
        "  print(i, end = ' ')\n",
        "print()\n",
        "for i in range(0, 10):\n",
        "  print(i, end = ' ')\n",
        "print()\n",
        "for i in range(5, 15, 2):\n",
        "  print(i, end = ' ')\n",
        "print()\n",
        "for i in range(-10, -5, 2):\n",
        "  print(i, end = ' ')\n",
        "print()\n",
        "for i in range(100, 95, -1):\n",
        "  print(i, end = ' ')"
      ]
    },
    {
      "cell_type": "markdown",
      "metadata": {
        "id": "ha1TqEZqF0X1"
      },
      "source": [
        "### Some examples\n",
        "* Sum of even numbers\n",
        "* Factorial numbers\n"
      ]
    },
    {
      "cell_type": "code",
      "execution_count": null,
      "metadata": {
        "colab": {
          "base_uri": "https://localhost:8080/"
        },
        "id": "-M2hWtJjGIM8",
        "outputId": "f382df59-8694-435d-e8f9-0e9c4fd26f2d"
      },
      "outputs": [
        {
          "name": "stdout",
          "output_type": "stream",
          "text": [
            "20\n"
          ]
        }
      ],
      "source": [
        "n = 0\n",
        "for i in range(0, 10, 2):\n",
        "  n += i\n",
        "print(n)"
      ]
    },
    {
      "cell_type": "code",
      "execution_count": null,
      "metadata": {
        "colab": {
          "base_uri": "https://localhost:8080/"
        },
        "id": "oweKikrWGIWa",
        "outputId": "75044f26-6632-4f3e-960e-6b9fa9307426"
      },
      "outputs": [
        {
          "name": "stdout",
          "output_type": "stream",
          "text": [
            "3628800\n"
          ]
        }
      ],
      "source": [
        "# factorial 5! = 5*4*3*2*1\n",
        "n = 1\n",
        "for i in range(10, 0, -1):\n",
        "  n *= i\n",
        "print(n)"
      ]
    },
    {
      "cell_type": "markdown",
      "metadata": {
        "id": "MjAaUd0fGIs_"
      },
      "source": [
        "### Exercise (5 min)\n",
        "Print the sum of odd number from 21 until 50"
      ]
    },
    {
      "cell_type": "code",
      "execution_count": null,
      "metadata": {
        "colab": {
          "base_uri": "https://localhost:8080/"
        },
        "id": "HblLuFQdGTlR",
        "outputId": "36e90f3d-81b4-4154-c85c-07a6832845ae"
      },
      "outputs": [
        {
          "name": "stdout",
          "output_type": "stream",
          "text": [
            "525\n"
          ]
        }
      ],
      "source": [
        "sum_ = 0\n",
        "for k in range(21, 51, 2):\n",
        "  sum_ += k\n",
        "print(sum_)"
      ]
    },
    {
      "cell_type": "markdown",
      "metadata": {
        "id": "BcbpvTAuGurI"
      },
      "source": [
        "### The break statement\n",
        "* Keyword: break\n",
        "* Exit the loop\n",
        "* To put in a if statement (otherwise it stops directly the loop)\n"
      ]
    },
    {
      "cell_type": "code",
      "execution_count": null,
      "metadata": {
        "colab": {
          "base_uri": "https://localhost:8080/"
        },
        "id": "v7jxMz7rHgcH",
        "outputId": "1528af5f-c400-4760-e431-149140551fbf"
      },
      "outputs": [
        {
          "name": "stdout",
          "output_type": "stream",
          "text": [
            "0\n",
            "1\n",
            "2\n",
            "3\n",
            "4\n",
            "5\n",
            "6\n"
          ]
        }
      ],
      "source": [
        "for i in range(10):\n",
        "  print(i)\n",
        "  if i > 5:\n",
        "    break"
      ]
    },
    {
      "cell_type": "markdown",
      "metadata": {
        "id": "Gu6ew8GanaTm"
      },
      "source": [
        "Exercise (5 min)\n",
        " * ask user input\n",
        " * print all number from 20 until the minimum between 100 and the user input \n",
        " * if you stop at 100, print: 'It's too long I stopped'\n",
        "\n",
        " input: 1000\n",
        " output: numbers from 20 until 100\n",
        "\n",
        " input: 80\n",
        " output: numbers from 20 until 80\n",
        "\n",
        " #72 students (if more than 72 crosses on attendance => everybody absent)\n"
      ]
    },
    {
      "cell_type": "code",
      "execution_count": null,
      "metadata": {
        "colab": {
          "base_uri": "https://localhost:8080/"
        },
        "id": "NayI31apnZeA",
        "outputId": "e5d5c500-cc41-4356-9a8f-fad87786d9c1"
      },
      "outputs": [
        {
          "name": "stdout",
          "output_type": "stream",
          "text": [
            "Enter a number150\n",
            "20 21 22 23 24 25 26 27 28 29 30 31 32 33 34 35 36 37 38 39 40 41 42 43 44 45 46 47 48 49 50 51 52 53 54 55 56 57 58 59 60 61 62 63 64 65 66 67 68 69 70 71 72 73 74 75 76 77 78 79 80 81 82 83 84 85 86 87 88 89 90 91 92 93 94 95 96 97 98 99 100 It\\s too long I stopped\n"
          ]
        }
      ],
      "source": [
        "a = int(input('Enter a number'))\n",
        "\n",
        "for i in range(20, a + 1):\n",
        "  print(i, end = ' ')\n",
        "  if i >= 100:\n",
        "    print('It\\s too long I stopped')\n",
        "    break"
      ]
    },
    {
      "cell_type": "code",
      "execution_count": null,
      "metadata": {
        "id": "4QN3egx7oX-L"
      },
      "outputs": [],
      "source": []
    },
    {
      "cell_type": "markdown",
      "metadata": {
        "id": "KsbSsrD4Hgxc"
      },
      "source": [
        "### The continue statement\n",
        "* Keyword\n",
        "* Skip the actual iteration and go to next one"
      ]
    },
    {
      "cell_type": "code",
      "execution_count": null,
      "metadata": {
        "colab": {
          "base_uri": "https://localhost:8080/"
        },
        "id": "fgQG2m35Hn0H",
        "outputId": "55fa1283-cac9-4f04-80de-6dea49713fc5"
      },
      "outputs": [
        {
          "name": "stdout",
          "output_type": "stream",
          "text": [
            "0\n",
            "0\n",
            "1\n",
            "1\n",
            "2\n",
            "3\n",
            "3\n",
            "4\n",
            "4\n"
          ]
        }
      ],
      "source": [
        "for i in range(5):\n",
        "  print(i)\n",
        "  if i == 2:\n",
        "    continue\n",
        "  print(i)"
      ]
    },
    {
      "cell_type": "code",
      "execution_count": null,
      "metadata": {
        "colab": {
          "base_uri": "https://localhost:8080/"
        },
        "id": "ZEK4fv_5qZ16",
        "outputId": "e8883db5-3bf5-467f-fd07-96bba8c5a179"
      },
      "outputs": [
        {
          "name": "stdout",
          "output_type": "stream",
          "text": [
            "-2.0\n",
            "-2.5\n",
            "-3.3333333333333335\n",
            "-5.0\n",
            "-10.0\n",
            "10.0\n",
            "5.0\n",
            "3.3333333333333335\n",
            "2.5\n"
          ]
        }
      ],
      "source": [
        "for i in range(-5, 5):\n",
        "  if i == 0:  \n",
        "    continue\n",
        "  print(10 / i)\n"
      ]
    },
    {
      "cell_type": "code",
      "execution_count": null,
      "metadata": {
        "id": "HkqjLskZn9CM"
      },
      "outputs": [],
      "source": []
    },
    {
      "cell_type": "markdown",
      "metadata": {
        "id": "2JRQLPgDHoM2"
      },
      "source": [
        "### For loop and strings\n",
        "Variable will be each letter\n"
      ]
    },
    {
      "cell_type": "code",
      "execution_count": null,
      "metadata": {
        "colab": {
          "base_uri": "https://localhost:8080/"
        },
        "id": "ftxSKV1YHuAo",
        "outputId": "1432b947-140c-4e4b-e8fa-85c36fc47f9c"
      },
      "outputs": [
        {
          "name": "stdout",
          "output_type": "stream",
          "text": [
            "h\n",
            "e\n",
            "l\n",
            "l\n",
            "o\n",
            ",\n",
            " \n",
            "I\n",
            "'\n",
            "m\n",
            " \n",
            "o\n",
            "k\n",
            " \n",
            "!\n"
          ]
        }
      ],
      "source": [
        "for i in 'hello, I\\'m ok !':\n",
        "  print(i)"
      ]
    },
    {
      "cell_type": "markdown",
      "metadata": {
        "id": "CJgwSNVeHuM2"
      },
      "source": [
        "### Exercise (10 min):\n",
        "* Repeat every letter of a user input\n",
        "* Repeat only the letters\n",
        "* Skip the letter 'o'\n",
        "\n",
        "example: input: \"hello, you\", output: \"hheelllloo,,  yyoouu\"\n",
        "\n",
        "example: input: \"hello, you\", output: \"hheelllloo, yyoouu\"\n",
        "\n",
        "example: input: \"hello, you\", output: \"hheellll, yyuu\""
      ]
    },
    {
      "cell_type": "code",
      "execution_count": null,
      "metadata": {
        "colab": {
          "base_uri": "https://localhost:8080/"
        },
        "id": "nAkVnYPzIBoB",
        "outputId": "3e5edcc7-1ce9-4e06-def1-7eebb1421b09"
      },
      "outputs": [
        {
          "name": "stdout",
          "output_type": "stream",
          "text": [
            "Enter a text: Hello, you\n",
            "HHeelllloo,,  yyoouu"
          ]
        }
      ],
      "source": [
        "a = input('Enter a text: ')\n",
        "for i in a:\n",
        "  print(i*2, end = '')"
      ]
    },
    {
      "cell_type": "code",
      "execution_count": null,
      "metadata": {
        "colab": {
          "base_uri": "https://localhost:8080/"
        },
        "id": "dciFtLJ9s_uV",
        "outputId": "42facdfa-b2b9-412b-8f58-5021074a121c"
      },
      "outputs": [
        {
          "name": "stdout",
          "output_type": "stream",
          "text": [
            "Enter a text: Hello you, how are you?\n",
            "HHeellll yyuu, hhww aarree yyuu??"
          ]
        }
      ],
      "source": [
        "a = input('Enter a text: ')\n",
        "for i in a:\n",
        "  if i == 'o': continue\n",
        "  if i == ',' or i == ' ':\n",
        "    print(i, end = '')\n",
        "  else:\n",
        "    print(i*2, end = '')"
      ]
    }
  ],
  "metadata": {
    "colab": {
      "provenance": []
    },
    "kernelspec": {
      "display_name": "Python 3",
      "language": "python",
      "name": "python3"
    },
    "language_info": {
      "name": "python",
      "version": "3.8.10 (default, Nov 14 2022, 12:59:47) \n[GCC 9.4.0]"
    },
    "vscode": {
      "interpreter": {
        "hash": "916dbcbb3f70747c44a77c7bcd40155683ae19c65e1c03b4aa3499c5328201f1"
      }
    }
  },
  "nbformat": 4,
  "nbformat_minor": 0
}

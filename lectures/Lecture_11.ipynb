{
  "cells": [
    {
      "cell_type": "markdown",
      "metadata": {
        "id": "ryr7rZLJE3PD"
      },
      "source": [
        "# Correction practice 10"
      ]
    },
    {
      "cell_type": "markdown",
      "metadata": {
        "id": "IwIevdbMFW2O"
      },
      "source": [
        "## Your first file\n",
        "* Ask user input and write this user input inside a file."
      ]
    },
    {
      "cell_type": "code",
      "execution_count": null,
      "metadata": {
        "colab": {
          "base_uri": "https://localhost:8080/",
          "height": 221
        },
        "id": "riQs1G5jE64m",
        "outputId": "17c68dae-de49-4ad5-a9eb-94bd41556e3c"
      },
      "outputs": [
        {
          "name": "stdout",
          "output_type": "stream",
          "text": [
            "Enter your age: 20\n"
          ]
        },
        {
          "ename": "TypeError",
          "evalue": "ignored",
          "output_type": "error",
          "traceback": [
            "\u001b[0;31m---------------------------------------------------------------------------\u001b[0m",
            "\u001b[0;31mTypeError\u001b[0m                                 Traceback (most recent call last)",
            "\u001b[0;32m<ipython-input-2-f63b5c4be220>\u001b[0m in \u001b[0;36m<cell line: 2>\u001b[0;34m()\u001b[0m\n\u001b[1;32m      1\u001b[0m \u001b[0muser_input\u001b[0m \u001b[0;34m=\u001b[0m \u001b[0mint\u001b[0m\u001b[0;34m(\u001b[0m\u001b[0minput\u001b[0m\u001b[0;34m(\u001b[0m\u001b[0;34m'Enter your age: '\u001b[0m\u001b[0;34m)\u001b[0m\u001b[0;34m)\u001b[0m\u001b[0;34m\u001b[0m\u001b[0;34m\u001b[0m\u001b[0m\n\u001b[1;32m      2\u001b[0m \u001b[0;32mwith\u001b[0m \u001b[0mopen\u001b[0m\u001b[0;34m(\u001b[0m\u001b[0;34m'Ex1.txt'\u001b[0m\u001b[0;34m,\u001b[0m \u001b[0;34m'w'\u001b[0m\u001b[0;34m)\u001b[0m \u001b[0;32mas\u001b[0m \u001b[0mf\u001b[0m\u001b[0;34m:\u001b[0m\u001b[0;34m\u001b[0m\u001b[0;34m\u001b[0m\u001b[0m\n\u001b[0;32m----> 3\u001b[0;31m   \u001b[0mf\u001b[0m\u001b[0;34m.\u001b[0m\u001b[0mwrite\u001b[0m\u001b[0;34m(\u001b[0m\u001b[0muser_input\u001b[0m\u001b[0;34m)\u001b[0m\u001b[0;34m\u001b[0m\u001b[0;34m\u001b[0m\u001b[0m\n\u001b[0m",
            "\u001b[0;31mTypeError\u001b[0m: write() argument must be str, not int"
          ]
        }
      ],
      "source": [
        "user_input = input('Enter your age: ')\n",
        "with open('Ex1.txt', 'w') as f:\n",
        "  f.write(user_input)"
      ]
    },
    {
      "cell_type": "markdown",
      "metadata": {
        "id": "k5smz50gFssg"
      },
      "source": [
        "## Read specific lines\n",
        "* Create a .txt file with 10 lines of any text (write anything but do 10 different lines). You can do it with Python or with the NotePad. Your python code ask the user which line he wants to read and prints the required line."
      ]
    },
    {
      "cell_type": "code",
      "execution_count": null,
      "metadata": {
        "colab": {
          "base_uri": "https://localhost:8080/"
        },
        "id": "N6EFdVNbF3qZ",
        "outputId": "964a75bf-9ca0-4a78-eeb6-a9ac0090c6ad"
      },
      "outputs": [
        {
          "name": "stdout",
          "output_type": "stream",
          "text": [
            "Which line? 1\n",
            "This is line 0\n",
            "\n"
          ]
        }
      ],
      "source": [
        "\n",
        "with open('Ex2.txt', 'w') as f:\n",
        "  for i in range(10):\n",
        "    f.write('This is line ' + str(i) + '\\n')\n",
        "\n",
        "line_number = int(input('Which line? '))\n",
        "with open('Ex2.txt', 'r') as f:\n",
        "  lines = f.readlines()\n",
        "  print(lines[line_number -1])"
      ]
    },
    {
      "cell_type": "markdown",
      "metadata": {
        "id": "ZmW6IYQyF4LE"
      },
      "source": [
        "## Save character information in a game.\n",
        "Ask the user 4 information about his character:\n",
        "* His name\n",
        "* His age\n",
        "* His superpower\n",
        "* His weakness\n",
        "\n",
        "Save this information in a file (each information on a different line)."
      ]
    },
    {
      "cell_type": "code",
      "execution_count": null,
      "metadata": {
        "id": "0WTeXgy3F-03"
      },
      "outputs": [],
      "source": [
        "name = input('Enter name: ')\n",
        "age = input('Enter age: ')\n",
        "with open('Ex3_4.txt', 'w') as f:\n",
        "  f.write(name + '\\n')\n",
        "  f.write(age + '\\n')"
      ]
    },
    {
      "cell_type": "markdown",
      "metadata": {
        "id": "2imLQ2tZdt_r"
      },
      "source": [
        "## Display your character information\n",
        "Do this exercise with the file from the previous exercise. Ask the user which information from the character is want you to display: name, age, superpower or weakness and display it."
      ]
    },
    {
      "cell_type": "code",
      "execution_count": null,
      "metadata": {
        "colab": {
          "base_uri": "https://localhost:8080/"
        },
        "id": "JAN-bGHedt_t",
        "outputId": "8278969d-8c4e-482f-9d13-cea816fac222"
      },
      "outputs": [
        {
          "name": "stdout",
          "output_type": "stream",
          "text": [
            "What do you want (name/age):name\n",
            "Superman\n",
            "\n"
          ]
        }
      ],
      "source": [
        "with open('Ex3_4.txt', 'r') as f:\n",
        "  lines = f.readlines()\n",
        "  \n",
        "info = input('What do you want (name/age):')\n",
        "if info == 'name':\n",
        "  print(lines[0])\n",
        "elif info == 'age':\n",
        "  print(lines[1])"
      ]
    },
    {
      "cell_type": "markdown",
      "metadata": {
        "id": "QD_ygnqPF16D"
      },
      "source": [
        "# Correction of assignment 4"
      ]
    },
    {
      "cell_type": "code",
      "execution_count": null,
      "metadata": {
        "colab": {
          "base_uri": "https://localhost:8080/"
        },
        "id": "QCs2JZFXF4yO",
        "outputId": "7f9722c5-08d8-4601-b1d2-0772b54cc96d"
      },
      "outputs": [
        {
          "name": "stdout",
          "output_type": "stream",
          "text": [
            "Here is the list: \n",
            "What do you want to add: wash\n",
            "Here is the list: \n",
            "\t- wash\n",
            "What do you want to add: cook\n",
            "Here is the list: \n",
            "\t- wash\n",
            "\t- cook\n",
            "What do you want to add: nothing\n",
            "Here is the final list: \n",
            "\t- wash\n",
            "\t- cook\n",
            "Goodbye\n"
          ]
        }
      ],
      "source": [
        "to_do_list = []\n",
        "print('Here is the list: ')\n",
        "for i in to_do_list:\n",
        "  print('\\t-', i)\n",
        "\n",
        "thing_to_add = input('What do you want to add: ')\n",
        "while thing_to_add != 'nothing' or thing_to_add != 'Nothing':\n",
        "  to_do_list.append(thing_to_add)\n",
        "  print('Here is the list: ')\n",
        "  for i in to_do_list:\n",
        "    print('\\t-', i)\n",
        "  thing_to_add = input('What do you want to add: ')\n",
        "\n",
        "print('Here is the final list: ')\n",
        "for i in to_do_list:\n",
        "  print('\\t-', i)\n",
        "print('Goodbye')\n"
      ]
    },
    {
      "cell_type": "markdown",
      "metadata": {
        "id": "cqU1VW3IE8Ef"
      },
      "source": [
        "# Presentation assignment 6\n"
      ]
    },
    {
      "cell_type": "code",
      "execution_count": null,
      "metadata": {
        "id": "LSkHE3t-8EY6"
      },
      "outputs": [],
      "source": [
        "# -1 point if you use f = open(.......)\n",
        "# You have to use with open(.....) as f:"
      ]
    },
    {
      "cell_type": "markdown",
      "metadata": {
        "id": "x3QLlRAnEy_i"
      },
      "source": [
        "\n",
        "# Lecture 11: Dictionaries\n"
      ]
    },
    {
      "cell_type": "markdown",
      "metadata": {
        "id": "Mmz_E72YCX6K"
      },
      "source": [
        "## Make your first dictionary in Python\n",
        "\n",
        "* Always a pair: key: item\n",
        "* Separated by coma and use { }\n"
      ]
    },
    {
      "cell_type": "code",
      "execution_count": null,
      "metadata": {
        "colab": {
          "base_uri": "https://localhost:8080/"
        },
        "id": "7mah4PYxpm6A",
        "outputId": "a666a335-9dfb-43ad-9ddb-f3d013ff0d2d"
      },
      "outputs": [
        {
          "name": "stdout",
          "output_type": "stream",
          "text": [
            "{'Name': 'Pitt', 'Surname': 'Brad'} {'Surname': 'Brad', 'Name': 'Pitt'} True\n"
          ]
        }
      ],
      "source": [
        "d = {'Name' : 'Pitt', 'Surname' : 'Brad'}\n",
        "c = { 'Surname' : 'Brad', 'Name' : 'Pitt'}\n",
        "print(d, c, d == c )"
      ]
    },
    {
      "cell_type": "markdown",
      "metadata": {
        "id": "UyzuMxJmCI7F"
      },
      "source": [
        "## Use your first dictionary in Python\n",
        "* Get information from the dictionary:\n",
        "  * my_dict[‘City’]\n"
      ]
    },
    {
      "cell_type": "code",
      "execution_count": null,
      "metadata": {
        "colab": {
          "base_uri": "https://localhost:8080/"
        },
        "id": "ste8ZJ7nCSjV",
        "outputId": "41f4c686-7bc5-473b-b0ea-29c9968e0324"
      },
      "outputs": [
        {
          "name": "stdout",
          "output_type": "stream",
          "text": [
            "Brad\n"
          ]
        }
      ],
      "source": [
        "d = {'Name' : 'Pitt', 'Surname' : 'Brad'}\n",
        "print(d['Surname'])"
      ]
    },
    {
      "cell_type": "markdown",
      "metadata": {
        "id": "Yfac6eWlF6ty"
      },
      "source": [
        "## Exercise (5 min)\n",
        "Create a dictionary with information about you: age, name, surname, city, ...\n",
        "Use this dictionary to print these information in the console.\n",
        "\n",
        "**Example:** I'm Gaetan Chardon, I'm ....."
      ]
    },
    {
      "cell_type": "code",
      "execution_count": null,
      "metadata": {
        "colab": {
          "base_uri": "https://localhost:8080/"
        },
        "id": "MN7cBMQGGNIS",
        "outputId": "5defafae-0c93-459c-b6fd-9c6223523415"
      },
      "outputs": [
        {
          "name": "stdout",
          "output_type": "stream",
          "text": [
            "I'm Brad Pitt I'm  55 years old and I come from Los Angeles\n"
          ]
        }
      ],
      "source": [
        "d = {'Name' : 'Pitt', 'Surname' : 'Brad', 'Age' : 55, 'City' : 'Los Angeles'}\n",
        "print('I\\'m', d['Surname'], d['Name'], 'I\\'m ', d['Age'], 'years old and I come from', d['City'])"
      ]
    },
    {
      "cell_type": "markdown",
      "metadata": {
        "id": "J_ylAEPqCS0y"
      },
      "source": [
        "## Dictionary in Python: some rules\n",
        "\n",
        "* Keys can be text or int, item can be anything (like in list)\n",
        "* Key must be unique in the dictionary\n",
        "* Allows duplicates only for items (not for keys)\n",
        "* It’s mutable (you can change the value inside after its creation)\n"
      ]
    },
    {
      "cell_type": "code",
      "execution_count": null,
      "metadata": {
        "colab": {
          "base_uri": "https://localhost:8080/"
        },
        "id": "H4DA4EkCCfB1",
        "outputId": "513ce7c4-f78d-4cb7-b011-17f25eb73d09"
      },
      "outputs": [
        {
          "name": "stdout",
          "output_type": "stream",
          "text": [
            "6\n",
            "Gaetan\n"
          ]
        }
      ],
      "source": [
        "d = {'Name' : 'Gaetan', 5 : 6}\n",
        "print(d[5])\n",
        "d = {0 : 'Gaetan', 1 : 'Hello', 2 : 'Whatever'}\n",
        "print(d[0])"
      ]
    },
    {
      "cell_type": "code",
      "execution_count": null,
      "metadata": {
        "colab": {
          "base_uri": "https://localhost:8080/"
        },
        "id": "wvhOU7OK3fxy",
        "outputId": "c8fb18a1-4688-48d2-e7d1-d40f6c01b2e2"
      },
      "outputs": [
        {
          "name": "stdout",
          "output_type": "stream",
          "text": [
            "{'Name': 'Me'}\n"
          ]
        }
      ],
      "source": [
        "d =  {'Name' : 'Gaetan', 'Name2' : 'Me'}\n",
        "print(d)"
      ]
    },
    {
      "cell_type": "code",
      "execution_count": null,
      "metadata": {
        "id": "lwwY7rg43wix"
      },
      "outputs": [],
      "source": [
        "d =  {'Name' : 'Gaetan', 'Name2' : 'Gaetan'}\n",
        "print(d)"
      ]
    },
    {
      "cell_type": "code",
      "execution_count": null,
      "metadata": {
        "colab": {
          "base_uri": "https://localhost:8080/"
        },
        "id": "L7bInUoV38KR",
        "outputId": "b519114a-e415-49dd-a8d7-f22324bfa678"
      },
      "outputs": [
        {
          "name": "stdout",
          "output_type": "stream",
          "text": [
            "{'Name': 'Me'}\n"
          ]
        }
      ],
      "source": [
        "d =  {'Name' : 'Gaetan'}\n",
        "d['Name'] = 'Me'\n",
        "print(d)"
      ]
    },
    {
      "cell_type": "markdown",
      "metadata": {
        "id": "CjJumIisCfZj"
      },
      "source": [
        "## Some other functions\n",
        "\n",
        "* The dict() function can also create a dictionary\n",
        "* The get() function to access to a item"
      ]
    },
    {
      "cell_type": "code",
      "execution_count": null,
      "metadata": {
        "colab": {
          "base_uri": "https://localhost:8080/"
        },
        "id": "nI_WE3GKCvaQ",
        "outputId": "f14a47f0-40bf-4aa9-e3f4-9fa2306aba49"
      },
      "outputs": [
        {
          "name": "stdout",
          "output_type": "stream",
          "text": [
            "{'Age': 18, 'Name': 'Me'}\n",
            "{'Age': 18, 'Name': 'Me'}\n"
          ]
        }
      ],
      "source": [
        "d = {'Age' : 18, 'Name' : 'Me'}\n",
        "c = dict(Age = 18, Name = 'Me')\n",
        "print(d)\n",
        "print(c)\n"
      ]
    },
    {
      "cell_type": "code",
      "execution_count": null,
      "metadata": {
        "colab": {
          "base_uri": "https://localhost:8080/"
        },
        "id": "AZPkkzAZ8jfN",
        "outputId": "e48383d4-354b-4033-a739-f6a17d1da1f0"
      },
      "outputs": [
        {
          "name": "stdout",
          "output_type": "stream",
          "text": [
            "{}\n",
            "{}\n"
          ]
        }
      ],
      "source": [
        "d = {}\n",
        "c = dict()\n",
        "print(d)\n",
        "print(c)"
      ]
    },
    {
      "cell_type": "code",
      "execution_count": null,
      "metadata": {
        "colab": {
          "base_uri": "https://localhost:8080/"
        },
        "id": "CYhpLYP88qPn",
        "outputId": "3b367df5-9f0b-4dae-9206-e4756a046cac"
      },
      "outputs": [
        {
          "name": "stdout",
          "output_type": "stream",
          "text": [
            "18\n",
            "18\n"
          ]
        }
      ],
      "source": [
        "d = {'Age' : 18, 'Name' : 'Me'}\n",
        "print(d['Age'])\n",
        "print(d.get('Age'))"
      ]
    },
    {
      "cell_type": "markdown",
      "metadata": {
        "id": "lsZtauhOCvpX"
      },
      "source": [
        "## Some functions\n",
        "* The keys() methods to get all the keys of your dictionary\n",
        "* Add a new item in an existing dictionary (update value if existing, create it if not existing)"
      ]
    },
    {
      "cell_type": "code",
      "execution_count": null,
      "metadata": {
        "colab": {
          "base_uri": "https://localhost:8080/"
        },
        "id": "3SqApW_oC3a9",
        "outputId": "5445aab4-e7fa-4ba3-9a63-548015251bbe"
      },
      "outputs": [
        {
          "name": "stdout",
          "output_type": "stream",
          "text": [
            "dict_keys(['Name', 'Surname', 'Age', 'City'])\n",
            "Yes it's inside\n"
          ]
        }
      ],
      "source": [
        "d = {'Name' : 'Pitt', 'Surname' : 'Brad', 'Age' : 55, 'City' : 'Los Angeles'}\n",
        "print(d.keys())\n",
        "if 'City' in d.keys():\n",
        "  print('Yes it\\'s inside')"
      ]
    },
    {
      "cell_type": "code",
      "execution_count": null,
      "metadata": {
        "colab": {
          "base_uri": "https://localhost:8080/"
        },
        "id": "U0iGYL8b9ROF",
        "outputId": "a4975d31-4c91-4915-d704-17dc160899e9"
      },
      "outputs": [
        {
          "name": "stdout",
          "output_type": "stream",
          "text": [
            "{'Name': 'Pitt', 'Surname': 'Brad', 'Age': 65, 'City': 'Los Angeles', 'Height': 185}\n"
          ]
        }
      ],
      "source": [
        "d = {'Name' : 'Pitt', 'Surname' : 'Brad', 'Age' : 55, 'City' : 'Los Angeles'}\n",
        "d['Height'] = 185\n",
        "d['Age'] = 65\n",
        "print(d)"
      ]
    },
    {
      "cell_type": "markdown",
      "metadata": {
        "id": "Xla5AwOxC3qO"
      },
      "source": [
        "## Deleting values in a dictionary\n",
        "\n",
        "* pop() method (like in list): delete the pair (key + value) and return the value\n",
        "* Del (like in list)\n",
        "* Always based on the keys\n"
      ]
    },
    {
      "cell_type": "code",
      "execution_count": null,
      "metadata": {
        "colab": {
          "base_uri": "https://localhost:8080/"
        },
        "id": "kCvr116TC-np",
        "outputId": "434701e6-15c1-4226-abb6-c5644c62b4dc"
      },
      "outputs": [
        {
          "name": "stdout",
          "output_type": "stream",
          "text": [
            "{'Name': 'Pitt', 'Surname': 'Brad', 'City': 'Los Angeles'}\n",
            "{'Name': 'Pitt', 'Surname': 'Brad'}\n",
            "Los Angeles\n"
          ]
        }
      ],
      "source": [
        "d = {'Name' : 'Pitt', 'Surname' : 'Brad', 'Age' : 55, 'City' : 'Los Angeles'}\n",
        "del d['Age']\n",
        "print(d)\n",
        "removed_item = d.pop('City')\n",
        "print(d)\n",
        "print(removed_item)"
      ]
    },
    {
      "cell_type": "markdown",
      "metadata": {
        "id": "_HN4KesWDByg"
      },
      "source": [
        "## Loop on dictionary\n",
        "* Loop on the keys\n"
      ]
    },
    {
      "cell_type": "code",
      "execution_count": null,
      "metadata": {
        "colab": {
          "base_uri": "https://localhost:8080/"
        },
        "id": "mnOawTsYDJvg",
        "outputId": "5f1194c7-3d82-40e5-f541-141aec065ca8"
      },
      "outputs": [
        {
          "name": "stdout",
          "output_type": "stream",
          "text": [
            "Name : Pitt\n",
            "Surname : Brad\n",
            "Age : 55\n",
            "City : Los Angeles\n",
            "Name : Pitt\n",
            "Surname : Brad\n",
            "Age : 55\n",
            "City : Los Angeles\n"
          ]
        }
      ],
      "source": [
        "d = {'Name' : 'Pitt', 'Surname' : 'Brad', 'Age' : 55, 'City' : 'Los Angeles'}\n",
        "for i in d:\n",
        "  print(i, ':', d[i])\n",
        "\n",
        "for i in d.keys():\n",
        "  print(i, ':', d[i])\n",
        "   "
      ]
    },
    {
      "cell_type": "markdown",
      "metadata": {
        "id": "YSMxWYwLGSg-"
      },
      "source": [
        "## Exercise final (15 min)\n",
        "\n",
        "Make a python code for a character creation. The code ask which information you want to add and what it's value and add it to a dictionary. The word stop finish the code.\n",
        "\n",
        "**Example:** \n",
        "Which information: age\n",
        "\n",
        "Which value: 18\n",
        "\n",
        "Ok, here is your information:\n",
        "- age => 18\n",
        "\n",
        "Which information ...."
      ]
    },
    {
      "cell_type": "code",
      "execution_count": null,
      "metadata": {
        "colab": {
          "base_uri": "https://localhost:8080/"
        },
        "id": "L0aK0wIlGwz_",
        "outputId": "1112a8b9-ebe1-41e1-a056-a04b2222dac3"
      },
      "outputs": [
        {
          "name": "stdout",
          "output_type": "stream",
          "text": [
            "Which information: Age\n",
            "Which value: 18\n",
            "Here is your information: \n",
            "Age => 18\n",
            "Which information: NAme\n",
            "Which value: Superman\n",
            "Here is your information: \n",
            "Age => 18\n",
            "NAme => Superman\n",
            "Which information: City\n",
            "Which value: Whatever\n",
            "Here is your information: \n",
            "Age => 18\n",
            "NAme => Superman\n",
            "City => Whatever\n",
            "Which information: stop\n"
          ]
        }
      ],
      "source": [
        "d = {}\n",
        "user_input = ''\n",
        "while True:\n",
        "  #Ask information to user\n",
        "  info = input('Which information: ')\n",
        "  #If info is not 'stop', ask value\n",
        "  if info != 'stop':\n",
        "    value = input('Which value: ')\n",
        "    #Add it to dicitonary\n",
        "    d[info]  = value\n",
        "    #print dictionary\n",
        "    print('Here is your information: ')\n",
        "    for i in d:\n",
        "      print(i, '=>', d[i])\n",
        "  #if info is 'stop' => break\n",
        "  else:\n",
        "    break"
      ]
    },
    {
      "cell_type": "markdown",
      "metadata": {
        "id": "qhARfUHGHB-6"
      },
      "source": [
        "# Part 2: Formatting strings"
      ]
    },
    {
      "cell_type": "markdown",
      "metadata": {
        "id": "HnXgCTHtKO1h"
      },
      "source": [
        "## Formatting strings: first solution\n",
        "\n",
        "* Use the format() methods"
      ]
    },
    {
      "cell_type": "code",
      "execution_count": null,
      "metadata": {
        "colab": {
          "base_uri": "https://localhost:8080/"
        },
        "id": "5DattSQAKUYA",
        "outputId": "faeaeeda-4010-49d8-db7b-3337a6652e3d"
      },
      "outputs": [
        {
          "name": "stdout",
          "output_type": "stream",
          "text": [
            "2/3 =  0.6666666666666666\n"
          ]
        }
      ],
      "source": [
        "print('2/3 = ', 2/3)"
      ]
    },
    {
      "cell_type": "code",
      "execution_count": null,
      "metadata": {
        "colab": {
          "base_uri": "https://localhost:8080/"
        },
        "id": "twCfZGIuB0l7",
        "outputId": "c3ffc052-ec5a-4760-b807-449a63ca4937"
      },
      "outputs": [
        {
          "name": "stdout",
          "output_type": "stream",
          "text": [
            "5 x 6 = 30\n",
            "5 x 6 = 30\n"
          ]
        }
      ],
      "source": [
        "n1 = 5\n",
        "n2 = 6\n",
        "result = n1 * n2\n",
        "print('{} x {} = {}'.format(n1, n2, result))\n",
        "print(n1, 'x', n2, '=', result)"
      ]
    },
    {
      "cell_type": "markdown",
      "metadata": {
        "id": "YXnQ1BiSLU7H"
      },
      "source": [
        "## Some tricks\n",
        "\n",
        "* Use names:\n",
        "  * \"My name is {fname}, I'm {age}\".format(age = 36, fname = \"John\" )\n",
        "\n",
        "* Specify the occupied space:\n",
        "  * \"My name is {:10}, I’m {:2}\".format(“John”, 36)\n",
        "  * Name always occupy 8 spaces and age always two\n"
      ]
    },
    {
      "cell_type": "code",
      "execution_count": null,
      "metadata": {
        "colab": {
          "base_uri": "https://localhost:8080/"
        },
        "id": "oD5cunQvLd_l",
        "outputId": "f9c9cbd5-edc4-49d4-ab9f-1b9dd90a6f47"
      },
      "outputs": [
        {
          "name": "stdout",
          "output_type": "stream",
          "text": [
            "5 x 6 = 30\n"
          ]
        }
      ],
      "source": [
        "n1 = 5\n",
        "n2 = 6\n",
        "result = n1 * n2\n",
        "print('{first} x {second} = {third}'.format(third = result, second = n2, first = n1))"
      ]
    },
    {
      "cell_type": "code",
      "execution_count": null,
      "metadata": {
        "colab": {
          "base_uri": "https://localhost:8080/"
        },
        "id": "EaEDKcsGCf0Q",
        "outputId": "bc63f350-28d3-4e2f-97bd-dae3dc7d5618"
      },
      "outputs": [
        {
          "name": "stdout",
          "output_type": "stream",
          "text": [
            "  0 +   0 =   0\n",
            "  1 +   1 =   2\n",
            "  2 +   2 =   4\n",
            "  3 +   3 =   6\n",
            "  4 +   4 =   8\n",
            "  5 +   5 =  10\n",
            "  6 +   6 =  12\n",
            "  7 +   7 =  14\n",
            "  8 +   8 =  16\n",
            "  9 +   9 =  18\n",
            " 10 +  10 =  20\n"
          ]
        }
      ],
      "source": [
        "for i in range(11):\n",
        "  print('{:3} + {:3} = {:3}'.format(i,i,i+i))"
      ]
    },
    {
      "cell_type": "markdown",
      "metadata": {
        "id": "MM0VpfIoNf0Z"
      },
      "source": [
        "## Some tricks\n",
        "\n",
        "* Specify the accuracy of float numbers\n",
        "  * “{} / {} = {:.4f}”.format(2, 3, 2/3)\n",
        "  * Here the last number will have maximum 4 digits after the coma (0,6667)\n",
        "\n",
        "* All together is possible:\n",
        "  * \"{n1:4.2f} or {n2:8.4f}”.format(n2 = 5,64164, n1 = 9, 34647)\n",
        "  * n1 will occupy 4 spaces (coma included) and 2 digits after coma\n",
        "  * n2 will occupy 8 spaces (coma included) and 4 digits after coma\n"
      ]
    },
    {
      "cell_type": "code",
      "execution_count": null,
      "metadata": {
        "colab": {
          "base_uri": "https://localhost:8080/"
        },
        "id": "5ibXWV3dNqw7",
        "outputId": "84e6ddf1-b4c4-4a23-9763-ded3718e394e"
      },
      "outputs": [
        {
          "name": "stdout",
          "output_type": "stream",
          "text": [
            "2 / 3 = 0.667\n"
          ]
        }
      ],
      "source": [
        "print('{} / {} = {:.3f}'.format(2, 3, 2/3))"
      ]
    },
    {
      "cell_type": "code",
      "execution_count": null,
      "metadata": {
        "colab": {
          "base_uri": "https://localhost:8080/"
        },
        "id": "Tm1OPLxhDlR0",
        "outputId": "d4a6c881-2507-4c72-99cb-2174593ee3fb"
      },
      "outputs": [
        {
          "name": "stdout",
          "output_type": "stream",
          "text": [
            "  9.35 or   5.6416\n"
          ]
        }
      ],
      "source": [
        "print(\"{n1:6.2f} or {n2:8.4f}\".format(n2 = 5.64164, n1 = 9.34647))"
      ]
    },
    {
      "cell_type": "markdown",
      "metadata": {
        "id": "LraaFPAoOB_x"
      },
      "source": [
        "## Another way\n",
        "\n",
        "* Use f before the string and the variable name\n"
      ]
    },
    {
      "cell_type": "code",
      "execution_count": null,
      "metadata": {
        "colab": {
          "base_uri": "https://localhost:8080/"
        },
        "id": "5p_r1TMnOGI9",
        "outputId": "c7562251-e3a3-4214-b33f-a3b55a48b84d"
      },
      "outputs": [
        {
          "name": "stdout",
          "output_type": "stream",
          "text": [
            "2 x 3 = 6\n"
          ]
        }
      ],
      "source": [
        "n1 = 2\n",
        "n2 = 3\n",
        "result = 2 * 3\n",
        "print(f'{n1} x {n2} = {result}')"
      ]
    }
  ],
  "metadata": {
    "colab": {
      "provenance": []
    },
    "kernelspec": {
      "display_name": "Python 3",
      "language": "python",
      "name": "python3"
    },
    "language_info": {
      "name": "python",
      "version": "3.8.10 (default, Mar 13 2023, 10:26:41) \n[GCC 9.4.0]"
    },
    "vscode": {
      "interpreter": {
        "hash": "916dbcbb3f70747c44a77c7bcd40155683ae19c65e1c03b4aa3499c5328201f1"
      }
    }
  },
  "nbformat": 4,
  "nbformat_minor": 0
}

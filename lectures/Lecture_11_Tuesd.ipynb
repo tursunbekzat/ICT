{
 "cells": [
  {
   "cell_type": "markdown",
   "metadata": {},
   "source": [
    "# Correction of practice 10"
   ]
  },
  {
   "cell_type": "code",
   "execution_count": 22,
   "metadata": {},
   "outputs": [],
   "source": [
    "import numpy as np\n",
    "import sklearn.linear_model as skmod\n",
    "import matplotlib.pyplot as plt"
   ]
  },
  {
   "cell_type": "code",
   "execution_count": 6,
   "metadata": {
    "scrolled": true
   },
   "outputs": [
    {
     "name": "stdout",
     "output_type": "stream",
     "text": [
      "[[ 36]\n",
      " [100]\n",
      " [  4]\n",
      " [  9]\n",
      " [ 16]\n",
      " [  0]\n",
      " [ 49]\n",
      " [ 64]\n",
      " [ 81]\n",
      " [  1]]\n"
     ]
    }
   ],
   "source": [
    "x1 = [6, 10, 2, 3, 4, 0, 7, 8, 9, 1]\n",
    "y = [130, 21, 43, 76, 105, 3, 167, 162, 91, 15]\n",
    "arr_x1 = np.array(x1).reshape(-1,1)\n",
    "arr_y = np.array(y).reshape(-1,1)\n",
    "arr_x2 = arr_x1**2\n",
    "arr_x3 = arr_x1**3\n",
    "print(arr_x2)"
   ]
  },
  {
   "cell_type": "code",
   "execution_count": 25,
   "metadata": {},
   "outputs": [
    {
     "name": "stdout",
     "output_type": "stream",
     "text": [
      "y ' = 8.71*x + 37.75 and R2 = 0.256\n"
     ]
    }
   ],
   "source": [
    "model = skmod.LinearRegression().fit(arr_x1, arr_y)\n",
    "print(\"y ' = {:.2f}*x + {:.2f} and R2 = {:.3f}\".format(model.coef_[0][0], \n",
    "                                       model.intercept_[0],\n",
    "                                            model.score(arr_x1, arr_y)))"
   ]
  },
  {
   "cell_type": "code",
   "execution_count": 26,
   "metadata": {},
   "outputs": [
    {
     "name": "stdout",
     "output_type": "stream",
     "text": [
      "y ' = 56.77*x + -4.81*x**2+ -29.53 and R2 = 0.787\n"
     ]
    }
   ],
   "source": [
    "#coef 2:\n",
    "arr_x = np.hstack([arr_x1, arr_x2])\n",
    "model2 = skmod.LinearRegression().fit(arr_x, arr_y)\n",
    "print(\"y ' = {:.2f}*x + {:.2f}*x**2+ {:.2f} and R2 = {:.3f}\".format(model2.coef_[0][0],\n",
    "                                                                    model2.coef_[0][1],\n",
    "                                                                   model2.intercept_[0],\n",
    "                                                                    model2.score(arr_x, arr_y)))"
   ]
  },
  {
   "cell_type": "code",
   "execution_count": 27,
   "metadata": {},
   "outputs": [
    {
     "name": "stdout",
     "output_type": "stream",
     "text": [
      "y ' = 1.47*x + 9.70*x**2+ -0.97*x**3+ 5.27 and R2 = 0.965\n"
     ]
    }
   ],
   "source": [
    "#coef 3:\n",
    "arr_x = np.hstack([arr_x1, arr_x2, arr_x3])\n",
    "model3 = skmod.LinearRegression().fit(arr_x, arr_y)\n",
    "print(\"y ' = {:.2f}*x + {:.2f}*x**2+ {:.2f}*x**3+ {:.2f} and R2 = {:.3f}\".format(model3.coef_[0][0],\n",
    "                                                                    model3.coef_[0][1],\n",
    "                                                                    model3.coef_[0][2],\n",
    "                                                                   model3.intercept_[0],\n",
    "                                                                    model3.score(arr_x, arr_y)))"
   ]
  },
  {
   "cell_type": "code",
   "execution_count": 31,
   "metadata": {},
   "outputs": [
    {
     "data": {
      "text/plain": [
       "[<matplotlib.lines.Line2D at 0x20a3847d610>]"
      ]
     },
     "execution_count": 31,
     "metadata": {},
     "output_type": "execute_result"
    },
    {
     "data": {
      "image/png": "[encoded data removed]",
      "text/plain": [
       "<Figure size 432x288 with 1 Axes>"
      ]
     },
     "metadata": {
      "needs_background": "light"
     },
     "output_type": "display_data"
    }
   ],
   "source": [
    "plt.scatter(arr_x1, arr_y)\n",
    "plt.plot([0,10], model.predict(np.array([[0], [10]])))\n",
    "x_for_plot = np.arange(0,10,0.1).reshape(-1,1)\n",
    "x2_for_plot = x_for_plot**2\n",
    "plt.plot(x_for_plot, model2.predict(np.hstack([x_for_plot, x2_for_plot])))\n",
    "x3_for_plot = x_for_plot**3\n",
    "plt.plot(x_for_plot, model3.predict(np.hstack([x_for_plot, x2_for_plot, x3_for_plot])))"
   ]
  },
  {
   "cell_type": "markdown",
   "metadata": {},
   "source": [
    "# Lecture 11: Machine Learning III"
   ]
  },
  {
   "cell_type": "code",
   "execution_count": 56,
   "metadata": {},
   "outputs": [],
   "source": [
    "#import some package\n",
    "import numpy as np\n",
    "import sklearn.linear_model as skmod\n",
    "import sklearn.preprocessing as skprepro\n",
    "import sklearn.model_selection as sksel\n"
   ]
  },
  {
   "cell_type": "markdown",
   "metadata": {},
   "source": [
    "## The polynomial features object"
   ]
  },
  {
   "cell_type": "code",
   "execution_count": 33,
   "metadata": {},
   "outputs": [],
   "source": [
    "#Create data and reshape it\n",
    "x1 = [6, 10, 2, 3, 4, 0, 7, 8, 9, 1]\n",
    "y = [130, 21, 43, 76, 105, 3, 167, 162, 91, 15]\n",
    "arr_x1 = np.array(x1).reshape(-1,1)\n",
    "arr_y = np.array(y).reshape(-1,1)\n"
   ]
  },
  {
   "cell_type": "code",
   "execution_count": 41,
   "metadata": {},
   "outputs": [],
   "source": [
    "#Create the polynomial feature object from the preprocessing module\n",
    "#PolynomialFeatures() function\n",
    "#choose the degree and don't include bias\n",
    "poly3 = skprepro.PolynomialFeatures(degree = 3, include_bias = False)"
   ]
  },
  {
   "cell_type": "code",
   "execution_count": 42,
   "metadata": {
    "scrolled": true
   },
   "outputs": [
    {
     "name": "stdout",
     "output_type": "stream",
     "text": [
      "[[   6.   36.  216.]\n",
      " [  10.  100. 1000.]\n",
      " [   2.    4.    8.]\n",
      " [   3.    9.   27.]\n",
      " [   4.   16.   64.]\n",
      " [   0.    0.    0.]\n",
      " [   7.   49.  343.]\n",
      " [   8.   64.  512.]\n",
      " [   9.   81.  729.]\n",
      " [   1.    1.    1.]]\n"
     ]
    }
   ],
   "source": [
    "#Transform your data into fetaures of degree two, fit_transform() function\n",
    "print(poly3.fit_transform(arr_x1))"
   ]
  },
  {
   "cell_type": "code",
   "execution_count": 49,
   "metadata": {},
   "outputs": [
    {
     "name": "stdout",
     "output_type": "stream",
     "text": [
      "[[ 4.64288632e+01 -8.12079635e+01  6.74485405e+01 -2.38710248e+01\n",
      "   4.20411268e+00 -3.74085602e-01  1.49834019e-02 -1.72233273e-04]]\n"
     ]
    }
   ],
   "source": [
    "#Your turn (10 minutes)\n",
    "#From the data of practice, make a polynomial \n",
    "#regression of degree 8 in one line\n",
    "#print the coef of the model\n",
    "\n",
    "x1 = [6, 10, 2, 3, 4, 0, 7, 8, 9, 1]\n",
    "y = [130, 21, 43, 76, 105, 3, 167, 162, 91, 15]\n",
    "arr_x1 = np.array(x1).reshape(-1,1)\n",
    "arr_y = np.array(y).reshape(-1,1)\n",
    "#1 line to create the Polynomial feature obejct:\n",
    "poly8 = skprepro.PolynomialFeatures(8, include_bias = False)\n",
    "#1 line to create model and fit:\n",
    "model = skmod.LinearRegression().fit(poly8.fit_transform(arr_x1), arr_y)\n",
    "#1 line to print:\n",
    "print(model.coef_)"
   ]
  },
  {
   "cell_type": "markdown",
   "metadata": {},
   "source": [
    "## Train and test set"
   ]
  },
  {
   "cell_type": "code",
   "execution_count": 71,
   "metadata": {},
   "outputs": [
    {
     "data": {
      "image/png": "[encoded data removed]",
      "text/plain": [
       "<Figure size 432x288 with 1 Axes>"
      ]
     },
     "metadata": {
      "needs_background": "light"
     },
     "output_type": "display_data"
    }
   ],
   "source": [
    "#let's create data, you can check this code at home\n",
    "data_x = np.random.normal(9, 4, 100)\n",
    "data_y = np.random.randint(20,180, size = (len(data_x)))/100*(data_x*data_x*8 + 2*data_x + 5)\n",
    "plt.scatter(data_x, data_y)\n",
    "data_x = data_x.reshape(-1,1)\n",
    "data_y = data_y.reshape(-1,1)\n",
    "# print(data_x)\n",
    "# print(data_y)"
   ]
  },
  {
   "cell_type": "code",
   "execution_count": 72,
   "metadata": {},
   "outputs": [
    {
     "data": {
      "text/plain": [
       "<matplotlib.collections.PathCollection at 0x20a3ab25cd0>"
      ]
     },
     "execution_count": 72,
     "metadata": {},
     "output_type": "execute_result"
    },
    {
     "data": {
      "image/png": "[encoded data removed]",
      "text/plain": [
       "<Figure size 432x288 with 1 Axes>"
      ]
     },
     "metadata": {
      "needs_background": "light"
     },
     "output_type": "display_data"
    }
   ],
   "source": [
    "#Let's keep 20 % of our data aside\n",
    "data_x_train = data_x[:80]\n",
    "data_x_test = data_x[80:]\n",
    "data_y_train = data_y[:80]\n",
    "data_y_test = data_y[80:]\n",
    "plt.scatter(data_x_train, data_y_train)\n",
    "plt.scatter(data_x_test, data_y_test)"
   ]
  },
  {
   "cell_type": "code",
   "execution_count": 118,
   "metadata": {
    "scrolled": false
   },
   "outputs": [
    {
     "data": {
      "text/plain": [
       "<matplotlib.collections.PathCollection at 0x20a3c34b550>"
      ]
     },
     "execution_count": 118,
     "metadata": {},
     "output_type": "execute_result"
    },
    {
     "data": {
      "image/png": "[encoded data removed]",
      "text/plain": [
       "<Figure size 432x288 with 1 Axes>"
      ]
     },
     "metadata": {
      "needs_background": "light"
     },
     "output_type": "display_data"
    }
   ],
   "source": [
    "#choose a test and train set with scikit-learn:\n",
    "#import sklearn.model_selection and use the train_test_split() function\n",
    "#The order is train/test, train/test\n",
    "data_x_train, data_x_test, data_y_train, data_y_test =\\\n",
    "                    sksel.train_test_split(data_x, data_y, train_size = 0.7,\n",
    "                                           shuffle = True)\n",
    "\n",
    "plt.scatter(data_x_train, data_y_train)\n",
    "plt.scatter(data_x_test, data_y_test)"
   ]
  },
  {
   "cell_type": "code",
   "execution_count": 119,
   "metadata": {
    "scrolled": true
   },
   "outputs": [],
   "source": [
    "#Let's use the Polynomial transform of the sklearn.preprocessing module\n",
    "poly2 = skprepro.PolynomialFeatures(2, include_bias = False)"
   ]
  },
  {
   "cell_type": "code",
   "execution_count": 120,
   "metadata": {},
   "outputs": [],
   "source": [
    "#let's make our regression of degree 2\n",
    "model2 = skmod.LinearRegression().fit(poly2.fit_transform(data_x_train), data_y_train)"
   ]
  },
  {
   "cell_type": "code",
   "execution_count": 121,
   "metadata": {},
   "outputs": [
    {
     "data": {
      "text/plain": [
       "[<matplotlib.lines.Line2D at 0x20a3c3c13d0>]"
      ]
     },
     "execution_count": 121,
     "metadata": {},
     "output_type": "execute_result"
    },
    {
     "data": {
      "image/png": "[encoded data removed]",
      "text/plain": [
       "<Figure size 432x288 with 1 Axes>"
      ]
     },
     "metadata": {
      "needs_background": "light"
     },
     "output_type": "display_data"
    }
   ],
   "source": [
    "#Let's plot our result\n",
    "\n",
    "plt.scatter(data_x_train, data_y_train)\n",
    "plt.scatter(data_x_test, data_y_test)\n",
    "plt.plot(np.arange(0,18,0.1), model2.predict(poly2.fit_transform(np.arange(0,18,0.1).reshape(-1,1))))"
   ]
  },
  {
   "cell_type": "code",
   "execution_count": 122,
   "metadata": {},
   "outputs": [],
   "source": [
    "#Let's do for all regression for degree 8\n",
    "poly8 = skprepro.PolynomialFeatures(8, include_bias = False)\n",
    "model8 = skmod.LinearRegression().fit(poly8.fit_transform(data_x_train), data_y_train)\n"
   ]
  },
  {
   "cell_type": "code",
   "execution_count": 123,
   "metadata": {},
   "outputs": [
    {
     "data": {
      "text/plain": [
       "[<matplotlib.lines.Line2D at 0x20a3c438670>]"
      ]
     },
     "execution_count": 123,
     "metadata": {},
     "output_type": "execute_result"
    },
    {
     "data": {
      "image/png": "[encoded data removed]",
      "text/plain": [
       "<Figure size 432x288 with 1 Axes>"
      ]
     },
     "metadata": {
      "needs_background": "light"
     },
     "output_type": "display_data"
    }
   ],
   "source": [
    "#Let's plot all models\n",
    "\n",
    "plt.scatter(data_x_train, data_y_train)\n",
    "plt.scatter(data_x_test, data_y_test)\n",
    "plt.plot(np.arange(0,18,0.1), model2.predict(poly2.fit_transform(np.arange(0,18,0.1).reshape(-1,1))))\n",
    "plt.plot(np.arange(0,18,0.1), model8.predict(poly8.fit_transform(np.arange(0,18,0.1).reshape(-1,1))))"
   ]
  },
  {
   "cell_type": "code",
   "execution_count": 124,
   "metadata": {},
   "outputs": [
    {
     "name": "stdout",
     "output_type": "stream",
     "text": [
      "degree 2\n",
      "0.6137066862027127\n",
      "0.5783182662960771\n",
      "degree 8\n",
      "0.6721057869243501\n",
      "0.6002921477885151\n"
     ]
    }
   ],
   "source": [
    "#Result of our model of the training set: the score function \n",
    "#(1 = perfect fitting, 0 = no fitting at all)\n",
    "print('degree 2')\n",
    "print(model2.score(poly2.fit_transform(data_x_train), data_y_train))\n",
    "print(model2.score(poly2.fit_transform(data_x_test), data_y_test))\n",
    "print('degree 8')\n",
    "print(model8.score(poly8.fit_transform(data_x_train), data_y_train))\n",
    "print(model8.score(poly8.fit_transform(data_x_test), data_y_test))"
   ]
  },
  {
   "cell_type": "code",
   "execution_count": null,
   "metadata": {
    "scrolled": true
   },
   "outputs": [],
   "source": [
    "#Result of our model of the test set: the score function\n"
   ]
  },
  {
   "cell_type": "code",
   "execution_count": null,
   "metadata": {},
   "outputs": [],
   "source": [
    "'''\n",
    "Result of several runs\n",
    "\n",
    "degree 2\n",
    "0.5810801559311727\n",
    "0.6677528189577515\n",
    "degree 8\n",
    "0.6317591600385895\n",
    "0.6777356506001482\n",
    "\n",
    "degree 2\n",
    "0.5673439853386342\n",
    "0.7271983459468221\n",
    "degree 8\n",
    "0.6148809338160421\n",
    "0.7803378758994521\n",
    "\n",
    "degree 2\n",
    "0.6709922126845423\n",
    "-0.0361537820122404\n",
    "degree 8\n",
    "0.7774901932565357\n",
    "-1.1143734950432234\n",
    "\n",
    "'''"
   ]
  },
  {
   "cell_type": "markdown",
   "metadata": {},
   "source": [
    "## Values scaling"
   ]
  },
  {
   "cell_type": "markdown",
   "metadata": {},
   "source": [
    "### The logic behind scaling"
   ]
  },
  {
   "cell_type": "code",
   "execution_count": 125,
   "metadata": {
    "scrolled": true
   },
   "outputs": [
    {
     "name": "stdout",
     "output_type": "stream",
     "text": [
      "[18803 10559 11934 18095 18080 10496 14335 16518 13828 12291 16369 11844\n",
      " 13451 17829 17449 12730 17205 14099 16906 10281]\n",
      "[63  7 63 35  3 16 53 46 61 97 48 71 55  9 46 12 58 63 93 12]\n"
     ]
    }
   ],
   "source": [
    "#Create two features with different size with random (use function np.random.randint())\n",
    "data_x1 = np.random.randint(10000, 20000, size = (20))\n",
    "data_x2 = np.random.randint(0, 100, size = (20))\n",
    "print(data_x1)\n",
    "print(data_x2)"
   ]
  },
  {
   "cell_type": "code",
   "execution_count": 126,
   "metadata": {},
   "outputs": [
    {
     "data": {
      "text/plain": [
       "<matplotlib.collections.PathCollection at 0x20a3c4a8280>"
      ]
     },
     "execution_count": 126,
     "metadata": {},
     "output_type": "execute_result"
    },
    {
     "data": {
      "image/png": "[encoded data removed]",
      "text/plain": [
       "<Figure size 432x288 with 1 Axes>"
      ]
     },
     "metadata": {
      "needs_background": "light"
     },
     "output_type": "display_data"
    }
   ],
   "source": [
    "#Let's try to plot it together\n",
    "plt.scatter(range(0,20), data_x1)\n",
    "plt.scatter(range(0,20), data_x2)"
   ]
  },
  {
   "cell_type": "code",
   "execution_count": 129,
   "metadata": {},
   "outputs": [
    {
     "name": "stdout",
     "output_type": "stream",
     "text": [
      "[1.         0.03262145 0.19396855 0.91692091 0.91516076 0.02522882\n",
      " 0.47570993 0.73187045 0.41621685 0.23586013 0.71438629 0.18340765\n",
      " 0.37197841 0.88570758 0.84111711 0.28737386 0.81248533 0.4480169\n",
      " 0.77739967 0.        ]\n",
      "[0.63829787 0.04255319 0.63829787 0.34042553 0.         0.13829787\n",
      " 0.53191489 0.45744681 0.61702128 1.         0.4787234  0.72340426\n",
      " 0.55319149 0.06382979 0.45744681 0.09574468 0.58510638 0.63829787\n",
      " 0.95744681 0.09574468]\n"
     ]
    }
   ],
   "source": [
    "#We can scale our data with normalization ((x - xmin)/(xmax - xmin))\n",
    "data_x1_norm = (data_x1 - min(data_x1))/(max(data_x1) - min(data_x1))\n",
    "data_x2_norm = (data_x2 - min(data_x2))/(max(data_x2) - min(data_x2))\n",
    "\n",
    "print(data_x1_norm)\n",
    "print(data_x2_norm)"
   ]
  },
  {
   "cell_type": "code",
   "execution_count": 130,
   "metadata": {},
   "outputs": [
    {
     "data": {
      "text/plain": [
       "<matplotlib.collections.PathCollection at 0x20a3c4f1880>"
      ]
     },
     "execution_count": 130,
     "metadata": {},
     "output_type": "execute_result"
    },
    {
     "data": {
      "image/png": "[encoded data removed]",
      "text/plain": [
       "<Figure size 432x288 with 1 Axes>"
      ]
     },
     "metadata": {
      "needs_background": "light"
     },
     "output_type": "display_data"
    }
   ],
   "source": [
    "#Let's plot it again\n",
    "\n",
    "plt.scatter(range(0,20), data_x1_norm)\n",
    "plt.scatter(range(0,20), data_x2_norm)"
   ]
  },
  {
   "cell_type": "code",
   "execution_count": 132,
   "metadata": {},
   "outputs": [
    {
     "name": "stdout",
     "output_type": "stream",
     "text": [
      "[ 1.48054309 -1.4620537  -0.97126397  1.227831    1.22247693 -1.4845408\n",
      " -0.11425585  0.66493978 -0.29522341 -0.8438371   0.61175602 -1.00338839\n",
      " -0.42978903  1.13288549  0.99724905 -0.68714133  0.91015618 -0.19849322\n",
      "  0.80343172 -1.56128247]\n",
      "[ 0.63989965 -1.4136465   0.63989965 -0.38687343 -1.56032836 -1.0836123\n",
      "  0.27319498  0.01650171  0.56655871  1.88669552  0.08984264  0.93326338\n",
      "  0.34653591 -1.34030556  0.01650171 -1.23029416  0.45654731  0.63989965\n",
      "  1.74001365 -1.23029416]\n"
     ]
    }
   ],
   "source": [
    "#We can scale our data with standardization\n",
    "data_x1_stan = (data_x1 - np.mean(data_x1))/np.std(data_x1)\n",
    "data_x2_stan = (data_x2 - np.mean(data_x2))/np.std(data_x2)\n",
    "print(data_x1_stan)\n",
    "print(data_x2_stan)"
   ]
  },
  {
   "cell_type": "code",
   "execution_count": 133,
   "metadata": {},
   "outputs": [
    {
     "data": {
      "text/plain": [
       "<matplotlib.collections.PathCollection at 0x20a3c588310>"
      ]
     },
     "execution_count": 133,
     "metadata": {},
     "output_type": "execute_result"
    },
    {
     "data": {
      "image/png": "[encoded data removed]",
      "text/plain": [
       "<Figure size 432x288 with 1 Axes>"
      ]
     },
     "metadata": {
      "needs_background": "light"
     },
     "output_type": "display_data"
    }
   ],
   "source": [
    "#we can now plot our data\n",
    "\n",
    "plt.scatter(range(0,20), data_x1_stan)\n",
    "plt.scatter(range(0,20), data_x2_stan)"
   ]
  },
  {
   "cell_type": "code",
   "execution_count": 139,
   "metadata": {},
   "outputs": [
    {
     "data": {
      "image/png": "[encoded data removed]",
      "text/plain": [
       "<Figure size 432x288 with 1 Axes>"
      ]
     },
     "metadata": {
      "needs_background": "light"
     },
     "output_type": "display_data"
    },
    {
     "data": {
      "text/plain": [
       "(-1.1, 1.1)"
      ]
     },
     "execution_count": 139,
     "metadata": {},
     "output_type": "execute_result"
    },
    {
     "data": {
      "image/png": "[encoded data removed]",
      "text/plain": [
       "<Figure size 432x288 with 1 Axes>"
      ]
     },
     "metadata": {
      "needs_background": "light"
     },
     "output_type": "display_data"
    }
   ],
   "source": [
    "#The difference between normalisation and standardization when there is outliers\n",
    "#Let's plot it\n",
    "data_x1[0] = -100000\n",
    "\n",
    "data_x1_norm = (data_x1 - min(data_x1))/(max(data_x1) - min(data_x1))\n",
    "data_x2_norm = (data_x2 - min(data_x2))/(max(data_x2) - min(data_x2))\n",
    "plt.scatter(range(0,20), data_x1_norm)\n",
    "plt.scatter(range(0,20), data_x2_norm)\n",
    "plt.show()\n",
    "\n",
    "data_x1_stan = (data_x1 - np.mean(data_x1))/np.std(data_x1)\n",
    "data_x2_stan = (data_x2 - np.mean(data_x2))/np.std(data_x2)\n",
    "\n",
    "plt.scatter(range(0,20), data_x1_stan)\n",
    "plt.scatter(range(0,20), data_x2_stan)\n",
    "plt.ylim(-1.1,1.1)"
   ]
  },
  {
   "cell_type": "markdown",
   "metadata": {},
   "source": [
    "### The scikit-learn object"
   ]
  },
  {
   "cell_type": "code",
   "execution_count": 140,
   "metadata": {},
   "outputs": [],
   "source": [
    "#Create the scaler object StandardScaler() object\n",
    "scaler = skprepro.StandardScaler()\n"
   ]
  },
  {
   "cell_type": "code",
   "execution_count": 141,
   "metadata": {},
   "outputs": [
    {
     "name": "stdout",
     "output_type": "stream",
     "text": [
      "[[19185    21]\n",
      " [12626    81]\n",
      " [11392    93]\n",
      " [16771    25]\n",
      " [13065    50]\n",
      " [10030    76]\n",
      " [12776    78]\n",
      " [15119    33]\n",
      " [11249    64]\n",
      " [17445    51]\n",
      " [19314    20]\n",
      " [15219    91]\n",
      " [13995     9]\n",
      " [12457    50]\n",
      " [17151    99]\n",
      " [18021    92]\n",
      " [10719    68]\n",
      " [14868    44]\n",
      " [18365    52]\n",
      " [16293    52]]\n"
     ]
    }
   ],
   "source": [
    "#prepare our data: 2 columns because 2 features\n",
    "data_x1 = np.random.randint(10000, 20000, size = (20))\n",
    "data_x2 = np.random.randint(0, 100, size = (20))\n",
    "x = np.hstack([data_x1.reshape(-1,1), data_x2.reshape(-1,1)])\n",
    "print(x)"
   ]
  },
  {
   "cell_type": "code",
   "execution_count": 151,
   "metadata": {
    "scrolled": true
   },
   "outputs": [
    {
     "name": "stdout",
     "output_type": "stream",
     "text": [
      "[[ 1.5339615  -1.38228178]\n",
      " [-0.76207991  0.89307918]\n",
      " [-1.19405355  1.34815137]\n",
      " [ 0.68891744 -1.23059105]\n",
      " [-0.60840372 -0.28252399]\n",
      " [-1.67083483  0.70346576]\n",
      " [-0.70957096  0.77931113]\n",
      " [ 0.11061886 -0.92720959]\n",
      " [-1.24411209  0.24839357]\n",
      " [ 0.92485766 -0.2446013 ]\n",
      " [ 1.5791192  -1.42020446]\n",
      " [ 0.14562483  1.272306  ]\n",
      " [-0.28284822 -1.83735397]\n",
      " [-0.82124    -0.28252399]\n",
      " [ 0.82194012  1.57568746]\n",
      " [ 1.12649204  1.31022868]\n",
      " [-1.42964372  0.4000843 ]\n",
      " [ 0.02275388 -0.51006008]\n",
      " [ 1.24691257 -0.20667862]\n",
      " [ 0.52158892 -0.20667862]]\n",
      "[[-5.14692742  1.61361014]]\n"
     ]
    }
   ],
   "source": [
    "#use it on your data with the fit(), transform() or fit_transform()\n",
    "scaler = scaler.fit(x)\n",
    "x_stan = scaler.transform(x)\n",
    "print(x_stan)\n",
    "#predict for 10000, 5\n",
    "x_predict = scaler.transform(np.array([[100, 100]]))\n",
    "print(x_predict)"
   ]
  },
  {
   "cell_type": "code",
   "execution_count": 155,
   "metadata": {},
   "outputs": [
    {
     "name": "stdout",
     "output_type": "stream",
     "text": [
      "[[17659.65578956    60.08694425]]\n"
     ]
    }
   ],
   "source": [
    "#Use inverse_transform method to come back for standardized data to real data\n",
    "print(scaler.inverse_transform(np.array([[1,0.1]])))"
   ]
  },
  {
   "cell_type": "code",
   "execution_count": 161,
   "metadata": {
    "scrolled": true
   },
   "outputs": [
    {
     "name": "stdout",
     "output_type": "stream",
     "text": [
      "[[ 2.200000e+01  1.489022e+06 -9.967000e+01]\n",
      " [ 8.500000e+01  1.073767e+06 -9.937000e+01]\n",
      " [ 9.600000e+01  1.975250e+06 -9.908000e+01]\n",
      " [ 8.100000e+01  1.493073e+06 -9.954000e+01]\n",
      " [ 6.800000e+01  1.063635e+06 -9.980000e+01]\n",
      " [ 9.700000e+01  1.017921e+06 -9.921000e+01]\n",
      " [ 2.900000e+01  1.206827e+06 -9.973000e+01]\n",
      " [ 6.100000e+01  1.217274e+06 -9.978000e+01]\n",
      " [ 7.300000e+01  1.933018e+06 -9.960000e+01]\n",
      " [ 8.600000e+01  1.325618e+06 -9.948000e+01]]\n",
      "[[-1.93765385  0.33481781 -0.62382688]\n",
      " [ 0.61615771 -0.93512067  0.67581245]\n",
      " [ 1.06206131  1.82180687  1.93213047]\n",
      " [ 0.45401094  0.34720663 -0.06064984]\n",
      " [-0.07296604 -0.96610649 -1.18700392]\n",
      " [ 1.10259801 -1.10590966  1.36895343]\n",
      " [-1.65389701 -0.52819477 -0.88375474]\n",
      " [-0.35672288 -0.49624561 -1.1003613 ]\n",
      " [ 0.12971741  1.6926524  -0.3205777 ]\n",
      " [ 0.6566944  -0.16490652  0.19927803]]\n"
     ]
    }
   ],
   "source": [
    "#YOUR TURN (10 minutes)\n",
    "#On the file in Teams (use copy past to transfer it in python), \n",
    "#tranform the three lists in a 10*3 matrix of standardized features\n",
    "l1 = [22, 85, 96, 81, 68, 97, 29, 61, 73, 86]\n",
    "l2 = [1489022, 1073767, 1975250, 1493073, 1063635, 1017921, 1206827, 1217274, 1933018, 1325618]\n",
    "l3 = [-99.67, -99.37, -99.08, -99.54, -99.8, -99.21, -99.73, -99.78, -99.6, -99.48]\n",
    "l1 = np.array(l1).reshape(-1,1)\n",
    "l2 = np.array(l2).reshape(-1,1)\n",
    "l3 = np.array(l3).reshape(-1,1)\n",
    "l = np.hstack([l1,l2,l3])\n",
    "print(l)\n",
    "scaler_f = skprepro.StandardScaler()\n",
    "l_stan = scaler_f.fit_transform(l)\n",
    "print(l_stan)"
   ]
  },
  {
   "cell_type": "code",
   "execution_count": 165,
   "metadata": {},
   "outputs": [
    {
     "name": "stdout",
     "output_type": "stream",
     "text": [
      "[[-157.47748455]]\n"
     ]
    }
   ],
   "source": [
    "#YOUR TURN (10 minutes)\n",
    "#Make a linear regression with the three features (l1, l2 and l3) and the label (l4)\n",
    "#with standardized features and label\n",
    "# what is the prediction of both model for fatures: [30, 1600000, -99.5]\n",
    "label = np.array([-182, -254.3,  -71  , -172, -261 , -262, -237, -231, -85, -204]).reshape(-1,1)\n",
    "scaler_l = skprepro.StandardScaler()\n",
    "label_stan = scaler_l.fit_transform(label)\n",
    "model = skmod.LinearRegression().fit(l_stan, label_stan)\n",
    "x_predict = [30, 1600000, -99.5]\n",
    "y_predict_stan = model.predict(scaler_f.transform(np.array([x_predict])))\n",
    "print(scaler_l.inverse_transform(y_predict_stan))"
   ]
  },
  {
   "cell_type": "code",
   "execution_count": null,
   "metadata": {},
   "outputs": [],
   "source": []
  }
 ],
 "metadata": {
  "kernelspec": {
   "display_name": "Python 3",
   "language": "python",
   "name": "python3"
  },
  "language_info": {
   "codemirror_mode": {
    "name": "ipython",
    "version": 3
   },
   "file_extension": ".py",
   "mimetype": "text/x-python",
   "name": "python",
   "nbconvert_exporter": "python",
   "pygments_lexer": "ipython3",
   "version": "3.8.3"
  }
 },
 "nbformat": 4,
 "nbformat_minor": 4
}
